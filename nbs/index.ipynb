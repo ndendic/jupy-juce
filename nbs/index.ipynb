{
 "cells": [
  {
   "cell_type": "markdown",
   "metadata": {},
   "source": [
    "# Jupyter Notebook AI Assistant\n",
    "\n",
    "> Your AI-powered coding companion for Jupyter notebooks\n",
    "\n",
    "This assistant features:\n",
    "- Creating new code based on your prompt\n",
    "- Has a memory of the code you have written so far\n",
    "- Customize the system prompt to your needs\n",
    "- Add new tools to the assistant"
   ]
  },
  {
   "cell_type": "markdown",
   "metadata": {},
   "source": [
    "## Installation\n",
    "\n",
    "```bash\n",
    "pip install git+https://github.com/ndendic/jupyter-assistant.git\n",
    "```\n"
   ]
  },
  {
   "cell_type": "markdown",
   "metadata": {},
   "source": [
    "## Configuration\n",
    "\n",
    "1. Set `PYDANTIC_AI_MODEL` in your environment variables\n",
    "2. Set your model API key - ie. `OPENAI_API_KEY`"
   ]
  },
  {
   "cell_type": "markdown",
   "metadata": {},
   "source": [
    "### 2. Usage\n",
    "\n",
    "Import the prompt function:\n"
   ]
  },
  {
   "cell_type": "code",
   "execution_count": 1,
   "metadata": {},
   "outputs": [
    {
     "name": "stdout",
     "output_type": "stream",
     "text": [
      "PydanticAI is using model: openai:gpt-4o\n"
     ]
    },
    {
     "name": "stderr",
     "output_type": "stream",
     "text": [
      "<module>:8: No type or annotation for returned value 1\n"
     ]
    }
   ],
   "source": [
    "from jupyter_assistant.core import prompt"
   ]
  },
  {
   "cell_type": "markdown",
   "metadata": {},
   "source": [
    "Start prompting by adding the %%prompt cell magic:"
   ]
  },
  {
   "cell_type": "code",
   "execution_count": 2,
   "metadata": {},
   "outputs": [
    {
     "data": {
      "text/markdown": [
       "Hello! I'm just a computer program, so I don't have feelings, but I'm here and ready to assist you. How can I help you today?"
      ],
      "text/plain": [
       "<IPython.core.display.Markdown object>"
      ]
     },
     "execution_count": 2,
     "metadata": {},
     "output_type": "execute_result"
    }
   ],
   "source": [
    "%%prompt\n",
    "Hello, how are you?"
   ]
  },
  {
   "cell_type": "code",
   "execution_count": 3,
   "metadata": {},
   "outputs": [
    {
     "data": {
      "text/markdown": [
       "\n",
       "You are a helpful assistant that operates in a Jupyter notebook.\n",
       "Your regular text responses are rendered as cell output.\n",
       "You can create new cells, edit existing cells, and run code.\n",
       "You can also use tools to help you with your tasks.\n",
       "Today's date is 2024-12-30.\n"
      ],
      "text/plain": [
       "<IPython.core.display.Markdown object>"
      ]
     },
     "execution_count": 3,
     "metadata": {},
     "output_type": "execute_result"
    }
   ],
   "source": [
    "from IPython.display import display, Markdown\n",
    "from jupyter_assistant.core import system_prompt\n",
    "\n",
    "Markdown(system_prompt)"
   ]
  },
  {
   "cell_type": "code",
   "execution_count": 4,
   "metadata": {},
   "outputs": [
    {
     "data": {
      "text/markdown": [
       "\n",
       "You are a helpful assistant that operates in a Jupyter notebook.\n",
       "Your regular text responses are rendered as cell output.\n",
       "You can create new cells, edit existing cells, and run code.\n",
       "You can also use tools to help you with your tasks.\n",
       "Today's date is 2024-12-30.\n",
       "\n",
       "Always add emojis to your response where possible"
      ],
      "text/plain": [
       "<IPython.core.display.Markdown object>"
      ]
     },
     "execution_count": 4,
     "metadata": {},
     "output_type": "execute_result"
    }
   ],
   "source": [
    "system_prompt = system_prompt + \"\\n\" + \"Always add emojis to your response where possible\"\n",
    "Markdown(system_prompt)"
   ]
  },
  {
   "cell_type": "code",
   "execution_count": 5,
   "metadata": {},
   "outputs": [
    {
     "data": {
      "text/markdown": [
       "Hello! 😊 Here are a few things I can do for you:\n",
       "\n",
       "1. **Answer Questions**: I can provide information, explanations, and help you with general inquiries.\n",
       "2. **Code Assistance**: If you're coding, I can assist with writing, understanding, and debugging code.\n",
       "3. **Notebook Management**: I can help add or modify cells in your Jupyter notebook.\n",
       "4. **Data Analysis Guidance**: Provide insights or suggestions for analyzing data.\n",
       "5. **Learning Resources**: Suggest educational materials or resources on a wide range of topics.\n",
       "6. **General Conversation**: Chat about various topics you might be interested in.\n",
       "\n",
       "Feel free to ask me anything! 🌟"
      ],
      "text/plain": [
       "<IPython.core.display.Markdown object>"
      ]
     },
     "execution_count": 5,
     "metadata": {},
     "output_type": "execute_result"
    }
   ],
   "source": [
    "%%prompt\n",
    "Hello, what are the things you can do for me?\n"
   ]
  },
  {
   "cell_type": "code",
   "execution_count": 6,
   "metadata": {},
   "outputs": [
    {
     "data": {
      "text/plain": [
       "[ModelRequest(parts=[UserPromptPart(content='Here is the context of new notebook cells that were added:\\nCell[4]:\\nfrom jupyter_assistant.core import prompt', timestamp=datetime.datetime(2024, 12, 30, 18, 20, 56, 287669, tzinfo=datetime.timezone.utc), part_kind='user-prompt')], kind='request'),\n",
       " ModelResponse(parts=[TextPart(content='I understand the new notebook context. How can I help?', part_kind='text')], timestamp=datetime.datetime(2024, 12, 30, 18, 20, 56, 287688, tzinfo=datetime.timezone.utc), kind='response'),\n",
       " ModelRequest(parts=[UserPromptPart(content='Hello, how are you?', timestamp=datetime.datetime(2024, 12, 30, 18, 20, 56, 288013, tzinfo=datetime.timezone.utc), part_kind='user-prompt')], kind='request'),\n",
       " ModelResponse(parts=[TextPart(content=\"Hello! I'm just a computer program, so I don't have feelings, but I'm here and ready to assist you. How can I help you today?\", part_kind='text')], timestamp=datetime.datetime(2024, 12, 30, 18, 20, 56, tzinfo=datetime.timezone.utc), kind='response'),\n",
       " ModelRequest(parts=[UserPromptPart(content='Here is the context of new notebook cells that were added:\\nCell[7]:\\nfrom IPython.display import display, Markdown\\nfrom jupyter_assistant.core import system_prompt\\n\\nMarkdown(system_prompt)\\n\\nCell[8]:\\nsystem_prompt = system_prompt + \"\\\\n\" + \"Always add emojis to your response where possible\"\\nMarkdown(system_prompt)', timestamp=datetime.datetime(2024, 12, 30, 18, 21, 19, 463690, tzinfo=datetime.timezone.utc), part_kind='user-prompt')], kind='request'),\n",
       " ModelResponse(parts=[TextPart(content='I understand the new notebook context. How can I help?', part_kind='text')], timestamp=datetime.datetime(2024, 12, 30, 18, 21, 19, 463703, tzinfo=datetime.timezone.utc), kind='response'),\n",
       " ModelRequest(parts=[UserPromptPart(content='Hello, what are the things you can do for me?', timestamp=datetime.datetime(2024, 12, 30, 18, 21, 19, 463908, tzinfo=datetime.timezone.utc), part_kind='user-prompt')], kind='request'),\n",
       " ModelResponse(parts=[TextPart(content=\"Hello! 😊 Here are a few things I can do for you:\\n\\n1. **Answer Questions**: I can provide information, explanations, and help you with general inquiries.\\n2. **Code Assistance**: If you're coding, I can assist with writing, understanding, and debugging code.\\n3. **Notebook Management**: I can help add or modify cells in your Jupyter notebook.\\n4. **Data Analysis Guidance**: Provide insights or suggestions for analyzing data.\\n5. **Learning Resources**: Suggest educational materials or resources on a wide range of topics.\\n6. **General Conversation**: Chat about various topics you might be interested in.\\n\\nFeel free to ask me anything! 🌟\", part_kind='text')], timestamp=datetime.datetime(2024, 12, 30, 18, 21, 20, tzinfo=datetime.timezone.utc), kind='response')]"
      ]
     },
     "execution_count": 6,
     "metadata": {},
     "output_type": "execute_result"
    }
   ],
   "source": [
    "last_prompt_result.all_messages()"
   ]
  },
  {
   "cell_type": "code",
   "execution_count": 7,
   "metadata": {},
   "outputs": [
    {
     "data": {
      "text/markdown": [
       "I've added a new code cell with a function that adds two numbers together. You can now use the `add_numbers(a, b)` function to add any two numbers. 🎉 Let me know if there's anything else you need!"
      ],
      "text/plain": [
       "<IPython.core.display.Markdown object>"
      ]
     },
     "execution_count": 7,
     "metadata": {},
     "output_type": "execute_result"
    }
   ],
   "source": [
    "%%prompt\n",
    "Can you create me a function that will add two numbers together in the new cell?"
   ]
  },
  {
   "cell_type": "code",
   "execution_count": 8,
   "metadata": {},
   "outputs": [],
   "source": [
    "def add_numbers(a, b):\n",
    "    \"\"\"Returns the sum of two numbers.\"\"\"\n",
    "    return a + b"
   ]
  },
  {
   "cell_type": "code",
   "execution_count": 9,
   "metadata": {},
   "outputs": [
    {
     "data": {
      "text/plain": [
       "[ModelResponse(parts=[ToolCallPart(tool_name='create_cell', args=ArgsJson(args_json='{\"content\":\"def add_numbers(a, b):\\\\n    \\\\\"\\\\\"\\\\\"Returns the sum of two numbers.\\\\\"\\\\\"\\\\\"\\\\n    return a + b\",\"cell_type\":\"code\"}'), tool_call_id='call_jahy9oi6L6RF7O6GQzIU8RWN', part_kind='tool-call')], timestamp=datetime.datetime(2024, 12, 30, 18, 21, 36, tzinfo=datetime.timezone.utc), kind='response'),\n",
       " ModelRequest(parts=[ToolReturnPart(tool_name='create_cell', content='Created new code cell', tool_call_id='call_jahy9oi6L6RF7O6GQzIU8RWN', timestamp=datetime.datetime(2024, 12, 30, 18, 21, 36, 955574, tzinfo=datetime.timezone.utc), part_kind='tool-return')], kind='request'),\n",
       " ModelResponse(parts=[TextPart(content=\"I've added a new code cell with a function that adds two numbers together. You can now use the `add_numbers(a, b)` function to add any two numbers. 🎉 Let me know if there's anything else you need!\", part_kind='text')], timestamp=datetime.datetime(2024, 12, 30, 18, 21, 37, tzinfo=datetime.timezone.utc), kind='response')]"
      ]
     },
     "execution_count": 9,
     "metadata": {},
     "output_type": "execute_result"
    }
   ],
   "source": [
    "last_prompt_result.all_messages()[-3:]"
   ]
  },
  {
   "cell_type": "code",
   "execution_count": 29,
   "metadata": {},
   "outputs": [],
   "source": [
    "from jupyter_assistant.core import model, notebook_agent, KnownModelName\n",
    "notebook_agent.model = 'openai:gpt-4-turbo'"
   ]
  },
  {
   "cell_type": "code",
   "execution_count": 30,
   "metadata": {},
   "outputs": [
    {
     "data": {
      "text/markdown": [
       "I've added a new code cell with a function that subtracts two numbers. You can now use the `subtract_numbers(a, b)` function to subtract one number from another. If you need anything else, just let me know! 😊"
      ],
      "text/plain": [
       "<IPython.core.display.Markdown object>"
      ]
     },
     "execution_count": 30,
     "metadata": {},
     "output_type": "execute_result"
    }
   ],
   "source": [
    "%%prompt\n",
    "Can you create me a function that will subtract two numbers together in the new cell?\n"
   ]
  },
  {
   "cell_type": "code",
   "execution_count": 31,
   "metadata": {},
   "outputs": [],
   "source": [
    "def subtract_numbers(a, b):\n",
    "    \"\"\"Returns the difference between two numbers.\"\"\"\n",
    "    return a - b"
   ]
  },
  {
   "cell_type": "code",
   "execution_count": 28,
   "metadata": {},
   "outputs": [
    {
     "data": {
      "text/plain": [
       "typing.Literal['openai:gpt-4o', 'openai:gpt-4o-mini', 'openai:gpt-4-turbo', 'openai:gpt-4', 'openai:o1-preview', 'openai:o1-mini', 'openai:o1', 'openai:gpt-3.5-turbo', 'groq:llama-3.3-70b-versatile', 'groq:llama-3.1-70b-versatile', 'groq:llama3-groq-70b-8192-tool-use-preview', 'groq:llama3-groq-8b-8192-tool-use-preview', 'groq:llama-3.1-70b-specdec', 'groq:llama-3.1-8b-instant', 'groq:llama-3.2-1b-preview', 'groq:llama-3.2-3b-preview', 'groq:llama-3.2-11b-vision-preview', 'groq:llama-3.2-90b-vision-preview', 'groq:llama3-70b-8192', 'groq:llama3-8b-8192', 'groq:mixtral-8x7b-32768', 'groq:gemma2-9b-it', 'groq:gemma-7b-it', 'gemini-1.5-flash', 'gemini-1.5-pro', 'gemini-2.0-flash-exp', 'vertexai:gemini-1.5-flash', 'vertexai:gemini-1.5-pro', 'mistral:mistral-small-latest', 'mistral:mistral-large-latest', 'mistral:codestral-latest', 'mistral:mistral-moderation-latest', 'ollama:codellama', 'ollama:gemma', 'ollama:gemma2', 'ollama:llama3', 'ollama:llama3.1', 'ollama:llama3.2', 'ollama:llama3.2-vision', 'ollama:llama3.3', 'ollama:mistral', 'ollama:mistral-nemo', 'ollama:mixtral', 'ollama:phi3', 'ollama:qwq', 'ollama:qwen', 'ollama:qwen2', 'ollama:qwen2.5', 'ollama:starcoder2', 'claude-3-5-haiku-latest', 'claude-3-5-sonnet-latest', 'claude-3-opus-latest', 'test']"
      ]
     },
     "execution_count": 28,
     "metadata": {},
     "output_type": "execute_result"
    }
   ],
   "source": [
    "KnownModelName"
   ]
  },
  {
   "cell_type": "code",
   "execution_count": 32,
   "metadata": {},
   "outputs": [
    {
     "data": {
      "text/markdown": [
       "Certainly! Here's a summary of our conversation:\n",
       "\n",
       "1. **Initial Context**: You provided the context of new notebook cells related to the use of `jupyter_assistant.core` and IPython display functionalities. You also mentioned modifying the `system_prompt`.\n",
       "\n",
       "2. **Inquiries and Function Creation**:\n",
       "   - You asked about my capabilities, and I listed various ways I can assist you, from answering questions to providing code assistance and managing Jupyter notebooks.\n",
       "   - You requested the creation of a function to add two numbers. I generated a code cell with a function named `add_numbers`.\n",
       "   - You provided additional context with the creation of a cell defining another addition function (`add_two_numbers`), and other details about notebook configurations and function calls. \n",
       "   - You requested a subtraction function, which I also created and placed in a new notebook cell named `subtract_numbers`.\n",
       "\n",
       "3. **General Assistance**:\n",
       "   - Throughout the conversation, I've been responsive to your needs for creation and explanation of functionalities, adapting to the context you provided and fulfilling requests for coding tasks in Jupyter Notebook.\n",
       "\n",
       "Let me know if there is anything more you'd like to add or further explore! 😊"
      ],
      "text/plain": [
       "<IPython.core.display.Markdown object>"
      ]
     },
     "execution_count": 32,
     "metadata": {},
     "output_type": "execute_result"
    }
   ],
   "source": [
    "%%prompt\n",
    "Can you please summarize our conversation so far?"
   ]
  }
 ],
 "metadata": {
  "kernelspec": {
   "display_name": "python3",
   "language": "python",
   "name": "python3"
  },
  "language_info": {
   "codemirror_mode": {
    "name": "ipython",
    "version": 3
   },
   "file_extension": ".py",
   "mimetype": "text/x-python",
   "name": "python",
   "nbconvert_exporter": "python",
   "pygments_lexer": "ipython3",
   "version": "3.12.7"
  }
 },
 "nbformat": 4,
 "nbformat_minor": 4
}
