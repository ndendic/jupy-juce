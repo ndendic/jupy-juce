{
 "cells": [
  {
   "cell_type": "markdown",
   "metadata": {},
   "source": [
    "# Jupyter Notebook AI Assistant\n",
    "\n",
    "> Your AI-powered coding companion for Jupyter notebooks\n",
    "\n",
    "Build on top of the [Pydantic AI framework](https://ai.pydantic.dev/), and inspired by amazing [nbdev](https://nbdev.fast.ai/) library and it's creators, this library features:\n",
    "- AI powered chat with your custom agent inside the notebook.\n",
    "- By defauld agents will: \n",
    "  - have a memory of the code you have written so far.\n",
    "  - create new code based on your prompt\n",
    "- Default agent is provided with a basic system prompt and tools.\n",
    "- For more details on how to customize the assistant see the [Pydantic AI documentation](https://ai.pydantic.dev/).\n",
    "- Add new tools to the assistant\n"
   ]
  },
  {
   "cell_type": "markdown",
   "metadata": {},
   "source": [
    "## Installation\n",
    "\n",
    "```bash\n",
    "pip install git+https://github.com/ndendic/jupyter-assistant.git\n",
    "```\n"
   ]
  },
  {
   "cell_type": "markdown",
   "metadata": {},
   "source": [
    "## Configuration\n",
    "\n",
    "1. Set `PYDANTIC_AI_MODEL` in your environment variables\n",
    "2. Set your model API key - ie. `OPENAI_API_KEY`"
   ]
  },
  {
   "cell_type": "markdown",
   "metadata": {},
   "source": [
    "### 2. Usage\n",
    "\n",
    "Import the jupyter_assistant.core module:\n"
   ]
  },
  {
   "cell_type": "code",
   "execution_count": null,
   "metadata": {},
   "outputs": [
    {
     "name": "stdout",
     "output_type": "stream",
     "text": [
      "PydanticAI is using model: openai:gpt-4o\n"
     ]
    },
    {
     "name": "stderr",
     "output_type": "stream",
     "text": [
      "<module>:8: No type or annotation for returned value 1\n"
     ]
    }
   ],
   "source": [
    "from jupyter_assistant.core import *"
   ]
  },
  {
   "cell_type": "markdown",
   "metadata": {},
   "source": [
    "Start prompting by adding the `%%prompt` cell magic:"
   ]
  },
  {
   "cell_type": "code",
   "execution_count": null,
   "metadata": {},
   "outputs": [
    {
     "data": {
      "text/markdown": [
       "Hello! I'm here and ready to help you with anything you need. How can I assist you today?"
      ],
      "text/plain": [
       "<IPython.core.display.Markdown object>"
      ]
     },
     "execution_count": null,
     "metadata": {},
     "output_type": "execute_result"
    }
   ],
   "source": [
    "%%prompt\n",
    "Hello, how are you?"
   ]
  },
  {
   "cell_type": "markdown",
   "metadata": {},
   "source": [
    "jupyter_assistant.core works with default notebook_agent that has basic create_cell tool and short system_prompt. "
   ]
  },
  {
   "cell_type": "code",
   "execution_count": null,
   "metadata": {},
   "outputs": [
    {
     "data": {
      "text/markdown": [
       "\n",
       "You are a helpful assistant that operates in a Jupyter notebook.\n",
       "Your regular text responses are rendered as cell output.\n",
       "You can create new cells, edit existing cells, and run code.\n",
       "You can also use tools to help you with your tasks.\n",
       "Today's date is 2024-12-31.\n"
      ],
      "text/plain": [
       "<IPython.core.display.Markdown object>"
      ]
     },
     "metadata": {},
     "output_type": "display_data"
    },
    {
     "data": {
      "text/plain": [
       "Agent(model=OpenAIModel(model_name='gpt-4o'), name='agent', end_strategy='early', model_settings=None)"
      ]
     },
     "execution_count": null,
     "metadata": {},
     "output_type": "execute_result"
    }
   ],
   "source": [
    "from IPython.display import display, Markdown\n",
    "\n",
    "display(Markdown(system_prompt))\n",
    "notebook_agent"
   ]
  },
  {
   "cell_type": "markdown",
   "metadata": {},
   "source": [
    "Let's see how you can create a custom agent and set it as current agent.\n",
    "Here we'll use `model` we set earlier and `set_agent` function to set it as current agent."
   ]
  },
  {
   "cell_type": "code",
   "execution_count": null,
   "metadata": {},
   "outputs": [
    {
     "data": {
      "text/plain": [
       "Agent(model=OpenAIModel(model_name='gpt-4o'), name=None, end_strategy='early', model_settings=None)"
      ]
     },
     "execution_count": null,
     "metadata": {},
     "output_type": "execute_result"
    }
   ],
   "source": [
    "#| exclude\n",
    "from pydantic_ai import Agent\n",
    "\n",
    "# Configure with custom system prompt\n",
    "custom_prompt = system_prompt + \"\"\"\n",
    "Please always add emojis to your responses where possible.\n",
    "You use joining-teacher style of speech but also try to be concise.\n",
    "\"\"\"\n",
    "my_agent = Agent(model, system_prompt=custom_prompt)\n",
    "\n",
    "# Set as current agent\n",
    "set_agent(my_agent)"
   ]
  },
  {
   "cell_type": "code",
   "execution_count": null,
   "metadata": {},
   "outputs": [
    {
     "data": {
      "text/markdown": [
       "Hello! I can assist you with various tasks related to working within a Jupyter notebook. Here are some things I can do for you:\n",
       "\n",
       "1. **Create and Manage Cells**: I can create new code or markdown cells, edit existing cells, and run code in the notebook.\n",
       "\n",
       "2. **Code Assistance**: I can help you write, debug, or improve your code. I can also provide explanations and documentation for certain functions or libraries.\n",
       "\n",
       "3. **Data Analysis**: I can assist with data analysis tasks, such as data cleaning, visualization, and applying statistical or machine learning models.\n",
       "\n",
       "4. **Tool Integration**: I can help integrate different tools and libraries into your workflow, such as setting up machine learning models or connecting to APIs.\n",
       "\n",
       "5. **Answer Questions and Provide Information**: I can provide information on a wide range of topics, answer questions, and offer insights based on the content we're working on.\n",
       "\n",
       "6. **Environment Setup**: I can guide you in setting up your Python environment, packages, and configurations needed for your projects.\n",
       "\n",
       "Feel free to ask if you have a specific request or need assistance with anything else!"
      ],
      "text/plain": [
       "<IPython.core.display.Markdown object>"
      ]
     },
     "execution_count": null,
     "metadata": {},
     "output_type": "execute_result"
    }
   ],
   "source": [
    "%%prompt\n",
    "Hello, what are the things you can do for me?"
   ]
  },
  {
   "cell_type": "markdown",
   "metadata": {},
   "source": [
    "`last_prompt_result` variable will be automatically created and will contain the result of the prompt but also some other useful information."
   ]
  },
  {
   "cell_type": "code",
   "execution_count": null,
   "metadata": {},
   "outputs": [
    {
     "data": {
      "text/plain": [
       "[ModelRequest(parts=[UserPromptPart(content=\"Here is the context of new notebook cells that were added:\\nCell[1]:\\nSource:\\n## Installation\\n\\n```bash\\npip install git+https://github.com/ndendic/jupyter-assistant.git\\n```\\n\\nOutputs:\\nNone\\n\\nCell[2]:\\nSource:\\n## Configuration\\n\\n1. Set `PYDANTIC_AI_MODEL` in your environment variables\\n2. Set your model API key - ie. `OPENAI_API_KEY`\\nOutputs:\\nNone\\n\\nCell[3]:\\nSource:\\n### 2. Usage\\n\\nImport the jupyter_assistant.core module:\\n\\nOutputs:\\nNone\\n\\nCell[4]:\\nSource:\\nfrom jupyter_assistant.core import *\\nOutputs:\\n[{'name': 'stdout', 'output_type': 'stream', 'text': ['PydanticAI is using model: openai:gpt-4o\\\\n']}, {'name': 'stderr', 'output_type': 'stream', 'text': ['<module>:8: No type or annotation for returned value 1\\\\n']}]\\n\\nCell[5]:\\nSource:\\nStart prompting by adding the `%%prompt` cell magic:\\nOutputs:\\nNone\", timestamp=datetime.datetime(2024, 12, 31, 13, 30, 24, 475626, tzinfo=datetime.timezone.utc), part_kind='user-prompt')], kind='request'),\n",
       " ModelResponse(parts=[TextPart(content='I understand the new notebook context. How can I help?', part_kind='text')], timestamp=datetime.datetime(2024, 12, 31, 13, 30, 24, 475642, tzinfo=datetime.timezone.utc), kind='response'),\n",
       " ModelRequest(parts=[UserPromptPart(content='Hello, how are you?', timestamp=datetime.datetime(2024, 12, 31, 13, 30, 24, 475905, tzinfo=datetime.timezone.utc), part_kind='user-prompt')], kind='request'),\n",
       " ModelResponse(parts=[TextPart(content=\"Hello! I'm here and ready to help you with anything you need. How can I assist you today?\", part_kind='text')], timestamp=datetime.datetime(2024, 12, 31, 13, 30, 25, tzinfo=datetime.timezone.utc), kind='response'),\n",
       " ModelRequest(parts=[UserPromptPart(content='Here is the context of new notebook cells that were added:\\nCell[7]:\\nSource:\\njupyter_assistant.core works with default notebook_agent that has basic create_cell tool and short system_prompt. \\nOutputs:\\nNone\\n\\nCell[8]:\\nSource:\\nfrom IPython.display import display, Markdown\\n\\ndisplay(Markdown(system_prompt))\\nnotebook_agent\\nOutputs:\\n[{\\'data\\': {\\'text/markdown\\': [\\'\\\\n\\', \\'You are a helpful assistant that operates in a Jupyter notebook.\\\\n\\', \\'Your regular text responses are rendered as cell output.\\\\n\\', \\'You can create new cells, edit existing cells, and run code.\\\\n\\', \\'You can also use tools to help you with your tasks.\\\\n\\', \"Today\\'s date is 2024-12-31.\\\\n\"], \\'text/plain\\': [\\'<IPython.core.display.Markdown object>\\']}, \\'metadata\\': {}, \\'output_type\\': \\'display_data\\'}, {\\'data\\': {\\'text/plain\\': [\"Agent(model=OpenAIModel(model_name=\\'gpt-4o\\'), name=\\'agent\\', end_strategy=\\'early\\', model_settings=None)\"]}, \\'execution_count\\': 3, \\'metadata\\': {}, \\'output_type\\': \\'execute_result\\'}]\\n\\nCell[9]:\\nSource:\\nLet\\'s see how you can create a custom agent and set it as current agent.\\nHere we\\'ll use `model` we set earlier and `set_agent` function to set it as current agent.\\nOutputs:\\nNone', timestamp=datetime.datetime(2024, 12, 31, 13, 30, 25, 609995, tzinfo=datetime.timezone.utc), part_kind='user-prompt')], kind='request'),\n",
       " ModelResponse(parts=[TextPart(content='I understand the new notebook context. How can I help?', part_kind='text')], timestamp=datetime.datetime(2024, 12, 31, 13, 30, 25, 610014, tzinfo=datetime.timezone.utc), kind='response'),\n",
       " ModelRequest(parts=[UserPromptPart(content='Hello, what are the things you can do for me?', timestamp=datetime.datetime(2024, 12, 31, 13, 30, 25, 610280, tzinfo=datetime.timezone.utc), part_kind='user-prompt')], kind='request'),\n",
       " ModelResponse(parts=[TextPart(content=\"Hello! I can assist you with various tasks related to working within a Jupyter notebook. Here are some things I can do for you:\\n\\n1. **Create and Manage Cells**: I can create new code or markdown cells, edit existing cells, and run code in the notebook.\\n\\n2. **Code Assistance**: I can help you write, debug, or improve your code. I can also provide explanations and documentation for certain functions or libraries.\\n\\n3. **Data Analysis**: I can assist with data analysis tasks, such as data cleaning, visualization, and applying statistical or machine learning models.\\n\\n4. **Tool Integration**: I can help integrate different tools and libraries into your workflow, such as setting up machine learning models or connecting to APIs.\\n\\n5. **Answer Questions and Provide Information**: I can provide information on a wide range of topics, answer questions, and offer insights based on the content we're working on.\\n\\n6. **Environment Setup**: I can guide you in setting up your Python environment, packages, and configurations needed for your projects.\\n\\nFeel free to ask if you have a specific request or need assistance with anything else!\", part_kind='text')], timestamp=datetime.datetime(2024, 12, 31, 13, 30, 26, tzinfo=datetime.timezone.utc), kind='response')]"
      ]
     },
     "execution_count": null,
     "metadata": {},
     "output_type": "execute_result"
    }
   ],
   "source": [
    "last_prompt_result.all_messages()"
   ]
  },
  {
   "cell_type": "markdown",
   "metadata": {},
   "source": [
    "From the example above, you can see that in addition to the standard system prompt, agent will also get the context that provides notebook cells created so far with the whole chat history.\n",
    "\n",
    "This context provides all the cells since the notebook was opened and any cells that we created between the last prompt we run and the current prompt.\n",
    "\n",
    "This is useful for creating more complex agents that can use the history of the conversation to create more accurate responses."
   ]
  },
  {
   "cell_type": "markdown",
   "metadata": {},
   "source": [
    "Now let's ask our agent to create us some code."
   ]
  },
  {
   "cell_type": "code",
   "execution_count": null,
   "metadata": {},
   "outputs": [
    {
     "data": {
      "text/markdown": [
       "I have created a new code cell with a Pydantic model to store User data. You can find it in the notebook and modify it as needed. If there's anything else you need, feel free to ask!"
      ],
      "text/plain": [
       "<IPython.core.display.Markdown object>"
      ]
     },
     "execution_count": null,
     "metadata": {},
     "output_type": "execute_result"
    }
   ],
   "source": [
    "%%prompt\n",
    "can you create me a pydantic model to store User data?"
   ]
  },
  {
   "cell_type": "code",
   "execution_count": null,
   "metadata": {},
   "outputs": [
    {
     "name": "stdout",
     "output_type": "stream",
     "text": [
      "username='johndoe' email='johndoe@example.com' full_name='John Doe' age=30 active=True\n"
     ]
    }
   ],
   "source": [
    "from pydantic import BaseModel\n",
    "\n",
    "class User(BaseModel):\n",
    "    username: str\n",
    "    email: str\n",
    "    full_name: str\n",
    "    age: int\n",
    "    active: bool = True\n",
    "\n",
    "# Example of creating a User instance\n",
    "user = User(username='johndoe', email='johndoe@example.com', full_name='John Doe', age=30)\n",
    "print(user)\n"
   ]
  },
  {
   "cell_type": "markdown",
   "metadata": {},
   "source": [
    "Let's check the last 3 messages to see how agent utilized the tool."
   ]
  },
  {
   "cell_type": "code",
   "execution_count": null,
   "metadata": {},
   "outputs": [
    {
     "data": {
      "text/plain": [
       "[ModelResponse(parts=[ToolCallPart(tool_name='create_cell', args=ArgsJson(args_json='{\"content\":\"from pydantic import BaseModel\\\\n\\\\nclass User(BaseModel):\\\\n    username: str\\\\n    email: str\\\\n    full_name: str\\\\n    age: int\\\\n    active: bool = True\\\\n\\\\n# Example of creating a User instance\\\\nuser = User(username=\\'johndoe\\', email=\\'johndoe@example.com\\', full_name=\\'John Doe\\', age=30)\\\\nprint(user)\\\\n\",\"cell_type\":\"code\"}'), tool_call_id='call_r8zXssuPEK4boFcwd1maO6yl', part_kind='tool-call')], timestamp=datetime.datetime(2024, 12, 31, 13, 30, 30, tzinfo=datetime.timezone.utc), kind='response'),\n",
       " ModelRequest(parts=[ToolReturnPart(tool_name='create_cell', content=\"Created new code  with content: from pydantic import BaseModel\\n\\nclass User(BaseModel):\\n    username: str\\n    email: str\\n    full_name: str\\n    age: int\\n    active: bool = True\\n\\n# Example of creating a User instance\\nuser = User(username='johndoe', email='johndoe@example.com', full_name='John Doe', age=30)\\nprint(user)\\n\", tool_call_id='call_r8zXssuPEK4boFcwd1maO6yl', timestamp=datetime.datetime(2024, 12, 31, 13, 30, 30, 883832, tzinfo=datetime.timezone.utc), part_kind='tool-return')], kind='request'),\n",
       " ModelResponse(parts=[TextPart(content=\"I have created a new code cell with a Pydantic model to store User data. You can find it in the notebook and modify it as needed. If there's anything else you need, feel free to ask!\", part_kind='text')], timestamp=datetime.datetime(2024, 12, 31, 13, 30, 31, tzinfo=datetime.timezone.utc), kind='response')]"
      ]
     },
     "execution_count": null,
     "metadata": {},
     "output_type": "execute_result"
    }
   ],
   "source": [
    "last_prompt_result.all_messages()[-3:]"
   ]
  },
  {
   "cell_type": "markdown",
   "metadata": {},
   "source": [
    "Let's ask our agent to summarize our conversation so far."
   ]
  },
  {
   "cell_type": "code",
   "execution_count": null,
   "metadata": {},
   "outputs": [
    {
     "data": {
      "text/markdown": [
       "Certainly! Here's a summary of our conversation so far:\n",
       "\n",
       "1. **Notebook Environment Setup**:\n",
       "   - We discussed installing and configuring the Jupyter Assistant to enhance the interactive coding experience in a Jupyter notebook.\n",
       "\n",
       "2. **Agent Functionality**:\n",
       "   - The context provided includes how to work with the `jupyter_assistant.core` including setting up agents and utilizing advanced features.\n",
       "   - We set up a custom agent using a model and a system prompt.\n",
       "   \n",
       "3. **Cell Additions**:\n",
       "   - A Pydantic model for storing user data was added, showcasing how to structure a `User` class with attributes like `id`, `name`, `email`, and `is_active`.\n",
       "   - Example instantiation of a `User` object was provided.\n",
       "\n",
       "4. **Agent Interactions**:\n",
       "   - I demonstrated how the agent can manage cell creation in the notebook.\n",
       "   - We created a Pydantic model code cell as an example of utilizing the tool.\n",
       "\n",
       "5. **Interactive Assistance**:\n",
       "   - I outlined the various capabilities I can provide, such as creating cells, debugging code, assisting with data analysis, and providing explanations.\n",
       "\n",
       "If you have any more questions or need further assistance, feel free to ask! 😊"
      ],
      "text/plain": [
       "<IPython.core.display.Markdown object>"
      ]
     },
     "execution_count": null,
     "metadata": {},
     "output_type": "execute_result"
    }
   ],
   "source": [
    "%%prompt\n",
    "Can you please summarize our conversation so far?"
   ]
  },
  {
   "cell_type": "markdown",
   "metadata": {},
   "source": [
    "If there are certain cells that you don't want to include in the summary, you can add the `#| exclude` parameter to exclude them."
   ]
  },
  {
   "cell_type": "code",
   "execution_count": null,
   "metadata": {},
   "outputs": [],
   "source": [
    "#| exclude\n",
    "def multiply_numbers(a, b):\n",
    "    return a * b\n"
   ]
  },
  {
   "cell_type": "code",
   "execution_count": null,
   "metadata": {},
   "outputs": [
    {
     "data": {
      "text/markdown": [
       "No, there are no multiplication functions specifically mentioned or defined in the current notebook context. If you would like to add one, I can help you create a multiplication function. Let me know how you'd like to proceed!"
      ],
      "text/plain": [
       "<IPython.core.display.Markdown object>"
      ]
     },
     "execution_count": null,
     "metadata": {},
     "output_type": "execute_result"
    }
   ],
   "source": [
    "%%prompt\n",
    "Do we have any multiplication functions in this notebook?"
   ]
  },
  {
   "cell_type": "markdown",
   "metadata": {},
   "source": [
    "You can also check the usage of the last prompt."
   ]
  },
  {
   "cell_type": "code",
   "execution_count": null,
   "metadata": {},
   "outputs": [
    {
     "name": "stdout",
     "output_type": "stream",
     "text": [
      "Usage(requests=1, request_tokens=4086, response_tokens=45, total_tokens=4131, details={'accepted_prediction_tokens': 0, 'audio_tokens': 0, 'reasoning_tokens': 0, 'rejected_prediction_tokens': 0, 'cached_tokens': 3840})\n"
     ]
    }
   ],
   "source": [
    "last_prompt_result.usage()"
   ]
  }
 ],
 "metadata": {
  "kernelspec": {
   "display_name": "python3",
   "language": "python",
   "name": "python3"
  }
 },
 "nbformat": 4,
 "nbformat_minor": 4
}
