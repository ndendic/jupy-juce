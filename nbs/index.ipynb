{
 "cells": [
  {
   "cell_type": "markdown",
   "metadata": {},
   "source": [
    "# Jupyter Notebook AI Assistant\n",
    "\n",
    "> Your AI-powered coding companion for Jupyter notebooks\n",
    "\n",
    "This assistant features:\n",
    "- Creating new code based on your prompt\n",
    "- Has a memory of the code you have written so far\n",
    "- Customize the system prompt to your needs\n",
    "- Add new tools to the assistant"
   ]
  },
  {
   "cell_type": "markdown",
   "metadata": {},
   "source": [
    "## Installation\n",
    "\n",
    "```bash\n",
    "pip install git+https://github.com/ndendic/jupyter-assistant.git\n",
    "```\n"
   ]
  },
  {
   "cell_type": "markdown",
   "metadata": {},
   "source": [
    "### 2. Usage\n",
    "\n",
    "Import the prompt function:\n"
   ]
  },
  {
   "cell_type": "code",
   "execution_count": 1,
   "metadata": {},
   "outputs": [
    {
     "name": "stdout",
     "output_type": "stream",
     "text": [
      "PydanticAI is using model: openai:gpt-4o\n"
     ]
    },
    {
     "name": "stderr",
     "output_type": "stream",
     "text": [
      "<module>:8: No type or annotation for returned value 1\n"
     ]
    }
   ],
   "source": [
    "from jupyter_assistant.core import prompt\n"
   ]
  },
  {
   "cell_type": "markdown",
   "metadata": {},
   "source": [
    "Start prompting by adding the %%prompt cell magic:"
   ]
  },
  {
   "cell_type": "code",
   "execution_count": 2,
   "metadata": {},
   "outputs": [
    {
     "data": {
      "text/markdown": [
       "Hello! I'm here and ready to help you. How can I assist you today?"
      ],
      "text/plain": [
       "<IPython.core.display.Markdown object>"
      ]
     },
     "execution_count": 2,
     "metadata": {},
     "output_type": "execute_result"
    }
   ],
   "source": [
    "%%prompt\n",
    "Hello, how are you?"
   ]
  },
  {
   "cell_type": "markdown",
   "metadata": {},
   "source": [
    "## How It Works\n",
    "\n",
    "1. **Write Your Code**: Write code in notebook cells as usual\n",
    "\n",
    "2. **Ask for Help**: Use `assistant.chat()` to:\n",
    "   - Create new code: `\"Create a function that...\"` \n",
    "   - Improve code: `\"Can you improve this by...\"` \n",
    "   - Fix errors: `\"Help me fix...\"` \n",
    "   - Add features: `\"Add a feature to...\"` \n",
    "\n",
    "3. **Execute and Iterate**: \n",
    "   - The assistant creates or modifies cells\n",
    "   - Run the cells to test the code\n",
    "   - Ask for more improvements if needed\n",
    "\n",
    "The assistant maintains context across cells, understanding your code's evolution and building upon previous work."
   ]
  }
 ],
 "metadata": {
  "kernelspec": {
   "display_name": "python3",
   "language": "python",
   "name": "python3"
  },
  "language_info": {
   "codemirror_mode": {
    "name": "ipython",
    "version": 3
   },
   "file_extension": ".py",
   "mimetype": "text/x-python",
   "name": "python",
   "nbconvert_exporter": "python",
   "pygments_lexer": "ipython3",
   "version": "3.12.7"
  }
 },
 "nbformat": 4,
 "nbformat_minor": 4
}
