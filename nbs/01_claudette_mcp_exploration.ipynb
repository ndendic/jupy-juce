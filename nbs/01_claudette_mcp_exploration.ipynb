{
 "cells": [
  {
   "cell_type": "code",
   "execution_count": 1,
   "metadata": {},
   "outputs": [],
   "source": [
    "#| correct this below to export cells\n",
    "#| default_exp mcp"
   ]
  },
  {
   "cell_type": "code",
   "execution_count": 2,
   "metadata": {},
   "outputs": [],
   "source": [
    "#| hide\n",
    "from nbdev.showdoc import *"
   ]
  },
  {
   "cell_type": "code",
   "execution_count": 3,
   "metadata": {},
   "outputs": [],
   "source": [
    "#| export\n",
    "from claudette import *\n",
    "import os\n",
    "os.environ['ANTHROPIC_LOG'] = 'debug'\n"
   ]
  },
  {
   "cell_type": "code",
   "execution_count": 4,
   "metadata": {},
   "outputs": [
    {
     "data": {
      "text/markdown": [
       "Hello Nikola, it's nice to meet you. How can I assist you today?\n",
       "\n",
       "<details>\n",
       "\n",
       "- id: `msg_01Y4E4m7rVoLhRWB136ZhGCc`\n",
       "- content: `[{'text': \"Hello Nikola, it's nice to meet you. How can I assist you today?\", 'type': 'text'}]`\n",
       "- model: `claude-3-5-sonnet-20240620`\n",
       "- role: `assistant`\n",
       "- stop_reason: `end_turn`\n",
       "- stop_sequence: `None`\n",
       "- type: `message`\n",
       "- usage: `{'cache_creation_input_tokens': 0, 'cache_read_input_tokens': 0, 'input_tokens': 21, 'output_tokens': 22}`\n",
       "\n",
       "</details>"
      ],
      "text/plain": [
       "Message(id='msg_01Y4E4m7rVoLhRWB136ZhGCc', content=[TextBlock(text=\"Hello Nikola, it's nice to meet you. How can I assist you today?\", type='text')], model='claude-3-5-sonnet-20240620', role='assistant', stop_reason='end_turn', stop_sequence=None, type='message', usage=In: 21; Out: 22; Cache create: 0; Cache read: 0; Total: 43)"
      ]
     },
     "execution_count": 4,
     "metadata": {},
     "output_type": "execute_result"
    }
   ],
   "source": [
    "model = models[1]\n",
    "chat = Chat(model, sp=\"\"\"You are a helpful and concise assistant.\"\"\")\n",
    "chat(\"I'm Nikola\")"
   ]
  },
  {
   "cell_type": "code",
   "execution_count": 5,
   "metadata": {},
   "outputs": [
    {
     "data": {
      "text/markdown": [
       "According to Douglas Adams,  the meaning of life is 42. Philosophers have debated this question for millennia. Common perspectives include:\n",
       "\n",
       "1. Finding personal happiness\n",
       "2. Serving others\n",
       "3. Pursuing knowledge\n",
       "4. Creating meaning through our choices\n",
       "5. Fulfilling a divine purpose\n",
       "\n",
       "Ultimately, many believe the meaning of life is subjective and self-determined.\n",
       "\n",
       "<details>\n",
       "\n",
       "- id: `msg_011xKMYiWstWjWYLUXmKYSgU`\n",
       "- content: `[{'text': 'According to Douglas Adams,  the meaning of life is 42. Philosophers have debated this question for millennia. Common perspectives include:\\n\\n1. Finding personal happiness\\n2. Serving others\\n3. Pursuing knowledge\\n4. Creating meaning through our choices\\n5. Fulfilling a divine purpose\\n\\nUltimately, many believe the meaning of life is subjective and self-determined.', 'type': 'text'}]`\n",
       "- model: `claude-3-5-sonnet-20240620`\n",
       "- role: `assistant`\n",
       "- stop_reason: `end_turn`\n",
       "- stop_sequence: `None`\n",
       "- type: `message`\n",
       "- usage: `{'cache_creation_input_tokens': 0, 'cache_read_input_tokens': 0, 'input_tokens': 63, 'output_tokens': 80}`\n",
       "\n",
       "</details>"
      ],
      "text/plain": [
       "Message(id='msg_011xKMYiWstWjWYLUXmKYSgU', content=[TextBlock(text='According to Douglas Adams,  the meaning of life is 42. Philosophers have debated this question for millennia. Common perspectives include:\\n\\n1. Finding personal happiness\\n2. Serving others\\n3. Pursuing knowledge\\n4. Creating meaning through our choices\\n5. Fulfilling a divine purpose\\n\\nUltimately, many believe the meaning of life is subjective and self-determined.', type='text')], model='claude-3-5-sonnet-20240620', role='assistant', stop_reason='end_turn', stop_sequence=None, type='message', usage=In: 63; Out: 80; Cache create: 0; Cache read: 0; Total: 143)"
      ]
     },
     "execution_count": 5,
     "metadata": {},
     "output_type": "execute_result"
    }
   ],
   "source": [
    "chat(\"Concisely, what is the meaning of life?\",\n",
    "     prefill='According to Douglas Adams,')"
   ]
  },
  {
   "cell_type": "code",
   "execution_count": 6,
   "metadata": {},
   "outputs": [
    {
     "data": {
      "text/markdown": [
       "The purpose of Jupy-Juice, based on the README, is to provide an AI-powered coding companion for Jupyter notebooks. Key features include:\n",
       "\n",
       "1. AI-powered chat with custom agents inside notebooks\n",
       "2. Agents with memory of previously written code\n",
       "3. Ability to create new code based on user prompts\n",
       "4. Customizable assistants and tools\n",
       "5. Built on the Pydantic AI framework\n",
       "6. Inspired by the nbdev library\n",
       "\n",
       "The project aims to enhance the Jupyter notebook experience by integrating AI assistance directly into the workflow.\n",
       "\n",
       "<details>\n",
       "\n",
       "- id: `msg_01EaTNDPZ3Mj95RkMH7ZbK2t`\n",
       "- content: `[{'text': 'The purpose of Jupy-Juice, based on the README, is to provide an AI-powered coding companion for Jupyter notebooks. Key features include:\\n\\n1. AI-powered chat with custom agents inside notebooks\\n2. Agents with memory of previously written code\\n3. Ability to create new code based on user prompts\\n4. Customizable assistants and tools\\n5. Built on the Pydantic AI framework\\n6. Inspired by the nbdev library\\n\\nThe project aims to enhance the Jupyter notebook experience by integrating AI assistance directly into the workflow.', 'type': 'text'}]`\n",
       "- model: `claude-3-5-sonnet-20240620`\n",
       "- role: `assistant`\n",
       "- stop_reason: `end_turn`\n",
       "- stop_sequence: `None`\n",
       "- type: `message`\n",
       "- usage: `{'cache_creation_input_tokens': 4507, 'cache_read_input_tokens': 0, 'input_tokens': 4, 'output_tokens': 126}`\n",
       "\n",
       "</details>"
      ],
      "text/plain": [
       "Message(id='msg_01EaTNDPZ3Mj95RkMH7ZbK2t', content=[TextBlock(text='The purpose of Jupy-Juice, based on the README, is to provide an AI-powered coding companion for Jupyter notebooks. Key features include:\\n\\n1. AI-powered chat with custom agents inside notebooks\\n2. Agents with memory of previously written code\\n3. Ability to create new code based on user prompts\\n4. Customizable assistants and tools\\n5. Built on the Pydantic AI framework\\n6. Inspired by the nbdev library\\n\\nThe project aims to enhance the Jupyter notebook experience by integrating AI assistance directly into the workflow.', type='text')], model='claude-3-5-sonnet-20240620', role='assistant', stop_reason='end_turn', stop_sequence=None, type='message', usage=In: 4; Out: 126; Cache create: 4507; Cache read: 0; Total: 4637)"
      ]
     },
     "execution_count": 6,
     "metadata": {},
     "output_type": "execute_result"
    }
   ],
   "source": [
    "from pathlib import Path\n",
    "nbtxt = Path('../README.md').read_text()\n",
    "msg = f'''<README>\n",
    "{nbtxt}\n",
    "</README>\n",
    "In brief, what is the purpose of this project based on the readme?'''\n",
    "r = chat(mk_msg(msg, cache=True))\n",
    "r"
   ]
  },
  {
   "cell_type": "code",
   "execution_count": 64,
   "metadata": {},
   "outputs": [],
   "source": [
    "from IPython.display import display, Markdown\n",
    "from typing import Literal, Optional\n",
    "\n",
    "def create_cell(\n",
    "    content: str,  # The content to put in the new cell\n",
    "    cell_type: str = 'code'  # Type of cell to create ('code' or 'markdown')\n",
    ") -> str:  # Return message\n",
    "    \"\"\"Create a new cell in the notebook with the specified content.\n",
    "    \n",
    "    Args:\n",
    "        content: The content to put in the new cell\n",
    "        cell_type: Type of cell to create ('code' or 'markdown')\n",
    "    \n",
    "    Returns:\n",
    "        str: A confirmation message\n",
    "    \"\"\"\n",
    "    try:    \n",
    "        ipython = get_ipython()\n",
    "        if cell_type not in ['code', 'markdown']:\n",
    "            return f\"Error: cell_type must be 'code' or 'markdown', got {cell_type}\"\n",
    "            \n",
    "        # Display the content immediately\n",
    "        if cell_type == 'code':\n",
    "            ipython.set_next_input(content)\n",
    "        else:\n",
    "            display(Markdown(content))\n",
    "        \n",
    "        return f\"Created new {cell_type} cell with content: {content}\"\n",
    "    except NameError:\n",
    "        return \"Error: Not running in IPython/Jupyter environment\""
   ]
  },
  {
   "cell_type": "code",
   "execution_count": 7,
   "metadata": {},
   "outputs": [
    {
     "name": "stderr",
     "output_type": "stream",
     "text": [
      "<module>:8: No type or annotation for returned value 1\n"
     ]
    },
    {
     "data": {
      "text/markdown": [
       "The purpose of Jupy-Juice, based on the README, is to provide an AI-powered coding companion for Jupyter notebooks. Key features include:\n",
       "\n",
       "1. AI-powered chat with custom agents inside notebooks\n",
       "2. Agents with memory of previously written code\n",
       "3. Ability to create new code based on user prompts\n",
       "4. Customizable assistants and tools\n",
       "5. Built on the Pydantic AI framework\n",
       "6. Inspired by the nbdev library\n",
       "\n",
       "The project aims to enhance the Jupyter notebook experience by integrating AI assistance directly into the workflow.\n",
       "\n",
       "<details>\n",
       "\n",
       "- id: `msg_01EaTNDPZ3Mj95RkMH7ZbK2t`\n",
       "- content: `[{'text': 'The purpose of Jupy-Juice, based on the README, is to provide an AI-powered coding companion for Jupyter notebooks. Key features include:\\n\\n1. AI-powered chat with custom agents inside notebooks\\n2. Agents with memory of previously written code\\n3. Ability to create new code based on user prompts\\n4. Customizable assistants and tools\\n5. Built on the Pydantic AI framework\\n6. Inspired by the nbdev library\\n\\nThe project aims to enhance the Jupyter notebook experience by integrating AI assistance directly into the workflow.', 'type': 'text'}]`\n",
       "- model: `claude-3-5-sonnet-20240620`\n",
       "- role: `assistant`\n",
       "- stop_reason: `end_turn`\n",
       "- stop_sequence: `None`\n",
       "- type: `message`\n",
       "- usage: `{'cache_creation_input_tokens': 4507, 'cache_read_input_tokens': 0, 'input_tokens': 4, 'output_tokens': 126}`\n",
       "\n",
       "</details>"
      ],
      "text/plain": [
       "Message(id='msg_01EaTNDPZ3Mj95RkMH7ZbK2t', content=[TextBlock(text='The purpose of Jupy-Juice, based on the README, is to provide an AI-powered coding companion for Jupyter notebooks. Key features include:\\n\\n1. AI-powered chat with custom agents inside notebooks\\n2. Agents with memory of previously written code\\n3. Ability to create new code based on user prompts\\n4. Customizable assistants and tools\\n5. Built on the Pydantic AI framework\\n6. Inspired by the nbdev library\\n\\nThe project aims to enhance the Jupyter notebook experience by integrating AI assistance directly into the workflow.', type='text')], model='claude-3-5-sonnet-20240620', role='assistant', stop_reason='end_turn', stop_sequence=None, type='message', usage=In: 4; Out: 126; Cache create: 4507; Cache read: 0; Total: 4637)"
      ]
     },
     "execution_count": 7,
     "metadata": {},
     "output_type": "execute_result"
    }
   ],
   "source": [
    "from jupy_juice.core import get_notebook_history\n",
    "history = get_notebook_history()\n",
    "msg = f'''<NOTEBOOK_HISTORY>\n",
    "{history}\n",
    "</NOTEBOOK_HISTORY>\n",
    "what we have in this notebook so far?'''\n",
    "# r = chat(mk_msg(msg, cache=True))\n",
    "r"
   ]
  },
  {
   "cell_type": "code",
   "execution_count": 38,
   "metadata": {},
   "outputs": [
    {
     "data": {
      "text/plain": [
       "'What is 604542+6458932?'"
      ]
     },
     "execution_count": 38,
     "metadata": {},
     "output_type": "execute_result"
    }
   ],
   "source": [
    "def sums(\n",
    "    a:int,  # First thing to sum\n",
    "    b:int=1 # Second thing to sum\n",
    ") -> int: # The sum of the inputs\n",
    "    \"Adds a + b.\"\n",
    "    print(f\"Finding the sum of {a} and {b}\")\n",
    "    return a + b\n",
    "\n",
    "sp = \"Never mention what tools you use.\"\n",
    "\n",
    "a,b = 604542,6458932\n",
    "pr = f\"What is {a}+{b}?\"\n",
    "pr"
   ]
  },
  {
   "cell_type": "code",
   "execution_count": 47,
   "metadata": {},
   "outputs": [
    {
     "name": "stdout",
     "output_type": "stream",
     "text": [
      "Finding the sum of 604542 and 6458932\n"
     ]
    },
    {
     "data": {
      "text/markdown": [
       "The sum of 604542 and 6458932 is 7063474.\n",
       "\n",
       "<details>\n",
       "\n",
       "- id: `msg_01YKzLfeq9YtP27cmsDP8yAF`\n",
       "- content: `[{'text': 'The sum of 604542 and 6458932 is 7063474.', 'type': 'text'}]`\n",
       "- model: `claude-3-5-sonnet-20240620`\n",
       "- role: `assistant`\n",
       "- stop_reason: `end_turn`\n",
       "- stop_sequence: `None`\n",
       "- type: `message`\n",
       "- usage: `{'cache_creation_input_tokens': 0, 'cache_read_input_tokens': 0, 'input_tokens': 533, 'output_tokens': 23}`\n",
       "\n",
       "</details>"
      ],
      "text/plain": [
       "Message(id='msg_01YKzLfeq9YtP27cmsDP8yAF', content=[TextBlock(text='The sum of 604542 and 6458932 is 7063474.', type='text')], model='claude-3-5-sonnet-20240620', role='assistant', stop_reason='end_turn', stop_sequence=None, type='message', usage=In: 533; Out: 23; Cache create: 0; Cache read: 0; Total: 556)"
      ]
     },
     "execution_count": 47,
     "metadata": {},
     "output_type": "execute_result"
    }
   ],
   "source": [
    "chat = Chat(model, sp=sp, tools=[sums])\n",
    "r = chat(pr)\n",
    "chat()"
   ]
  },
  {
   "cell_type": "code",
   "execution_count": 54,
   "metadata": {},
   "outputs": [
    {
     "data": {
      "text/markdown": [
       "I've created a new code cell with a simple \"Hello, World!\" function. Here's what the cell contains:\n",
       "\n",
       "1. A function called `hello_world()` that prints \"Hello, World!\" when called.\n",
       "2. A line that calls the function, so you can see the output immediately.\n",
       "\n",
       "You can now run this cell to see the \"Hello, World!\" message printed. If you want to use the function again, you can simply call `hello_world()` in any subsequent cell.\n",
       "\n",
       "Is there anything else you'd like me to do with this function or any other Python code you'd like me to create?\n",
       "\n",
       "<details>\n",
       "\n",
       "- id: `msg_016n81qH1qSsaZtgseBF1tbp`\n",
       "- content: `[{'text': 'I\\'ve created a new code cell with a simple \"Hello, World!\" function. Here\\'s what the cell contains:\\n\\n1. A function called `hello_world()` that prints \"Hello, World!\" when called.\\n2. A line that calls the function, so you can see the output immediately.\\n\\nYou can now run this cell to see the \"Hello, World!\" message printed. If you want to use the function again, you can simply call `hello_world()` in any subsequent cell.\\n\\nIs there anything else you\\'d like me to do with this function or any other Python code you\\'d like me to create?', 'type': 'text'}]`\n",
       "- model: `claude-3-5-sonnet-20240620`\n",
       "- role: `assistant`\n",
       "- stop_reason: `end_turn`\n",
       "- stop_sequence: `None`\n",
       "- type: `message`\n",
       "- usage: `{'cache_creation_input_tokens': 0, 'cache_read_input_tokens': 0, 'input_tokens': 689, 'output_tokens': 136}`\n",
       "\n",
       "</details>"
      ],
      "text/plain": [
       "Message(id='msg_016n81qH1qSsaZtgseBF1tbp', content=[TextBlock(text='I\\'ve created a new code cell with a simple \"Hello, World!\" function. Here\\'s what the cell contains:\\n\\n1. A function called `hello_world()` that prints \"Hello, World!\" when called.\\n2. A line that calls the function, so you can see the output immediately.\\n\\nYou can now run this cell to see the \"Hello, World!\" message printed. If you want to use the function again, you can simply call `hello_world()` in any subsequent cell.\\n\\nIs there anything else you\\'d like me to do with this function or any other Python code you\\'d like me to create?', type='text')], model='claude-3-5-sonnet-20240620', role='assistant', stop_reason='end_turn', stop_sequence=None, type='message', usage=In: 689; Out: 136; Cache create: 0; Cache read: 0; Total: 825)"
      ]
     },
     "execution_count": 54,
     "metadata": {},
     "output_type": "execute_result"
    }
   ],
   "source": [
    "chat = Chat(model, sp=sp, tools=[create_cell])\n",
    "r = chat(\"Can you create me a simple hello world function in a new cell\")\n",
    "chat()"
   ]
  },
  {
   "cell_type": "code",
   "execution_count": 55,
   "metadata": {},
   "outputs": [
    {
     "name": "stdout",
     "output_type": "stream",
     "text": [
      "Hello, World!\n"
     ]
    }
   ],
   "source": [
    "def hello_world():\n",
    "    print(\"Hello, World!\")\n",
    "\n",
    "# Call the function\n",
    "hello_world()"
   ]
  },
  {
   "cell_type": "code",
   "execution_count": 61,
   "metadata": {},
   "outputs": [],
   "source": [
    "#| export\n",
    "from IPython.core.magic import register_cell_magic\n",
    "\n",
    "#| export\n",
    "@register_cell_magic\n",
    "def prompt(line, cell, chat=chat):\n",
    "    \"\"\"Cell magic to create prompt cells that interact with the AI agent.\"\"\"\n",
    "    try:\n",
    "        result = chat(cell.strip())\n",
    "        return result\n",
    "    except Exception as e:\n",
    "        return f\"Error processing prompt: {str(e)}\""
   ]
  },
  {
   "cell_type": "code",
   "execution_count": 71,
   "metadata": {},
   "outputs": [
    {
     "data": {
      "text/plain": [
       "'You are a helpful and concise assistant that can create new cells in a jupyter notebook and understand the current context of the notebook.\\nHere is the history of the notebook:\\n<NOTEBOOK_HISTORY>\\n[\\'Cell[0]:\\\\nSource:\\\\n#| default_exp mcp\\', \\'Cell[1]:\\\\nSource:\\\\n#| hide\\\\nfrom nbdev.showdoc import *\\', \"Cell[2]:\\\\nSource:\\\\n#| export\\\\nfrom claudette import *\\\\nimport os\\\\nos.environ[\\'ANTHROPIC_LOG\\'] = \\'debug\\'\\\\n\", \\'Cell[3]:\\\\nSource:\\\\nmodel = models[1]\\\\nchat = Chat(model, sp=\"\"\"You are a helpful and concise assistant.\"\"\")\\\\nchat(\"I\\\\\\'m Nikola\")\\', \\'Cell[4]:\\\\nSource:\\\\nchat(\"Concisely, what is the meaning of life?\",\\\\n     prefill=\\\\\\'According to Douglas Adams,\\\\\\')\\', \"Cell[5]:\\\\nSource:\\\\nfrom pathlib import Path\\\\nnbtxt = Path(\\'../README.md\\').read_text()\\\\nmsg = f\\'\\'\\'<README>\\\\n{nbtxt}\\\\n</README>\\\\nIn brief, what is the purpose of this project based on the readme?\\'\\'\\'\\\\nr = chat(mk_msg(msg, cache=True))\\\\nr\", \\'Cell[6]:\\\\nSource:\\\\nfrom IPython.display import display, Markdown\\\\nfrom typing import Literal, Optional\\\\n\\\\ndef create_cell(\\\\n    content: str,  # The content to put in the new cell\\\\n    cell_type: str = \\\\\\'code\\\\\\'  # Type of cell to create (\\\\\\'code\\\\\\' or \\\\\\'markdown\\\\\\')\\\\n) -> str:  # Return message\\\\n    \"\"\"Create a new cell in the notebook with the specified content.\\\\n    \\\\n    Args:\\\\n        content: The content to put in the new cell\\\\n        cell_type: Type of cell to create (\\\\\\'code\\\\\\' or \\\\\\'markdown\\\\\\')\\\\n    \\\\n    Returns:\\\\n        str: A confirmation message\\\\n    \"\"\"\\\\n    try:    \\\\n        ipython = get_ipython()\\\\n        if cell_type not in [\\\\\\'code\\\\\\', \\\\\\'markdown\\\\\\']:\\\\n            return f\"Error: cell_type must be \\\\\\'code\\\\\\' or \\\\\\'markdown\\\\\\', got {cell_type}\"\\\\n            \\\\n        # Display the content immediately\\\\n        if cell_type == \\\\\\'code\\\\\\':\\\\n            ipython.set_next_input(content)\\\\n        else:\\\\n            display(Markdown(content))\\\\n        \\\\n        return f\"Created new {cell_type} cell with content: {content}\"\\\\n    except NameError:\\\\n        return \"Error: Not running in IPython/Jupyter environment\"\\', \"Cell[7]:\\\\nSource:\\\\nfrom jupy_juice.core import get_notebook_history\\\\nhistory = get_notebook_history()\\\\nmsg = f\\'\\'\\'<NOTEBOOK_HISTORY>\\\\n{history}\\\\n</NOTEBOOK_HISTORY>\\\\nwhat we have in this notebook so far?\\'\\'\\'\\\\n# r = chat(mk_msg(msg, cache=True))\\\\nr\", \\'Cell[8]:\\\\nSource:\\\\ndef sums(\\\\n    a:int,  # First thing to sum\\\\n    b:int=1 # Second thing to sum\\\\n) -> int: # The sum of the inputs\\\\n    \"Adds a + b.\"\\\\n    print(f\"Finding the sum of {a} and {b}\")\\\\n    return a + b\\\\n\\\\nsp = \"Never mention what tools you use.\"\\\\n\\\\na,b = 604542,6458932\\\\npr = f\"What is {a}+{b}?\"\\\\npr\\', \\'Cell[9]:\\\\nSource:\\\\nchat = Chat(model, sp=sp, tools=[sums])\\\\nr = chat(pr)\\\\nchat()\\', \\'Cell[10]:\\\\nSource:\\\\nchat = Chat(model, sp=sp, tools=[create_cell])\\\\nr = chat(\"Can you create me a simple hello world function in a new cell\")\\\\nchat()\\', \\'Cell[11]:\\\\nSource:\\\\ndef hello_world():\\\\n    print(\"Hello, World!\")\\\\n\\\\n# Call the function\\\\nhello_world()\\', \\'Cell[12]:\\\\nSource:\\\\n#| export\\\\nfrom IPython.core.magic import register_cell_magic\\\\n\\\\n#| export\\\\n@register_cell_magic\\\\ndef prompt(line, cell, chat=chat):\\\\n    \"\"\"Cell magic to create prompt cells that interact with the AI agent.\"\"\"\\\\n    try:\\\\n        result = chat(cell.strip())\\\\n        return result\\\\n    except Exception as e:\\\\n        return f\"Error processing prompt: {str(e)}\"\\']\\n</NOTEBOOK_HISTORY>\\n'"
      ]
     },
     "execution_count": 71,
     "metadata": {},
     "output_type": "execute_result"
    }
   ],
   "source": [
    "history = get_notebook_history(max_cells=30)\n",
    "sp = f'''You are a helpful and concise assistant that can create new cells in a jupyter notebook and understand the current context of the notebook.\n",
    "Here is the history of the notebook:\n",
    "<NOTEBOOK_HISTORY>\n",
    "{history}\n",
    "</NOTEBOOK_HISTORY>\n",
    "'''\n",
    "# r = chat(mk_msg(msg, cache=True))\n",
    "msg"
   ]
  },
  {
   "cell_type": "code",
   "execution_count": 72,
   "metadata": {},
   "outputs": [],
   "source": [
    "chat = Chat(model, sp=sp, tools=[create_cell])"
   ]
  },
  {
   "cell_type": "code",
   "execution_count": 74,
   "metadata": {},
   "outputs": [
    {
     "data": {
      "text/markdown": [
       "I apologize for the confusion in my previous responses. You're right to ask if I can see what we've done in this notebook so far. As an AI language model, I don't have direct access to the notebook's history or content beyond what you provide in each interaction. \n",
       "\n",
       "Based on your description, it seems that we're working on creating a Jupyter notebook assistant using nbdev, but I don't have visibility into the specific code or cells that have been created so far in this particular notebook.\n",
       "\n",
       "To proceed effectively, it would be helpful if you could provide a summary of what has been implemented so far, or share the relevant code snippets. This way, I can give you more accurate and contextual advice on how to proceed with your project.\n",
       "\n",
       "Some questions that would help me assist you better:\n",
       "\n",
       "1. Have you already set up the basic nbdev project structure?\n",
       "2. Have you created any classes or functions for the assistant yet?\n",
       "3. What specific features have you implemented so far?\n",
       "4. Are there any particular challenges you're facing at the moment?\n",
       "\n",
       "Once I have this information, I'll be better equipped to help you make progress on your Jupyter notebook assistant project, including implementing features like configuring the system prompt, managing context and message caching, and adding custom tools.\n",
       "\n",
       "<details>\n",
       "\n",
       "- id: `msg_01KqroU1Nj9V3EkR81gYkbne`\n",
       "- content: `[{'text': \"I apologize for the confusion in my previous responses. You're right to ask if I can see what we've done in this notebook so far. As an AI language model, I don't have direct access to the notebook's history or content beyond what you provide in each interaction. \\n\\nBased on your description, it seems that we're working on creating a Jupyter notebook assistant using nbdev, but I don't have visibility into the specific code or cells that have been created so far in this particular notebook.\\n\\nTo proceed effectively, it would be helpful if you could provide a summary of what has been implemented so far, or share the relevant code snippets. This way, I can give you more accurate and contextual advice on how to proceed with your project.\\n\\nSome questions that would help me assist you better:\\n\\n1. Have you already set up the basic nbdev project structure?\\n2. Have you created any classes or functions for the assistant yet?\\n3. What specific features have you implemented so far?\\n4. Are there any particular challenges you're facing at the moment?\\n\\nOnce I have this information, I'll be better equipped to help you make progress on your Jupyter notebook assistant project, including implementing features like configuring the system prompt, managing context and message caching, and adding custom tools.\", 'type': 'text'}]`\n",
       "- model: `claude-3-5-sonnet-20240620`\n",
       "- role: `assistant`\n",
       "- stop_reason: `end_turn`\n",
       "- stop_sequence: `None`\n",
       "- type: `message`\n",
       "- usage: `{'cache_creation_input_tokens': 0, 'cache_read_input_tokens': 0, 'input_tokens': 3617, 'output_tokens': 274}`\n",
       "\n",
       "</details>"
      ],
      "text/plain": [
       "Message(id='msg_01KqroU1Nj9V3EkR81gYkbne', content=[TextBlock(text=\"I apologize for the confusion in my previous responses. You're right to ask if I can see what we've done in this notebook so far. As an AI language model, I don't have direct access to the notebook's history or content beyond what you provide in each interaction. \\n\\nBased on your description, it seems that we're working on creating a Jupyter notebook assistant using nbdev, but I don't have visibility into the specific code or cells that have been created so far in this particular notebook.\\n\\nTo proceed effectively, it would be helpful if you could provide a summary of what has been implemented so far, or share the relevant code snippets. This way, I can give you more accurate and contextual advice on how to proceed with your project.\\n\\nSome questions that would help me assist you better:\\n\\n1. Have you already set up the basic nbdev project structure?\\n2. Have you created any classes or functions for the assistant yet?\\n3. What specific features have you implemented so far?\\n4. Are there any particular challenges you're facing at the moment?\\n\\nOnce I have this information, I'll be better equipped to help you make progress on your Jupyter notebook assistant project, including implementing features like configuring the system prompt, managing context and message caching, and adding custom tools.\", type='text')], model='claude-3-5-sonnet-20240620', role='assistant', stop_reason='end_turn', stop_sequence=None, type='message', usage=In: 3617; Out: 274; Cache create: 0; Cache read: 0; Total: 3891)"
      ]
     },
     "execution_count": 74,
     "metadata": {},
     "output_type": "execute_result"
    }
   ],
   "source": [
    "%%prompt\n",
    "This is a nbdev project in which I'm trying to create a jupyter notebook assistant - you. Now you can help me make you better! \n",
    "As the end result we should be able to import some stuff from the end pip library and use it in the notebook.\n",
    "This can be only simple prompt magic function only but user shall also be able to additionaly configure system prompt, configure max context and cashe massages,\n",
    "add some additioanl custom tools and so on.\n",
    "\n",
    "CAn you see what we have done in this notebook so far?\n"
   ]
  }
 ],
 "metadata": {
  "kernelspec": {
   "display_name": ".venv",
   "language": "python",
   "name": "python3"
  },
  "language_info": {
   "codemirror_mode": {
    "name": "ipython",
    "version": 3
   },
   "file_extension": ".py",
   "mimetype": "text/x-python",
   "name": "python",
   "nbconvert_exporter": "python",
   "pygments_lexer": "ipython3",
   "version": "3.12.7"
  }
 },
 "nbformat": 4,
 "nbformat_minor": 2
}
