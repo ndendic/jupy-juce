{
 "cells": [
  {
   "cell_type": "code",
   "execution_count": 4,
   "metadata": {},
   "outputs": [
    {
     "data": {
      "text/plain": [
       "\"I'm doing well, thank you! I'm Claude, an AI assistant. How are you today?\""
      ]
     },
     "execution_count": 4,
     "metadata": {},
     "output_type": "execute_result"
    }
   ],
   "source": [
    "import nest_asyncio\n",
    "from pydantic_ai import Agent\n",
    "\n",
    "nest_asyncio.apply()\n",
    "\n",
    "agent = Agent('claude-3-5-sonnet-latest')\n",
    "\n",
    "result = agent.run_sync(\"Hello, how are you?\")\n",
    "\n",
    "result.data"
   ]
  },
  {
   "cell_type": "code",
   "execution_count": 5,
   "metadata": {},
   "outputs": [
    {
     "data": {
      "text/plain": [
       "[ModelRequest(parts=[UserPromptPart(content='Hello, how are you?', timestamp=datetime.datetime(2024, 12, 30, 18, 28, 41, 157858, tzinfo=datetime.timezone.utc), part_kind='user-prompt')], kind='request'),\n",
       " ModelResponse(parts=[TextPart(content=\"I'm doing well, thank you! I'm Claude, an AI assistant. How are you today?\", part_kind='text')], timestamp=datetime.datetime(2024, 12, 30, 18, 28, 42, 158380, tzinfo=datetime.timezone.utc), kind='response')]"
      ]
     },
     "execution_count": 5,
     "metadata": {},
     "output_type": "execute_result"
    }
   ],
   "source": [
    "result.all_messages()"
   ]
  }
 ],
 "metadata": {
  "kernelspec": {
   "display_name": ".venv",
   "language": "python",
   "name": "python3"
  },
  "language_info": {
   "codemirror_mode": {
    "name": "ipython",
    "version": 3
   },
   "file_extension": ".py",
   "mimetype": "text/x-python",
   "name": "python",
   "nbconvert_exporter": "python",
   "pygments_lexer": "ipython3",
   "version": "3.12.7"
  }
 },
 "nbformat": 4,
 "nbformat_minor": 2
}
