{
 "cells": [
  {
   "cell_type": "code",
   "execution_count": 1,
   "metadata": {},
   "outputs": [],
   "source": [
    "#| default_exp core"
   ]
  },
  {
   "cell_type": "code",
   "execution_count": 2,
   "metadata": {},
   "outputs": [],
   "source": [
    "#| hide\n",
    "from nbdev.showdoc import *"
   ]
  },
  {
   "cell_type": "markdown",
   "metadata": {},
   "source": [
    "# Dependencies"
   ]
  },
  {
   "cell_type": "code",
   "execution_count": 37,
   "metadata": {},
   "outputs": [],
   "source": [
    "#| export\n",
    "import os\n",
    "from dotenv import load_dotenv\n",
    "from pydantic import BaseModel, Field\n",
    "from pydantic_ai import Agent, ModelRetry, RunContext\n",
    "from pydantic_ai.models import KnownModelName\n",
    "from typing import Optional, Union\n",
    "from functools import wraps\n",
    "\n",
    "load_dotenv()\n",
    "\n",
    "# Enable async/await in Jupyter\n",
    "import nest_asyncio\n",
    "nest_asyncio.apply()"
   ]
  },
  {
   "cell_type": "markdown",
   "metadata": {},
   "source": [
    "# Agent setup"
   ]
  },
  {
   "cell_type": "markdown",
   "metadata": {},
   "source": [
    "System prompt\n"
   ]
  },
  {
   "cell_type": "code",
   "execution_count": 4,
   "metadata": {},
   "outputs": [],
   "source": [
    "#| export\n",
    "from datetime import date\n",
    "system_prompt = f\"\"\"\n",
    "You are a helpful assistant that operates in a Jupyter notebook.\n",
    "Your regular text responses are rendered as cell output.\n",
    "You can create new cells, edit existing cells, and run code.\n",
    "You can also use tools to help you with your tasks.\n",
    "Today's date is {date.today().strftime('%Y-%m-%d')}.\n",
    "\"\"\""
   ]
  },
  {
   "cell_type": "code",
   "execution_count": 5,
   "metadata": {},
   "outputs": [
    {
     "name": "stdout",
     "output_type": "stream",
     "text": [
      "PydanticAI is using model: openai:gpt-4o\n"
     ]
    }
   ],
   "source": [
    "#| export\n",
    "from typing import cast\n",
    "model = cast(KnownModelName, os.getenv('PYDANTIC_AI_MODEL', 'openai:gpt-4o'))\n",
    "print(f'PydanticAI is using model: {model}')\n",
    "notebook_agent = Agent(model, system_prompt=system_prompt)"
   ]
  },
  {
   "cell_type": "code",
   "execution_count": 39,
   "metadata": {},
   "outputs": [],
   "source": [
    "#| export\n",
    "_current_agent: Optional[Agent] = None\n",
    "\n",
    "def get_current_agent() -> Agent:\n",
    "    \"\"\"Get the current agent, falling back to default notebook_agent if none set.\"\"\"\n",
    "    global _current_agent, notebook_agent\n",
    "    return _current_agent or notebook_agent\n"
   ]
  },
  {
   "cell_type": "markdown",
   "metadata": {},
   "source": [
    "### Adding cell creation tool"
   ]
  },
  {
   "cell_type": "code",
   "execution_count": null,
   "metadata": {},
   "outputs": [],
   "source": [
    "#| export\n",
    "from IPython.display import display, Markdown\n",
    "from typing import Literal\n",
    "\n",
    "@notebook_agent.tool\n",
    "def create_cell(ctx: RunContext[str], content: str, cell_type: Literal['code', 'markdown'] = 'code') -> str:\n",
    "    \"\"\"Create a new cell in the notebook with the specified content.\n",
    "    \n",
    "    Args:\n",
    "        content: The content to put in the new cell\n",
    "        cell_type: Type of cell to create ('code' or 'markdown')\n",
    "    \n",
    "    Returns:\n",
    "        A confirmation message\n",
    "    \"\"\"\n",
    "    try:    \n",
    "        ipython = get_ipython()\n",
    "    except NameError:\n",
    "        return \"Error: Not running in IPython/Jupyter environment\"\n",
    "    \n",
    "    # Display the content immediately\n",
    "    if cell_type == 'code':\n",
    "        # Set up the next cell with the content\n",
    "        ipython.set_next_input(content)\n",
    "    else:\n",
    "        display(Markdown(content))\n",
    "    \n",
    "    return f\"Created new {cell_type}  with content: {content}\""
   ]
  },
  {
   "cell_type": "markdown",
   "metadata": {},
   "source": [
    "Always set custom agents to have create_cell tool"
   ]
  },
  {
   "cell_type": "code",
   "execution_count": 43,
   "metadata": {},
   "outputs": [],
   "source": [
    "#| export\n",
    "def set_agent(agent: Agent) -> Agent:\n",
    "    \"\"\"Set a custom agent for the notebook.\n",
    "    \n",
    "    Args:\n",
    "        agent: PydanticAI agent instance\n",
    "        system_prompt: Optional custom system prompt\n",
    "        \n",
    "    Returns:\n",
    "        Configured agent with required tools\n",
    "    \"\"\"\n",
    "    global _current_agent\n",
    "        \n",
    "    # Always ensure create_cell tool is available\n",
    "    if 'create_cell' not in agent.function_tools:\n",
    "        @agent.tool\n",
    "        @wraps(create_cell)  # Preserve the original docstring\n",
    "        def create_cell(ctx: RunContext[str], content: str, \n",
    "                       cell_type: Literal['code', 'markdown'] = 'code') -> str:\n",
    "            return create_cell.original_func(ctx, content, cell_type)\n",
    "    \n",
    "    _current_agent = agent\n",
    "    return agent"
   ]
  },
  {
   "cell_type": "markdown",
   "metadata": {},
   "source": [
    "Tool testing"
   ]
  },
  {
   "cell_type": "code",
   "execution_count": 7,
   "metadata": {},
   "outputs": [
    {
     "data": {
      "text/markdown": [
       "I've created a new code cell with a simple \"Hello, World!\" function. You can run the cell to see the output."
      ],
      "text/plain": [
       "<IPython.core.display.Markdown object>"
      ]
     },
     "execution_count": 7,
     "metadata": {},
     "output_type": "execute_result"
    }
   ],
   "source": [
    "result = notebook_agent.run_sync('can you create me a simple hello world functio in a new celland make sure I can run it right away to see the output?')\n",
    "Markdown(result.data)"
   ]
  },
  {
   "cell_type": "code",
   "execution_count": 8,
   "metadata": {},
   "outputs": [
    {
     "name": "stdout",
     "output_type": "stream",
     "text": [
      "Hello, World!\n"
     ]
    }
   ],
   "source": [
    "def hello_world():\n",
    "    print('Hello, World!')\n",
    "\n",
    "# Call the function to display the output\n",
    "hello_world()"
   ]
  },
  {
   "cell_type": "code",
   "execution_count": 9,
   "metadata": {},
   "outputs": [
    {
     "data": {
      "text/markdown": [
       "I have created a function named `factorial` in a new code cell. This function calculates the factorial of a number and includes input validation to ensure that the input is a non-negative integer. You can run that cell to define the function in the notebook's environment."
      ],
      "text/plain": [
       "<IPython.core.display.Markdown object>"
      ]
     },
     "execution_count": 9,
     "metadata": {},
     "output_type": "execute_result"
    }
   ],
   "source": [
    "result = notebook_agent.run_sync(\"Create a function that calculates the factorial of a number with input validation\")\n",
    "Markdown(result.data)"
   ]
  },
  {
   "cell_type": "code",
   "execution_count": 10,
   "metadata": {},
   "outputs": [],
   "source": [
    "def factorial(n):\n",
    "    \"\"\"\n",
    "    Calculate the factorial of a non-negative integer n.\n",
    "\n",
    "    Parameters:\n",
    "    n (int): A non-negative integer whose factorial is to be computed\n",
    "\n",
    "    Returns:\n",
    "    int: Factorial of the input number n\n",
    "    \"\"\"\n",
    "    # Input validation\n",
    "    if not isinstance(n, int):\n",
    "        raise TypeError(\"Input must be an integer\")\n",
    "    if n < 0:\n",
    "        raise ValueError(\"Input must be a non-negative integer\")\n",
    "\n",
    "    # Base case: factorial of 0 is 1\n",
    "    if n == 0:\n",
    "        return 1\n",
    "\n",
    "    # Recursive case: n! = n * (n-1)!\n",
    "    return n * factorial(n - 1)"
   ]
  },
  {
   "cell_type": "markdown",
   "metadata": {},
   "source": [
    "Testing agent with history"
   ]
  },
  {
   "cell_type": "code",
   "execution_count": 11,
   "metadata": {},
   "outputs": [
    {
     "data": {
      "text/markdown": [
       "I've created a Python function called `factorial` for you. This function calculates the factorial of a given non-negative integer. Here's a brief overview of its features:\n",
       "\n",
       "- **Input Validation**: It checks whether the input is a non-negative integer. If the input is not an integer, it raises a `TypeError`. If the input is a negative integer, it raises a `ValueError`.\n",
       "- **Factorial Calculation**: It calculates the factorial using a recursive approach. The base case is that the factorial of 0 is 1, and for other numbers, it uses the recursive definition: \\( n! = n \\times (n-1)! \\).\n",
       "\n",
       "To make use of this function, you would call it with an integer argument, like so:\n",
       "\n",
       "```python\n",
       "factorial(5)\n",
       "```\n",
       "\n",
       "This would return `120`, which is the factorial of 5. You can test this function by running the code cell I created."
      ],
      "text/plain": [
       "<IPython.core.display.Markdown object>"
      ]
     },
     "execution_count": 11,
     "metadata": {},
     "output_type": "execute_result"
    }
   ],
   "source": [
    "result = notebook_agent.run_sync('So what you just made for me here?', message_history=result.new_messages())\n",
    "Markdown(result.data)"
   ]
  },
  {
   "cell_type": "code",
   "execution_count": 12,
   "metadata": {},
   "outputs": [
    {
     "data": {
      "text/plain": [
       "[ModelRequest(parts=[SystemPromptPart(content=\"\\nYou are a helpful assistant that operates in a Jupyter notebook.\\nYour regular text responses are rendered as cell output.\\nYou can create new cells, edit existing cells, and run code.\\nYou can also use tools to help you with your tasks.\\nToday's date is 2024-12-31.\\n\", part_kind='system-prompt'), UserPromptPart(content='Create a function that calculates the factorial of a number with input validation', timestamp=datetime.datetime(2024, 12, 31, 8, 8, 34, 458473, tzinfo=datetime.timezone.utc), part_kind='user-prompt')], kind='request'),\n",
       " ModelResponse(parts=[ToolCallPart(tool_name='create_cell', args=ArgsJson(args_json='{\"content\":\"def factorial(n):\\\\n    \\\\\"\\\\\"\\\\\"\\\\n    Calculate the factorial of a non-negative integer n.\\\\n\\\\n    Parameters:\\\\n    n (int): A non-negative integer whose factorial is to be computed\\\\n\\\\n    Returns:\\\\n    int: Factorial of the input number n\\\\n    \\\\\"\\\\\"\\\\\"\\\\n    # Input validation\\\\n    if not isinstance(n, int):\\\\n        raise TypeError(\\\\\"Input must be an integer\\\\\")\\\\n    if n < 0:\\\\n        raise ValueError(\\\\\"Input must be a non-negative integer\\\\\")\\\\n\\\\n    # Base case: factorial of 0 is 1\\\\n    if n == 0:\\\\n        return 1\\\\n\\\\n    # Recursive case: n! = n * (n-1)!\\\\n    return n * factorial(n - 1)\",\"cell_type\":\"code\"}'), tool_call_id='call_7ZMonXSp6BR3nTOGupyaiXdd', part_kind='tool-call')], timestamp=datetime.datetime(2024, 12, 31, 8, 8, 35, tzinfo=datetime.timezone.utc), kind='response'),\n",
       " ModelRequest(parts=[ToolReturnPart(tool_name='create_cell', content='Created new code cell', tool_call_id='call_7ZMonXSp6BR3nTOGupyaiXdd', timestamp=datetime.datetime(2024, 12, 31, 8, 8, 37, 114822, tzinfo=datetime.timezone.utc), part_kind='tool-return')], kind='request'),\n",
       " ModelResponse(parts=[TextPart(content=\"I have created a function named `factorial` in a new code cell. This function calculates the factorial of a number and includes input validation to ensure that the input is a non-negative integer. You can run that cell to define the function in the notebook's environment.\", part_kind='text')], timestamp=datetime.datetime(2024, 12, 31, 8, 8, 37, tzinfo=datetime.timezone.utc), kind='response'),\n",
       " ModelRequest(parts=[UserPromptPart(content='So what you just made for me here?', timestamp=datetime.datetime(2024, 12, 31, 8, 8, 58, 747643, tzinfo=datetime.timezone.utc), part_kind='user-prompt')], kind='request'),\n",
       " ModelResponse(parts=[TextPart(content=\"I've created a Python function called `factorial` for you. This function calculates the factorial of a given non-negative integer. Here's a brief overview of its features:\\n\\n- **Input Validation**: It checks whether the input is a non-negative integer. If the input is not an integer, it raises a `TypeError`. If the input is a negative integer, it raises a `ValueError`.\\n- **Factorial Calculation**: It calculates the factorial using a recursive approach. The base case is that the factorial of 0 is 1, and for other numbers, it uses the recursive definition: \\\\( n! = n \\\\times (n-1)! \\\\).\\n\\nTo make use of this function, you would call it with an integer argument, like so:\\n\\n```python\\nfactorial(5)\\n```\\n\\nThis would return `120`, which is the factorial of 5. You can test this function by running the code cell I created.\", part_kind='text')], timestamp=datetime.datetime(2024, 12, 31, 8, 8, 59, tzinfo=datetime.timezone.utc), kind='response')]"
      ]
     },
     "execution_count": 12,
     "metadata": {},
     "output_type": "execute_result"
    }
   ],
   "source": [
    "result.all_messages()"
   ]
  },
  {
   "cell_type": "markdown",
   "metadata": {},
   "source": [
    "### Adding notebook history"
   ]
  },
  {
   "cell_type": "code",
   "execution_count": 14,
   "metadata": {},
   "outputs": [],
   "source": [
    "#| export\n",
    "import os\n",
    "import json\n",
    "from pathlib import Path\n",
    "from typing import Optional, Dict, Any\n",
    "\n",
    "# Cache for notebook data\n",
    "_notebook_cache: Dict[str, Any] = {}\n",
    "\n",
    "def find_current_notebook() -> Optional[dict]:\n",
    "    \"\"\"Find and cache the current notebook data.\n",
    "    \n",
    "    Returns:\n",
    "        Dict containing notebook data or None if not found\n",
    "    \"\"\"\n",
    "    global _notebook_cache\n",
    "    \n",
    "    try:\n",
    "        ipython = get_ipython()\n",
    "        if not ipython:\n",
    "            return None\n",
    "            \n",
    "        # Get current cell content to identify the notebook\n",
    "        current_cell = ipython.get_parent()['content']['code']\n",
    "        \n",
    "        # Check if we already found the notebook\n",
    "        if 'notebook' in _notebook_cache:\n",
    "            # Verify it's still the correct notebook by checking the current cell\n",
    "            notebook = _notebook_cache['notebook']\n",
    "            for cell in notebook['cells']:\n",
    "                if (cell['cell_type'] == 'code' and \n",
    "                    ''.join(cell['source']) == current_cell):\n",
    "                    return notebook\n",
    "        \n",
    "        # If not in cache or cache is invalid, search for the notebook\n",
    "        current_dir = Path.cwd()\n",
    "        notebook_files = list(current_dir.glob(\"*.ipynb\"))\n",
    "        \n",
    "        for nb_file in notebook_files:\n",
    "            try:\n",
    "                with open(nb_file) as f:\n",
    "                    notebook = json.load(f)\n",
    "                    for cell in notebook['cells']:\n",
    "                        if (cell['cell_type'] == 'code' and \n",
    "                            ''.join(cell['source']) == current_cell):\n",
    "                            # Found the notebook, cache it\n",
    "                            _notebook_cache['notebook'] = notebook\n",
    "                            _notebook_cache['file'] = nb_file\n",
    "                            return notebook\n",
    "            except Exception:\n",
    "                continue\n",
    "                \n",
    "        return None\n",
    "        \n",
    "    except Exception as e:\n",
    "        print(f\"Error finding notebook: {e}\")\n",
    "        return None\n"
   ]
  },
  {
   "cell_type": "code",
   "execution_count": 27,
   "metadata": {},
   "outputs": [],
   "source": [
    "#| export\n",
    "def get_notebook_history(max_cells: int = 5) -> list:\n",
    "    \"\"\"Get the content of notebook cells between current and last prompt cell.\n",
    "    \n",
    "    Args:\n",
    "        max_cells: Maximum number of previous cells to include\n",
    "        \n",
    "    Returns:\n",
    "        List of previous cell contents\n",
    "    \"\"\"\n",
    "    try:\n",
    "        # Get the cached notebook or find it\n",
    "        notebook = find_current_notebook()\n",
    "        if not notebook:\n",
    "            return []\n",
    "            \n",
    "        # Find current cell index\n",
    "        current_cell = get_ipython().get_parent()['content']['code']\n",
    "        cells = notebook['cells']\n",
    "        current_idx = -1\n",
    "        last_prompt_idx = -1\n",
    "        \n",
    "        # Find current cell and last prompt cell\n",
    "        for idx, cell in enumerate(cells):\n",
    "            source = ''.join(cell['source']) if isinstance(cell['source'], list) else cell['source']\n",
    "            \n",
    "            # Find current cell\n",
    "            if current_idx == -1 and cell['cell_type'] == 'code' and source == current_cell:\n",
    "                current_idx = idx\n",
    "                \n",
    "            # Find last prompt cell before current cell\n",
    "            if idx < current_idx or current_idx == -1:  # Only look at cells before current\n",
    "                if cell['cell_type'] == 'code' and source.strip().startswith('%%prompt'):\n",
    "                    last_prompt_idx = idx\n",
    "                \n",
    "        if current_idx == -1:\n",
    "            return []\n",
    "            \n",
    "        # Get cells between last prompt and current cell\n",
    "        start_idx = last_prompt_idx + 1 if last_prompt_idx != -1 else max(0, current_idx - max_cells)\n",
    "        history = []\n",
    "        \n",
    "        for idx in range(start_idx, current_idx):\n",
    "            cell = cells[idx]            \n",
    "            source = cell['source'] if isinstance(cell['source'], str) else ''.join(cell['source'])\n",
    "            if 'outputs' in cell:\n",
    "                outputs = cell['outputs'] if isinstance(cell['outputs'], str) else str(cell['outputs'])\n",
    "            else:\n",
    "                outputs = 'None'\n",
    "            if not (source.strip().startswith('%%prompt') or outputs.strip().startswith('#|exclude') or outputs.strip().startswith('#| exclude')):\n",
    "                history.append(f\"Cell[{idx}]:\\nSource:\\n{source}\\nOutputs:\\n{outputs}\")\n",
    "        \n",
    "        return history\n",
    "        \n",
    "    except Exception as e:\n",
    "        print(f\"Error getting notebook history: {e}\")\n",
    "        return []"
   ]
  },
  {
   "cell_type": "markdown",
   "metadata": {},
   "source": [
    "Testing notebook history"
   ]
  },
  {
   "cell_type": "code",
   "execution_count": 28,
   "metadata": {},
   "outputs": [
    {
     "data": {
      "text/plain": [
       "['Cell[3]:\\nSource:\\n#| export\\nimport os\\nfrom dotenv import load_dotenv\\nfrom pydantic import BaseModel, Field\\nfrom pydantic_ai import Agent, ModelRetry, RunContext\\nfrom pydantic_ai.models import KnownModelName\\n\\nload_dotenv()\\n\\n# Enable async/await in Jupyter\\nimport nest_asyncio\\nnest_asyncio.apply()\\nOutputs:\\n[]',\n",
       " 'Cell[4]:\\nSource:\\n# Agent setup\\nOutputs:\\nNone',\n",
       " 'Cell[5]:\\nSource:\\nSystem prompt\\n\\nOutputs:\\nNone',\n",
       " 'Cell[6]:\\nSource:\\n#| export\\nfrom datetime import date\\nsystem_prompt = f\"\"\"\\nYou are a helpful assistant that operates in a Jupyter notebook.\\nYour regular text responses are rendered as cell output.\\nYou can create new cells, edit existing cells, and run code.\\nYou can also use tools to help you with your tasks.\\nToday\\'s date is {date.today().strftime(\\'%Y-%m-%d\\')}.\\n\"\"\"\\nOutputs:\\n[]',\n",
       " \"Cell[7]:\\nSource:\\n#| export\\nfrom typing import cast\\nmodel = cast(KnownModelName, os.getenv('PYDANTIC_AI_MODEL', 'openai:gpt-4o'))\\nprint(f'PydanticAI is using model: {model}')\\nnotebook_agent = Agent(model, system_prompt=system_prompt)\\nOutputs:\\n[{'name': 'stdout', 'output_type': 'stream', 'text': ['PydanticAI is using model: openai:gpt-4o\\\\n']}]\",\n",
       " 'Cell[8]:\\nSource:\\n#| export\\ndef refresh_agent():\\n    global notebook_agent\\n    notebook_agent = Agent(model, system_prompt=system_prompt)\\n    return notebook_agent\\n\\nOutputs:\\n[]',\n",
       " 'Cell[9]:\\nSource:\\n### Adding cell creation tool\\nOutputs:\\nNone',\n",
       " 'Cell[10]:\\nSource:\\n#| export\\nfrom IPython.display import display, Markdown\\nfrom typing import Literal\\n\\n@notebook_agent.tool\\ndef create_cell(ctx: RunContext[str], content: str, cell_type: Literal[\\'code\\', \\'markdown\\'] = \\'code\\') -> str:\\n    \"\"\"Create a new cell in the notebook with the specified content.\\n    \\n    Args:\\n        content: The content to put in the new cell\\n        cell_type: Type of cell to create (\\'code\\' or \\'markdown\\')\\n    \\n    Returns:\\n        A confirmation message\\n    \"\"\"\\n    try:    \\n        ipython = get_ipython()\\n    except NameError:\\n        return \"Error: Not running in IPython/Jupyter environment\"\\n    \\n    # Display the content immediately\\n    if cell_type == \\'code\\':\\n        # display(Markdown(f\"```python\\\\n{content}\\\\n```\"))\\n        # Set up the next cell with the content\\n        ipython.set_next_input(content)\\n    else:\\n        display(Markdown(content))\\n    \\n    return f\"Created new {cell_type} cell\"\\nOutputs:\\n[{\\'name\\': \\'stderr\\', \\'output_type\\': \\'stream\\', \\'text\\': [\\'<module>:8: No type or annotation for returned value 1\\\\n\\']}]',\n",
       " 'Cell[11]:\\nSource:\\nTool testing\\nOutputs:\\nNone',\n",
       " 'Cell[12]:\\nSource:\\nresult = notebook_agent.run_sync(\\'can you create me a simple hello world functio in a new celland make sure I can run it right away to see the output?\\')\\nMarkdown(result.data)\\nOutputs:\\n[{\\'data\\': {\\'text/markdown\\': [\\'I\\\\\\'ve created a new code cell with a simple \"Hello, World!\" function. You can run the cell to see the output.\\'], \\'text/plain\\': [\\'<IPython.core.display.Markdown object>\\']}, \\'execution_count\\': 7, \\'metadata\\': {}, \\'output_type\\': \\'execute_result\\'}]',\n",
       " \"Cell[13]:\\nSource:\\ndef hello_world():\\n    print('Hello, World!')\\n\\n# Call the function to display the output\\nhello_world()\\nOutputs:\\n[{'name': 'stdout', 'output_type': 'stream', 'text': ['Hello, World!\\\\n']}]\",\n",
       " 'Cell[14]:\\nSource:\\nresult = notebook_agent.run_sync(\"Create a function that calculates the factorial of a number with input validation\")\\nMarkdown(result.data)\\nOutputs:\\n[{\\'data\\': {\\'text/markdown\\': [\"I have created a function named `factorial` in a new code cell. This function calculates the factorial of a number and includes input validation to ensure that the input is a non-negative integer. You can run that cell to define the function in the notebook\\'s environment.\"], \\'text/plain\\': [\\'<IPython.core.display.Markdown object>\\']}, \\'execution_count\\': 9, \\'metadata\\': {}, \\'output_type\\': \\'execute_result\\'}]',\n",
       " 'Cell[15]:\\nSource:\\ndef factorial(n):\\n    \"\"\"\\n    Calculate the factorial of a non-negative integer n.\\n\\n    Parameters:\\n    n (int): A non-negative integer whose factorial is to be computed\\n\\n    Returns:\\n    int: Factorial of the input number n\\n    \"\"\"\\n    # Input validation\\n    if not isinstance(n, int):\\n        raise TypeError(\"Input must be an integer\")\\n    if n < 0:\\n        raise ValueError(\"Input must be a non-negative integer\")\\n\\n    # Base case: factorial of 0 is 1\\n    if n == 0:\\n        return 1\\n\\n    # Recursive case: n! = n * (n-1)!\\n    return n * factorial(n - 1)\\nOutputs:\\n[]',\n",
       " 'Cell[16]:\\nSource:\\nTesting agent with history\\nOutputs:\\nNone',\n",
       " 'Cell[17]:\\nSource:\\nresult = notebook_agent.run_sync(\\'So what you just made for me here?\\', message_history=result.new_messages())\\nMarkdown(result.data)\\nOutputs:\\n[{\\'data\\': {\\'text/markdown\\': [\"I\\'ve created a Python function called `factorial` for you. This function calculates the factorial of a given non-negative integer. Here\\'s a brief overview of its features:\\\\n\", \\'\\\\n\\', \\'- **Input Validation**: It checks whether the input is a non-negative integer. If the input is not an integer, it raises a `TypeError`. If the input is a negative integer, it raises a `ValueError`.\\\\n\\', \\'- **Factorial Calculation**: It calculates the factorial using a recursive approach. The base case is that the factorial of 0 is 1, and for other numbers, it uses the recursive definition: \\\\\\\\( n! = n \\\\\\\\times (n-1)! \\\\\\\\).\\\\n\\', \\'\\\\n\\', \\'To make use of this function, you would call it with an integer argument, like so:\\\\n\\', \\'\\\\n\\', \\'```python\\\\n\\', \\'factorial(5)\\\\n\\', \\'```\\\\n\\', \\'\\\\n\\', \\'This would return `120`, which is the factorial of 5. You can test this function by running the code cell I created.\\'], \\'text/plain\\': [\\'<IPython.core.display.Markdown object>\\']}, \\'execution_count\\': 11, \\'metadata\\': {}, \\'output_type\\': \\'execute_result\\'}]',\n",
       " 'Cell[18]:\\nSource:\\nresult.all_messages()\\nOutputs:\\n[{\\'data\\': {\\'text/plain\\': [\\'[ModelRequest(parts=[SystemPromptPart(content=\"\\\\\\\\nYou are a helpful assistant that operates in a Jupyter notebook.\\\\\\\\nYour regular text responses are rendered as cell output.\\\\\\\\nYou can create new cells, edit existing cells, and run code.\\\\\\\\nYou can also use tools to help you with your tasks.\\\\\\\\nToday\\\\\\'s date is 2024-12-31.\\\\\\\\n\", part_kind=\\\\\\'system-prompt\\\\\\'), UserPromptPart(content=\\\\\\'Create a function that calculates the factorial of a number with input validation\\\\\\', timestamp=datetime.datetime(2024, 12, 31, 8, 8, 34, 458473, tzinfo=datetime.timezone.utc), part_kind=\\\\\\'user-prompt\\\\\\')], kind=\\\\\\'request\\\\\\'),\\\\n\\', \\' ModelResponse(parts=[ToolCallPart(tool_name=\\\\\\'create_cell\\\\\\', args=ArgsJson(args_json=\\\\\\'{\"content\":\"def factorial(n):\\\\\\\\\\\\\\\\n    \\\\\\\\\\\\\\\\\"\\\\\\\\\\\\\\\\\"\\\\\\\\\\\\\\\\\"\\\\\\\\\\\\\\\\n    Calculate the factorial of a non-negative integer n.\\\\\\\\\\\\\\\\n\\\\\\\\\\\\\\\\n    Parameters:\\\\\\\\\\\\\\\\n    n (int): A non-negative integer whose factorial is to be computed\\\\\\\\\\\\\\\\n\\\\\\\\\\\\\\\\n    Returns:\\\\\\\\\\\\\\\\n    int: Factorial of the input number n\\\\\\\\\\\\\\\\n    \\\\\\\\\\\\\\\\\"\\\\\\\\\\\\\\\\\"\\\\\\\\\\\\\\\\\"\\\\\\\\\\\\\\\\n    # Input validation\\\\\\\\\\\\\\\\n    if not isinstance(n, int):\\\\\\\\\\\\\\\\n        raise TypeError(\\\\\\\\\\\\\\\\\"Input must be an integer\\\\\\\\\\\\\\\\\")\\\\\\\\\\\\\\\\n    if n < 0:\\\\\\\\\\\\\\\\n        raise ValueError(\\\\\\\\\\\\\\\\\"Input must be a non-negative integer\\\\\\\\\\\\\\\\\")\\\\\\\\\\\\\\\\n\\\\\\\\\\\\\\\\n    # Base case: factorial of 0 is 1\\\\\\\\\\\\\\\\n    if n == 0:\\\\\\\\\\\\\\\\n        return 1\\\\\\\\\\\\\\\\n\\\\\\\\\\\\\\\\n    # Recursive case: n! = n * (n-1)!\\\\\\\\\\\\\\\\n    return n * factorial(n - 1)\",\"cell_type\":\"code\"}\\\\\\'), tool_call_id=\\\\\\'call_7ZMonXSp6BR3nTOGupyaiXdd\\\\\\', part_kind=\\\\\\'tool-call\\\\\\')], timestamp=datetime.datetime(2024, 12, 31, 8, 8, 35, tzinfo=datetime.timezone.utc), kind=\\\\\\'response\\\\\\'),\\\\n\\', \" ModelRequest(parts=[ToolReturnPart(tool_name=\\'create_cell\\', content=\\'Created new code cell\\', tool_call_id=\\'call_7ZMonXSp6BR3nTOGupyaiXdd\\', timestamp=datetime.datetime(2024, 12, 31, 8, 8, 37, 114822, tzinfo=datetime.timezone.utc), part_kind=\\'tool-return\\')], kind=\\'request\\'),\\\\n\", \\' ModelResponse(parts=[TextPart(content=\"I have created a function named `factorial` in a new code cell. This function calculates the factorial of a number and includes input validation to ensure that the input is a non-negative integer. You can run that cell to define the function in the notebook\\\\\\'s environment.\", part_kind=\\\\\\'text\\\\\\')], timestamp=datetime.datetime(2024, 12, 31, 8, 8, 37, tzinfo=datetime.timezone.utc), kind=\\\\\\'response\\\\\\'),\\\\n\\', \" ModelRequest(parts=[UserPromptPart(content=\\'So what you just made for me here?\\', timestamp=datetime.datetime(2024, 12, 31, 8, 8, 58, 747643, tzinfo=datetime.timezone.utc), part_kind=\\'user-prompt\\')], kind=\\'request\\'),\\\\n\", \\' ModelResponse(parts=[TextPart(content=\"I\\\\\\'ve created a Python function called `factorial` for you. This function calculates the factorial of a given non-negative integer. Here\\\\\\'s a brief overview of its features:\\\\\\\\n\\\\\\\\n- **Input Validation**: It checks whether the input is a non-negative integer. If the input is not an integer, it raises a `TypeError`. If the input is a negative integer, it raises a `ValueError`.\\\\\\\\n- **Factorial Calculation**: It calculates the factorial using a recursive approach. The base case is that the factorial of 0 is 1, and for other numbers, it uses the recursive definition: \\\\\\\\\\\\\\\\( n! = n \\\\\\\\\\\\\\\\times (n-1)! \\\\\\\\\\\\\\\\).\\\\\\\\n\\\\\\\\nTo make use of this function, you would call it with an integer argument, like so:\\\\\\\\n\\\\\\\\n```python\\\\\\\\nfactorial(5)\\\\\\\\n```\\\\\\\\n\\\\\\\\nThis would return `120`, which is the factorial of 5. You can test this function by running the code cell I created.\", part_kind=\\\\\\'text\\\\\\')], timestamp=datetime.datetime(2024, 12, 31, 8, 8, 59, tzinfo=datetime.timezone.utc), kind=\\\\\\'response\\\\\\')]\\']}, \\'execution_count\\': 12, \\'metadata\\': {}, \\'output_type\\': \\'execute_result\\'}]',\n",
       " 'Cell[19]:\\nSource:\\n### Adding notebook history\\nOutputs:\\nNone',\n",
       " 'Cell[20]:\\nSource:\\n#| export\\nimport os\\nimport json\\nfrom pathlib import Path\\nfrom typing import Optional, Dict, Any\\n\\n# Cache for notebook data\\n_notebook_cache: Dict[str, Any] = {}\\n\\ndef find_current_notebook() -> Optional[dict]:\\n    \"\"\"Find and cache the current notebook data.\\n    \\n    Returns:\\n        Dict containing notebook data or None if not found\\n    \"\"\"\\n    global _notebook_cache\\n    \\n    try:\\n        ipython = get_ipython()\\n        if not ipython:\\n            return None\\n            \\n        # Get current cell content to identify the notebook\\n        current_cell = ipython.get_parent()[\\'content\\'][\\'code\\']\\n        \\n        # Check if we already found the notebook\\n        if \\'notebook\\' in _notebook_cache:\\n            # Verify it\\'s still the correct notebook by checking the current cell\\n            notebook = _notebook_cache[\\'notebook\\']\\n            for cell in notebook[\\'cells\\']:\\n                if (cell[\\'cell_type\\'] == \\'code\\' and \\n                    \\'\\'.join(cell[\\'source\\']) == current_cell):\\n                    return notebook\\n        \\n        # If not in cache or cache is invalid, search for the notebook\\n        current_dir = Path.cwd()\\n        notebook_files = list(current_dir.glob(\"*.ipynb\"))\\n        \\n        for nb_file in notebook_files:\\n            try:\\n                with open(nb_file) as f:\\n                    notebook = json.load(f)\\n                    for cell in notebook[\\'cells\\']:\\n                        if (cell[\\'cell_type\\'] == \\'code\\' and \\n                            \\'\\'.join(cell[\\'source\\']) == current_cell):\\n                            # Found the notebook, cache it\\n                            _notebook_cache[\\'notebook\\'] = notebook\\n                            _notebook_cache[\\'file\\'] = nb_file\\n                            return notebook\\n            except Exception:\\n                continue\\n                \\n        return None\\n        \\n    except Exception as e:\\n        print(f\"Error finding notebook: {e}\")\\n        return None\\n\\nOutputs:\\n[]',\n",
       " 'Cell[21]:\\nSource:\\n#| export\\ndef get_notebook_history(max_cells: int = 5) -> list:\\n    \"\"\"Get the content of notebook cells between current and last prompt cell.\\n    \\n    Args:\\n        max_cells: Maximum number of previous cells to include\\n        \\n    Returns:\\n        List of previous cell contents\\n    \"\"\"\\n    try:\\n        # Get the cached notebook or find it\\n        notebook = find_current_notebook()\\n        if not notebook:\\n            return []\\n            \\n        # Find current cell index\\n        current_cell = get_ipython().get_parent()[\\'content\\'][\\'code\\']\\n        cells = notebook[\\'cells\\']\\n        current_idx = -1\\n        last_prompt_idx = -1\\n        \\n        # Find current cell and last prompt cell\\n        for idx, cell in enumerate(cells):\\n            source = \\'\\'.join(cell[\\'source\\']) if isinstance(cell[\\'source\\'], list) else cell[\\'source\\']\\n            \\n            # Find current cell\\n            if current_idx == -1 and cell[\\'cell_type\\'] == \\'code\\' and source == current_cell:\\n                current_idx = idx\\n                \\n            # Find last prompt cell before current cell\\n            if idx < current_idx or current_idx == -1:  # Only look at cells before current\\n                if cell[\\'cell_type\\'] == \\'code\\' and source.strip().startswith(\\'%%prompt\\'):\\n                    last_prompt_idx = idx\\n                \\n        if current_idx == -1:\\n            return []\\n            \\n        # Get cells between last prompt and current cell\\n        start_idx = last_prompt_idx + 1 if last_prompt_idx != -1 else max(0, current_idx - max_cells)\\n        history = []\\n        \\n        for idx in range(start_idx, current_idx):\\n            cell = cells[idx]            \\n            source = cell[\\'source\\'] if isinstance(cell[\\'source\\'], str) else \\'\\'.join(cell[\\'source\\'])\\n            outputs = cell[\\'outputs\\'] if isinstance(cell[\\'outputs\\'], str) else \\'\\'.join(cell[\\'outputs\\'])\\n            if not (source.strip().startswith(\\'%%prompt\\') or outputs.strip().startswith(\\'#|exclude\\') or outputs.strip().startswith(\\'#| export\\')):\\n                history.append(f\"Cell[{idx}]:\\\\nSource:\\\\n{source}\\\\nOutputs:\\\\n{outputs}\")\\n        \\n        return history\\n        \\n    except Exception as e:\\n        print(f\"Error getting notebook history: {e}\")\\n        return []\\nOutputs:\\n[]',\n",
       " 'Cell[22]:\\nSource:\\nTesting notebook history\\nOutputs:\\nNone']"
      ]
     },
     "execution_count": 28,
     "metadata": {},
     "output_type": "execute_result"
    }
   ],
   "source": [
    "nb_hist = get_notebook_history(max_cells=20)\n",
    "nb_hist"
   ]
  },
  {
   "cell_type": "markdown",
   "metadata": {},
   "source": [
    "### Creating history-aware prompt"
   ]
  },
  {
   "cell_type": "code",
   "execution_count": 29,
   "metadata": {},
   "outputs": [],
   "source": [
    "#| export\n",
    "def create_history_aware_prompt(prompt: str, message_history: list = None, max_history: int = 5) -> tuple:\n",
    "    \"\"\"Create a prompt with notebook history context and message history.\n",
    "    \n",
    "    Args:\n",
    "        prompt: The user's prompt\n",
    "        message_history: Previous conversation messages from results.all_messages()\n",
    "        max_history: Maximum number of previous cells to include\n",
    "        \n",
    "    Returns:\n",
    "        Tuple of (enhanced prompt, combined message history)\n",
    "    \"\"\"\n",
    "    try:\n",
    "        ipython = get_ipython()\n",
    "        if not ipython:\n",
    "            return prompt, message_history\n",
    "        \n",
    "        # Get new cells using our optimized get_notebook_history\n",
    "        new_cells = get_notebook_history(max_cells=max_history)\n",
    "        \n",
    "        if not new_cells and not message_history:\n",
    "            return prompt, None\n",
    "            \n",
    "        # Create message history if none exists\n",
    "        from pydantic_ai.messages import (\n",
    "            ModelRequest, ModelResponse, \n",
    "            UserPromptPart, TextPart\n",
    "        )\n",
    "        \n",
    "        messages = []\n",
    "        \n",
    "        # Add existing message history if provided\n",
    "        if message_history:\n",
    "            messages.extend(message_history)\n",
    "        \n",
    "        # Only add context message if we have new cells\n",
    "        if new_cells:\n",
    "            # Create context message with new cells\n",
    "            history_content = \"\\n\\n\".join(new_cells)\n",
    "\n",
    "            context_msg = ModelRequest(parts=[\n",
    "                UserPromptPart(\n",
    "                    content=\"Here is the context of new notebook cells that were added:\\n\" + history_content\n",
    "                )\n",
    "            ])\n",
    "            \n",
    "            # Create response acknowledging new context\n",
    "            context_response = ModelResponse(parts=[\n",
    "                TextPart(\n",
    "                    content=\"I understand the new notebook context. How can I help?\"\n",
    "                )\n",
    "            ])\n",
    "            \n",
    "            messages.extend([context_msg, context_response])\n",
    "                \n",
    "        return prompt, messages\n",
    "        \n",
    "    except Exception as e:\n",
    "        print(f\"Error creating history-aware prompt: {e}\")\n",
    "        return prompt, message_history"
   ]
  },
  {
   "cell_type": "markdown",
   "metadata": {},
   "source": [
    "Testing history-aware prompt"
   ]
  },
  {
   "cell_type": "code",
   "execution_count": 30,
   "metadata": {},
   "outputs": [
    {
     "data": {
      "text/plain": [
       "('So what you just made for me here?',\n",
       " [ModelRequest(parts=[SystemPromptPart(content=\"\\nYou are a helpful assistant that operates in a Jupyter notebook.\\nYour regular text responses are rendered as cell output.\\nYou can create new cells, edit existing cells, and run code.\\nYou can also use tools to help you with your tasks.\\nToday's date is 2024-12-31.\\n\", part_kind='system-prompt'), UserPromptPart(content='Create a function that calculates the factorial of a number with input validation', timestamp=datetime.datetime(2024, 12, 31, 8, 8, 34, 458473, tzinfo=datetime.timezone.utc), part_kind='user-prompt')], kind='request'),\n",
       "  ModelResponse(parts=[ToolCallPart(tool_name='create_cell', args=ArgsJson(args_json='{\"content\":\"def factorial(n):\\\\n    \\\\\"\\\\\"\\\\\"\\\\n    Calculate the factorial of a non-negative integer n.\\\\n\\\\n    Parameters:\\\\n    n (int): A non-negative integer whose factorial is to be computed\\\\n\\\\n    Returns:\\\\n    int: Factorial of the input number n\\\\n    \\\\\"\\\\\"\\\\\"\\\\n    # Input validation\\\\n    if not isinstance(n, int):\\\\n        raise TypeError(\\\\\"Input must be an integer\\\\\")\\\\n    if n < 0:\\\\n        raise ValueError(\\\\\"Input must be a non-negative integer\\\\\")\\\\n\\\\n    # Base case: factorial of 0 is 1\\\\n    if n == 0:\\\\n        return 1\\\\n\\\\n    # Recursive case: n! = n * (n-1)!\\\\n    return n * factorial(n - 1)\",\"cell_type\":\"code\"}'), tool_call_id='call_7ZMonXSp6BR3nTOGupyaiXdd', part_kind='tool-call')], timestamp=datetime.datetime(2024, 12, 31, 8, 8, 35, tzinfo=datetime.timezone.utc), kind='response'),\n",
       "  ModelRequest(parts=[ToolReturnPart(tool_name='create_cell', content='Created new code cell', tool_call_id='call_7ZMonXSp6BR3nTOGupyaiXdd', timestamp=datetime.datetime(2024, 12, 31, 8, 8, 37, 114822, tzinfo=datetime.timezone.utc), part_kind='tool-return')], kind='request'),\n",
       "  ModelResponse(parts=[TextPart(content=\"I have created a function named `factorial` in a new code cell. This function calculates the factorial of a number and includes input validation to ensure that the input is a non-negative integer. You can run that cell to define the function in the notebook's environment.\", part_kind='text')], timestamp=datetime.datetime(2024, 12, 31, 8, 8, 37, tzinfo=datetime.timezone.utc), kind='response'),\n",
       "  ModelRequest(parts=[UserPromptPart(content='So what you just made for me here?', timestamp=datetime.datetime(2024, 12, 31, 8, 8, 58, 747643, tzinfo=datetime.timezone.utc), part_kind='user-prompt')], kind='request'),\n",
       "  ModelResponse(parts=[TextPart(content=\"I've created a Python function called `factorial` for you. This function calculates the factorial of a given non-negative integer. Here's a brief overview of its features:\\n\\n- **Input Validation**: It checks whether the input is a non-negative integer. If the input is not an integer, it raises a `TypeError`. If the input is a negative integer, it raises a `ValueError`.\\n- **Factorial Calculation**: It calculates the factorial using a recursive approach. The base case is that the factorial of 0 is 1, and for other numbers, it uses the recursive definition: \\\\( n! = n \\\\times (n-1)! \\\\).\\n\\nTo make use of this function, you would call it with an integer argument, like so:\\n\\n```python\\nfactorial(5)\\n```\\n\\nThis would return `120`, which is the factorial of 5. You can test this function by running the code cell I created.\", part_kind='text')], timestamp=datetime.datetime(2024, 12, 31, 8, 8, 59, tzinfo=datetime.timezone.utc), kind='response'),\n",
       "  ModelRequest(parts=[UserPromptPart(content='Here is the context of new notebook cells that were added:\\nCell[7]:\\nSource:\\n#| export\\nfrom typing import cast\\nmodel = cast(KnownModelName, os.getenv(\\'PYDANTIC_AI_MODEL\\', \\'openai:gpt-4o\\'))\\nprint(f\\'PydanticAI is using model: {model}\\')\\nnotebook_agent = Agent(model, system_prompt=system_prompt)\\nOutputs:\\n[{\\'name\\': \\'stdout\\', \\'output_type\\': \\'stream\\', \\'text\\': [\\'PydanticAI is using model: openai:gpt-4o\\\\n\\']}]\\n\\nCell[8]:\\nSource:\\n#| export\\ndef refresh_agent():\\n    global notebook_agent\\n    notebook_agent = Agent(model, system_prompt=system_prompt)\\n    return notebook_agent\\n\\nOutputs:\\n[]\\n\\nCell[9]:\\nSource:\\n### Adding cell creation tool\\nOutputs:\\nNone\\n\\nCell[10]:\\nSource:\\n#| export\\nfrom IPython.display import display, Markdown\\nfrom typing import Literal\\n\\n@notebook_agent.tool\\ndef create_cell(ctx: RunContext[str], content: str, cell_type: Literal[\\'code\\', \\'markdown\\'] = \\'code\\') -> str:\\n    \"\"\"Create a new cell in the notebook with the specified content.\\n    \\n    Args:\\n        content: The content to put in the new cell\\n        cell_type: Type of cell to create (\\'code\\' or \\'markdown\\')\\n    \\n    Returns:\\n        A confirmation message\\n    \"\"\"\\n    try:    \\n        ipython = get_ipython()\\n    except NameError:\\n        return \"Error: Not running in IPython/Jupyter environment\"\\n    \\n    # Display the content immediately\\n    if cell_type == \\'code\\':\\n        # display(Markdown(f\"```python\\\\n{content}\\\\n```\"))\\n        # Set up the next cell with the content\\n        ipython.set_next_input(content)\\n    else:\\n        display(Markdown(content))\\n    \\n    return f\"Created new {cell_type} cell\"\\nOutputs:\\n[{\\'name\\': \\'stderr\\', \\'output_type\\': \\'stream\\', \\'text\\': [\\'<module>:8: No type or annotation for returned value 1\\\\n\\']}]\\n\\nCell[11]:\\nSource:\\nTool testing\\nOutputs:\\nNone\\n\\nCell[12]:\\nSource:\\nresult = notebook_agent.run_sync(\\'can you create me a simple hello world functio in a new celland make sure I can run it right away to see the output?\\')\\nMarkdown(result.data)\\nOutputs:\\n[{\\'data\\': {\\'text/markdown\\': [\\'I\\\\\\'ve created a new code cell with a simple \"Hello, World!\" function. You can run the cell to see the output.\\'], \\'text/plain\\': [\\'<IPython.core.display.Markdown object>\\']}, \\'execution_count\\': 7, \\'metadata\\': {}, \\'output_type\\': \\'execute_result\\'}]\\n\\nCell[13]:\\nSource:\\ndef hello_world():\\n    print(\\'Hello, World!\\')\\n\\n# Call the function to display the output\\nhello_world()\\nOutputs:\\n[{\\'name\\': \\'stdout\\', \\'output_type\\': \\'stream\\', \\'text\\': [\\'Hello, World!\\\\n\\']}]\\n\\nCell[14]:\\nSource:\\nresult = notebook_agent.run_sync(\"Create a function that calculates the factorial of a number with input validation\")\\nMarkdown(result.data)\\nOutputs:\\n[{\\'data\\': {\\'text/markdown\\': [\"I have created a function named `factorial` in a new code cell. This function calculates the factorial of a number and includes input validation to ensure that the input is a non-negative integer. You can run that cell to define the function in the notebook\\'s environment.\"], \\'text/plain\\': [\\'<IPython.core.display.Markdown object>\\']}, \\'execution_count\\': 9, \\'metadata\\': {}, \\'output_type\\': \\'execute_result\\'}]\\n\\nCell[15]:\\nSource:\\ndef factorial(n):\\n    \"\"\"\\n    Calculate the factorial of a non-negative integer n.\\n\\n    Parameters:\\n    n (int): A non-negative integer whose factorial is to be computed\\n\\n    Returns:\\n    int: Factorial of the input number n\\n    \"\"\"\\n    # Input validation\\n    if not isinstance(n, int):\\n        raise TypeError(\"Input must be an integer\")\\n    if n < 0:\\n        raise ValueError(\"Input must be a non-negative integer\")\\n\\n    # Base case: factorial of 0 is 1\\n    if n == 0:\\n        return 1\\n\\n    # Recursive case: n! = n * (n-1)!\\n    return n * factorial(n - 1)\\nOutputs:\\n[]\\n\\nCell[16]:\\nSource:\\nTesting agent with history\\nOutputs:\\nNone\\n\\nCell[17]:\\nSource:\\nresult = notebook_agent.run_sync(\\'So what you just made for me here?\\', message_history=result.new_messages())\\nMarkdown(result.data)\\nOutputs:\\n[{\\'data\\': {\\'text/markdown\\': [\"I\\'ve created a Python function called `factorial` for you. This function calculates the factorial of a given non-negative integer. Here\\'s a brief overview of its features:\\\\n\", \\'\\\\n\\', \\'- **Input Validation**: It checks whether the input is a non-negative integer. If the input is not an integer, it raises a `TypeError`. If the input is a negative integer, it raises a `ValueError`.\\\\n\\', \\'- **Factorial Calculation**: It calculates the factorial using a recursive approach. The base case is that the factorial of 0 is 1, and for other numbers, it uses the recursive definition: \\\\\\\\( n! = n \\\\\\\\times (n-1)! \\\\\\\\).\\\\n\\', \\'\\\\n\\', \\'To make use of this function, you would call it with an integer argument, like so:\\\\n\\', \\'\\\\n\\', \\'```python\\\\n\\', \\'factorial(5)\\\\n\\', \\'```\\\\n\\', \\'\\\\n\\', \\'This would return `120`, which is the factorial of 5. You can test this function by running the code cell I created.\\'], \\'text/plain\\': [\\'<IPython.core.display.Markdown object>\\']}, \\'execution_count\\': 11, \\'metadata\\': {}, \\'output_type\\': \\'execute_result\\'}]\\n\\nCell[18]:\\nSource:\\nresult.all_messages()\\nOutputs:\\n[{\\'data\\': {\\'text/plain\\': [\\'[ModelRequest(parts=[SystemPromptPart(content=\"\\\\\\\\nYou are a helpful assistant that operates in a Jupyter notebook.\\\\\\\\nYour regular text responses are rendered as cell output.\\\\\\\\nYou can create new cells, edit existing cells, and run code.\\\\\\\\nYou can also use tools to help you with your tasks.\\\\\\\\nToday\\\\\\'s date is 2024-12-31.\\\\\\\\n\", part_kind=\\\\\\'system-prompt\\\\\\'), UserPromptPart(content=\\\\\\'Create a function that calculates the factorial of a number with input validation\\\\\\', timestamp=datetime.datetime(2024, 12, 31, 8, 8, 34, 458473, tzinfo=datetime.timezone.utc), part_kind=\\\\\\'user-prompt\\\\\\')], kind=\\\\\\'request\\\\\\'),\\\\n\\', \\' ModelResponse(parts=[ToolCallPart(tool_name=\\\\\\'create_cell\\\\\\', args=ArgsJson(args_json=\\\\\\'{\"content\":\"def factorial(n):\\\\\\\\\\\\\\\\n    \\\\\\\\\\\\\\\\\"\\\\\\\\\\\\\\\\\"\\\\\\\\\\\\\\\\\"\\\\\\\\\\\\\\\\n    Calculate the factorial of a non-negative integer n.\\\\\\\\\\\\\\\\n\\\\\\\\\\\\\\\\n    Parameters:\\\\\\\\\\\\\\\\n    n (int): A non-negative integer whose factorial is to be computed\\\\\\\\\\\\\\\\n\\\\\\\\\\\\\\\\n    Returns:\\\\\\\\\\\\\\\\n    int: Factorial of the input number n\\\\\\\\\\\\\\\\n    \\\\\\\\\\\\\\\\\"\\\\\\\\\\\\\\\\\"\\\\\\\\\\\\\\\\\"\\\\\\\\\\\\\\\\n    # Input validation\\\\\\\\\\\\\\\\n    if not isinstance(n, int):\\\\\\\\\\\\\\\\n        raise TypeError(\\\\\\\\\\\\\\\\\"Input must be an integer\\\\\\\\\\\\\\\\\")\\\\\\\\\\\\\\\\n    if n < 0:\\\\\\\\\\\\\\\\n        raise ValueError(\\\\\\\\\\\\\\\\\"Input must be a non-negative integer\\\\\\\\\\\\\\\\\")\\\\\\\\\\\\\\\\n\\\\\\\\\\\\\\\\n    # Base case: factorial of 0 is 1\\\\\\\\\\\\\\\\n    if n == 0:\\\\\\\\\\\\\\\\n        return 1\\\\\\\\\\\\\\\\n\\\\\\\\\\\\\\\\n    # Recursive case: n! = n * (n-1)!\\\\\\\\\\\\\\\\n    return n * factorial(n - 1)\",\"cell_type\":\"code\"}\\\\\\'), tool_call_id=\\\\\\'call_7ZMonXSp6BR3nTOGupyaiXdd\\\\\\', part_kind=\\\\\\'tool-call\\\\\\')], timestamp=datetime.datetime(2024, 12, 31, 8, 8, 35, tzinfo=datetime.timezone.utc), kind=\\\\\\'response\\\\\\'),\\\\n\\', \" ModelRequest(parts=[ToolReturnPart(tool_name=\\'create_cell\\', content=\\'Created new code cell\\', tool_call_id=\\'call_7ZMonXSp6BR3nTOGupyaiXdd\\', timestamp=datetime.datetime(2024, 12, 31, 8, 8, 37, 114822, tzinfo=datetime.timezone.utc), part_kind=\\'tool-return\\')], kind=\\'request\\'),\\\\n\", \\' ModelResponse(parts=[TextPart(content=\"I have created a function named `factorial` in a new code cell. This function calculates the factorial of a number and includes input validation to ensure that the input is a non-negative integer. You can run that cell to define the function in the notebook\\\\\\'s environment.\", part_kind=\\\\\\'text\\\\\\')], timestamp=datetime.datetime(2024, 12, 31, 8, 8, 37, tzinfo=datetime.timezone.utc), kind=\\\\\\'response\\\\\\'),\\\\n\\', \" ModelRequest(parts=[UserPromptPart(content=\\'So what you just made for me here?\\', timestamp=datetime.datetime(2024, 12, 31, 8, 8, 58, 747643, tzinfo=datetime.timezone.utc), part_kind=\\'user-prompt\\')], kind=\\'request\\'),\\\\n\", \\' ModelResponse(parts=[TextPart(content=\"I\\\\\\'ve created a Python function called `factorial` for you. This function calculates the factorial of a given non-negative integer. Here\\\\\\'s a brief overview of its features:\\\\\\\\n\\\\\\\\n- **Input Validation**: It checks whether the input is a non-negative integer. If the input is not an integer, it raises a `TypeError`. If the input is a negative integer, it raises a `ValueError`.\\\\\\\\n- **Factorial Calculation**: It calculates the factorial using a recursive approach. The base case is that the factorial of 0 is 1, and for other numbers, it uses the recursive definition: \\\\\\\\\\\\\\\\( n! = n \\\\\\\\\\\\\\\\times (n-1)! \\\\\\\\\\\\\\\\).\\\\\\\\n\\\\\\\\nTo make use of this function, you would call it with an integer argument, like so:\\\\\\\\n\\\\\\\\n```python\\\\\\\\nfactorial(5)\\\\\\\\n```\\\\\\\\n\\\\\\\\nThis would return `120`, which is the factorial of 5. You can test this function by running the code cell I created.\", part_kind=\\\\\\'text\\\\\\')], timestamp=datetime.datetime(2024, 12, 31, 8, 8, 59, tzinfo=datetime.timezone.utc), kind=\\\\\\'response\\\\\\')]\\']}, \\'execution_count\\': 12, \\'metadata\\': {}, \\'output_type\\': \\'execute_result\\'}]\\n\\nCell[19]:\\nSource:\\n### Adding notebook history\\nOutputs:\\nNone\\n\\nCell[20]:\\nSource:\\n#| export\\nimport os\\nimport json\\nfrom pathlib import Path\\nfrom typing import Optional, Dict, Any\\n\\n# Cache for notebook data\\n_notebook_cache: Dict[str, Any] = {}\\n\\ndef find_current_notebook() -> Optional[dict]:\\n    \"\"\"Find and cache the current notebook data.\\n    \\n    Returns:\\n        Dict containing notebook data or None if not found\\n    \"\"\"\\n    global _notebook_cache\\n    \\n    try:\\n        ipython = get_ipython()\\n        if not ipython:\\n            return None\\n            \\n        # Get current cell content to identify the notebook\\n        current_cell = ipython.get_parent()[\\'content\\'][\\'code\\']\\n        \\n        # Check if we already found the notebook\\n        if \\'notebook\\' in _notebook_cache:\\n            # Verify it\\'s still the correct notebook by checking the current cell\\n            notebook = _notebook_cache[\\'notebook\\']\\n            for cell in notebook[\\'cells\\']:\\n                if (cell[\\'cell_type\\'] == \\'code\\' and \\n                    \\'\\'.join(cell[\\'source\\']) == current_cell):\\n                    return notebook\\n        \\n        # If not in cache or cache is invalid, search for the notebook\\n        current_dir = Path.cwd()\\n        notebook_files = list(current_dir.glob(\"*.ipynb\"))\\n        \\n        for nb_file in notebook_files:\\n            try:\\n                with open(nb_file) as f:\\n                    notebook = json.load(f)\\n                    for cell in notebook[\\'cells\\']:\\n                        if (cell[\\'cell_type\\'] == \\'code\\' and \\n                            \\'\\'.join(cell[\\'source\\']) == current_cell):\\n                            # Found the notebook, cache it\\n                            _notebook_cache[\\'notebook\\'] = notebook\\n                            _notebook_cache[\\'file\\'] = nb_file\\n                            return notebook\\n            except Exception:\\n                continue\\n                \\n        return None\\n        \\n    except Exception as e:\\n        print(f\"Error finding notebook: {e}\")\\n        return None\\n\\nOutputs:\\n[]\\n\\nCell[21]:\\nSource:\\n#| export\\ndef get_notebook_history(max_cells: int = 5) -> list:\\n    \"\"\"Get the content of notebook cells between current and last prompt cell.\\n    \\n    Args:\\n        max_cells: Maximum number of previous cells to include\\n        \\n    Returns:\\n        List of previous cell contents\\n    \"\"\"\\n    try:\\n        # Get the cached notebook or find it\\n        notebook = find_current_notebook()\\n        if not notebook:\\n            return []\\n            \\n        # Find current cell index\\n        current_cell = get_ipython().get_parent()[\\'content\\'][\\'code\\']\\n        cells = notebook[\\'cells\\']\\n        current_idx = -1\\n        last_prompt_idx = -1\\n        \\n        # Find current cell and last prompt cell\\n        for idx, cell in enumerate(cells):\\n            source = \\'\\'.join(cell[\\'source\\']) if isinstance(cell[\\'source\\'], list) else cell[\\'source\\']\\n            \\n            # Find current cell\\n            if current_idx == -1 and cell[\\'cell_type\\'] == \\'code\\' and source == current_cell:\\n                current_idx = idx\\n                \\n            # Find last prompt cell before current cell\\n            if idx < current_idx or current_idx == -1:  # Only look at cells before current\\n                if cell[\\'cell_type\\'] == \\'code\\' and source.strip().startswith(\\'%%prompt\\'):\\n                    last_prompt_idx = idx\\n                \\n        if current_idx == -1:\\n            return []\\n            \\n        # Get cells between last prompt and current cell\\n        start_idx = last_prompt_idx + 1 if last_prompt_idx != -1 else max(0, current_idx - max_cells)\\n        history = []\\n        \\n        for idx in range(start_idx, current_idx):\\n            cell = cells[idx]            \\n            source = cell[\\'source\\'] if isinstance(cell[\\'source\\'], str) else \\'\\'.join(cell[\\'source\\'])\\n            outputs = cell[\\'outputs\\'] if isinstance(cell[\\'outputs\\'], str) else \\'\\'.join(cell[\\'outputs\\'])\\n            if not (source.strip().startswith(\\'%%prompt\\') or outputs.strip().startswith(\\'#|exclude\\') or outputs.strip().startswith(\\'#| export\\')):\\n                history.append(f\"Cell[{idx}]:\\\\nSource:\\\\n{source}\\\\nOutputs:\\\\n{outputs}\")\\n        \\n        return history\\n        \\n    except Exception as e:\\n        print(f\"Error getting notebook history: {e}\")\\n        return []\\nOutputs:\\n[]\\n\\nCell[22]:\\nSource:\\nTesting notebook history\\nOutputs:\\nNone\\n\\nCell[23]:\\nSource:\\nnb_hist = get_notebook_history(max_cells=20)\\nnb_hist\\nOutputs:\\n[{\\'data\\': {\\'text/plain\\': [\"[\\'Cell[0]:\\\\\\\\n#| default_exp core\\',\\\\n\", \" \\'Cell[1]:\\\\\\\\n#| hide\\\\\\\\nfrom nbdev.showdoc import *\\',\\\\n\", \" \\'Cell[2]:\\\\\\\\n#| export\\\\\\\\nimport os\\\\\\\\nfrom dotenv import load_dotenv\\\\\\\\nfrom pydantic import BaseModel, Field\\\\\\\\nfrom pydantic_ai import Agent, ModelRetry, RunContext\\\\\\\\nfrom pydantic_ai.models import KnownModelName\\\\\\\\n\\\\\\\\nload_dotenv()\\\\\\\\n\\\\\\\\n# Enable async/await in Jupyter\\\\\\\\nimport nest_asyncio\\\\\\\\nnest_asyncio.apply()\\',\\\\n\", \\' \\\\\\'Cell[3]:\\\\\\\\n#| export\\\\\\\\nfrom datetime import date\\\\\\\\nsystem_prompt = f\"\"\"\\\\\\\\nYou are a helpful assistant that operates in a Jupyter notebook.\\\\\\\\nYour regular text responses are rendered as cell output.\\\\\\\\nYou can create new cells, edit existing cells, and run code.\\\\\\\\nYou can also use tools to help you with your tasks.\\\\\\\\nToday\\\\\\\\\\\\\\'s date is {date.today().strftime(\\\\\\\\\\\\\\'%Y-%m-%d\\\\\\\\\\\\\\')}.\\\\\\\\n\"\"\"\\\\\\',\\\\n\\', \\' \"Cell[4]:\\\\\\\\n#| export\\\\\\\\nfrom typing import cast\\\\\\\\nmodel = cast(KnownModelName, os.getenv(\\\\\\'PYDANTIC_AI_MODEL\\\\\\', \\\\\\'openai:gpt-4o\\\\\\'))\\\\\\\\nprint(f\\\\\\'PydanticAI is using model: {model}\\\\\\')\\\\\\\\nnotebook_agent = Agent(model, system_prompt=system_prompt)\",\\\\n\\', \" \\'Cell[5]:\\\\\\\\n#| export\\\\\\\\ndef refresh_agent():\\\\\\\\n    global notebook_agent\\\\\\\\n    notebook_agent = Agent(model, system_prompt=system_prompt)\\\\\\\\n    return notebook_agent\\\\\\\\n\\',\\\\n\", \\' \\\\\\'Cell[6]:\\\\\\\\n#| export\\\\\\\\nfrom IPython.display import display, Markdown\\\\\\\\nfrom typing import Literal\\\\\\\\n\\\\\\\\n@notebook_agent.tool\\\\\\\\ndef create_cell(ctx: RunContext[str], content: str, cell_type: Literal[\\\\\\\\\\\\\\'code\\\\\\\\\\\\\\', \\\\\\\\\\\\\\'markdown\\\\\\\\\\\\\\'] = \\\\\\\\\\\\\\'code\\\\\\\\\\\\\\') -> str:\\\\\\\\n    \"\"\"Create a new cell in the notebook with the specified content.\\\\\\\\n    \\\\\\\\n    Args:\\\\\\\\n        content: The content to put in the new cell\\\\\\\\n        cell_type: Type of cell to create (\\\\\\\\\\\\\\'code\\\\\\\\\\\\\\' or \\\\\\\\\\\\\\'markdown\\\\\\\\\\\\\\')\\\\\\\\n    \\\\\\\\n    Returns:\\\\\\\\n        A confirmation message\\\\\\\\n    \"\"\"\\\\\\\\n    try:    \\\\\\\\n        ipython = get_ipython()\\\\\\\\n    except NameError:\\\\\\\\n        return \"Error: Not running in IPython/Jupyter environment\"\\\\\\\\n    \\\\\\\\n    # Display the content immediately\\\\\\\\n    if cell_type == \\\\\\\\\\\\\\'code\\\\\\\\\\\\\\':\\\\\\\\n        # display(Markdown(f\"```python\\\\\\\\\\\\\\\\n{content}\\\\\\\\\\\\\\\\n```\"))\\\\\\\\n        # Set up the next cell with the content\\\\\\\\n        ipython.set_next_input(content)\\\\\\\\n    else:\\\\\\\\n        display(Markdown(content))\\\\\\\\n    \\\\\\\\n    return f\"Created new {cell_type} cell\"\\\\\\',\\\\n\\', \\' \"Cell[7]:\\\\\\\\nresult = notebook_agent.run_sync(\\\\\\'can you create me a simple hello world functio in a new celland make sure I can run it right away to see the output?\\\\\\')\\\\\\\\nMarkdown(result.data)\",\\\\n\\', \\' \"Cell[8]:\\\\\\\\ndef hello_world():\\\\\\\\n    print(\\\\\\'Hello, World!\\\\\\')\\\\\\\\n\\\\\\\\n# Call the function to display the output\\\\\\\\nhello_world()\",\\\\n\\', \\' \\\\\\'Cell[9]:\\\\\\\\nresult = notebook_agent.run_sync(\"Create a function that calculates the factorial of a number with input validation\")\\\\\\\\nMarkdown(result.data)\\\\\\',\\\\n\\', \\' \\\\\\'Cell[10]:\\\\\\\\ndef factorial(number):\\\\\\\\n    # Input validation to check if the number is a non-negative integer\\\\\\\\n    if not isinstance(number, int):\\\\\\\\n        raise ValueError(\"Input must be an integer.\")\\\\\\\\n    if number < 0:\\\\\\\\n        raise ValueError(\"Input must be a non-negative integer.\")\\\\\\\\n\\\\\\\\n    # Base case: factorial of 0 or 1 is 1\\\\\\\\n    if number == 0 or number == 1:\\\\\\\\n        return 1\\\\\\\\n\\\\\\\\n    # Recursive case: n! = n * (n-1)!\\\\\\\\n    else:\\\\\\\\n        return number * factorial(number - 1)\\\\\\\\n\\\\\\\\n# Example usage\\\\\\\\nprint(factorial(5))  # Output: 120\\\\\\\\nprint(factorial(0))  # Output: 1\\\\\\\\n\\\\\\\\n# Uncomment the following lines to test input validation\\\\\\\\n# print(factorial(-1))  # Should raise ValueError\\\\\\\\n# print(factorial(3.5))  # Should raise ValueError\\\\\\',\\\\n\\', \\' \"Cell[11]:\\\\\\\\nresult = notebook_agent.run_sync(\\\\\\'So what you just made for me here?\\\\\\', message_history=result.new_messages())\\\\\\\\nMarkdown(result.data)\",\\\\n\\', \" \\'Cell[12]:\\\\\\\\nresult.all_messages()\\',\\\\n\", \\' \\\\\\'Cell[13]:\\\\\\\\n#| export\\\\\\\\nimport os\\\\\\\\nimport json\\\\\\\\nfrom pathlib import Path\\\\\\\\nfrom typing import Optional, Dict, Any\\\\\\\\n\\\\\\\\n# Cache for notebook data\\\\\\\\n_notebook_cache: Dict[str, Any] = {}\\\\\\\\n\\\\\\\\ndef find_current_notebook() -> Optional[dict]:\\\\\\\\n    \"\"\"Find and cache the current notebook data.\\\\\\\\n    \\\\\\\\n    Returns:\\\\\\\\n        Dict containing notebook data or None if not found\\\\\\\\n    \"\"\"\\\\\\\\n    global _notebook_cache\\\\\\\\n    \\\\\\\\n    try:\\\\\\\\n        ipython = get_ipython()\\\\\\\\n        if not ipython:\\\\\\\\n            return None\\\\\\\\n            \\\\\\\\n        # Get current cell content to identify the notebook\\\\\\\\n        current_cell = ipython.get_parent()[\\\\\\\\\\\\\\'content\\\\\\\\\\\\\\'][\\\\\\\\\\\\\\'code\\\\\\\\\\\\\\']\\\\\\\\n        \\\\\\\\n        # Check if we already found the notebook\\\\\\\\n        if \\\\\\\\\\\\\\'notebook\\\\\\\\\\\\\\' in _notebook_cache:\\\\\\\\n            # Verify it\\\\\\\\\\\\\\'s still the correct notebook by checking the current cell\\\\\\\\n            notebook = _notebook_cache[\\\\\\\\\\\\\\'notebook\\\\\\\\\\\\\\']\\\\\\\\n            for cell in notebook[\\\\\\\\\\\\\\'cells\\\\\\\\\\\\\\']:\\\\\\\\n                if (cell[\\\\\\\\\\\\\\'cell_type\\\\\\\\\\\\\\'] == \\\\\\\\\\\\\\'code\\\\\\\\\\\\\\' and \\\\\\\\n                    \\\\\\\\\\\\\\'\\\\\\\\\\\\\\'.join(cell[\\\\\\\\\\\\\\'source\\\\\\\\\\\\\\']) == current_cell):\\\\\\\\n                    return notebook\\\\\\\\n        \\\\\\\\n        # If not in cache or cache is invalid, search for the notebook\\\\\\\\n        current_dir = Path.cwd()\\\\\\\\n        notebook_files = list(current_dir.glob(\"*.ipynb\"))\\\\\\\\n        \\\\\\\\n        for nb_file in notebook_files:\\\\\\\\n            try:\\\\\\\\n                with open(nb_file) as f:\\\\\\\\n                    notebook = json.load(f)\\\\\\\\n                    for cell in notebook[\\\\\\\\\\\\\\'cells\\\\\\\\\\\\\\']:\\\\\\\\n                        if (cell[\\\\\\\\\\\\\\'cell_type\\\\\\\\\\\\\\'] == \\\\\\\\\\\\\\'code\\\\\\\\\\\\\\' and \\\\\\\\n                            \\\\\\\\\\\\\\'\\\\\\\\\\\\\\'.join(cell[\\\\\\\\\\\\\\'source\\\\\\\\\\\\\\']) == current_cell):\\\\\\\\n                            # Found the notebook, cache it\\\\\\\\n                            _notebook_cache[\\\\\\\\\\\\\\'notebook\\\\\\\\\\\\\\'] = notebook\\\\\\\\n                            _notebook_cache[\\\\\\\\\\\\\\'file\\\\\\\\\\\\\\'] = nb_file\\\\\\\\n                            return notebook\\\\\\\\n            except Exception:\\\\\\\\n                continue\\\\\\\\n                \\\\\\\\n        return None\\\\\\\\n        \\\\\\\\n    except Exception as e:\\\\\\\\n        print(f\"Error finding notebook: {e}\")\\\\\\\\n        return None\\\\\\\\n\\\\\\',\\\\n\\', \\' \\\\\\'Cell[14]:\\\\\\\\n#| export\\\\\\\\ndef get_notebook_history(max_cells: int = 5) -> list:\\\\\\\\n    \"\"\"Get the content of notebook cells between current and last prompt cell.\\\\\\\\n    \\\\\\\\n    Args:\\\\\\\\n        max_cells: Maximum number of previous cells to include\\\\\\\\n        \\\\\\\\n    Returns:\\\\\\\\n        List of previous cell contents\\\\\\\\n    \"\"\"\\\\\\\\n    try:\\\\\\\\n        # Get the cached notebook or find it\\\\\\\\n        notebook = find_current_notebook()\\\\\\\\n        if not notebook:\\\\\\\\n            return []\\\\\\\\n            \\\\\\\\n        # Find current cell index\\\\\\\\n        current_cell = get_ipython().get_parent()[\\\\\\\\\\\\\\'content\\\\\\\\\\\\\\'][\\\\\\\\\\\\\\'code\\\\\\\\\\\\\\']\\\\\\\\n        cells = notebook[\\\\\\\\\\\\\\'cells\\\\\\\\\\\\\\']\\\\\\\\n        current_idx = -1\\\\\\\\n        last_prompt_idx = -1\\\\\\\\n        \\\\\\\\n        # Find current cell and last prompt cell\\\\\\\\n        for idx, cell in enumerate(cells):\\\\\\\\n            source = \\\\\\\\\\\\\\'\\\\\\\\\\\\\\'.join(cell[\\\\\\\\\\\\\\'source\\\\\\\\\\\\\\']) if isinstance(cell[\\\\\\\\\\\\\\'source\\\\\\\\\\\\\\'], list) else cell[\\\\\\\\\\\\\\'source\\\\\\\\\\\\\\']\\\\\\\\n            \\\\\\\\n            # Find current cell\\\\\\\\n            if current_idx == -1 and cell[\\\\\\\\\\\\\\'cell_type\\\\\\\\\\\\\\'] == \\\\\\\\\\\\\\'code\\\\\\\\\\\\\\' and source == current_cell:\\\\\\\\n                current_idx = idx\\\\\\\\n                \\\\\\\\n            # Find last prompt cell before current cell\\\\\\\\n            if idx < current_idx or current_idx == -1:  # Only look at cells before current\\\\\\\\n                if cell[\\\\\\\\\\\\\\'cell_type\\\\\\\\\\\\\\'] == \\\\\\\\\\\\\\'code\\\\\\\\\\\\\\' and source.strip().startswith(\\\\\\\\\\\\\\'%%prompt\\\\\\\\\\\\\\'):\\\\\\\\n                    last_prompt_idx = idx\\\\\\\\n                \\\\\\\\n        if current_idx == -1:\\\\\\\\n            return []\\\\\\\\n            \\\\\\\\n        # Get cells between last prompt and current cell\\\\\\\\n        start_idx = last_prompt_idx + 1 if last_prompt_idx != -1 else max(0, current_idx - max_cells)\\\\\\\\n        history = []\\\\\\\\n        \\\\\\\\n        for idx in range(start_idx, current_idx):\\\\\\\\n            cell = cells[idx]\\\\\\\\n            if cell[\\\\\\\\\\\\\\'cell_type\\\\\\\\\\\\\\'] == \\\\\\\\\\\\\\'code\\\\\\\\\\\\\\':  # Only include code cells\\\\\\\\n                # Skip cells that are prompt cells and nbdev directives\\\\\\\\n                source = cell[\\\\\\\\\\\\\\'source\\\\\\\\\\\\\\'] if isinstance(cell[\\\\\\\\\\\\\\'source\\\\\\\\\\\\\\'], str) else \\\\\\\\\\\\\\'\\\\\\\\\\\\\\'.join(cell[\\\\\\\\\\\\\\'source\\\\\\\\\\\\\\'])\\\\\\\\n                if not source.strip().startswith(\\\\\\\\\\\\\\'%%prompt\\\\\\\\\\\\\\'):\\\\\\\\n                    history.append(f\"Cell[{idx}]:\\\\\\\\\\\\\\\\n{source}\")\\\\\\\\n        \\\\\\\\n        return history\\\\\\\\n        \\\\\\\\n    except Exception as e:\\\\\\\\n        print(f\"Error getting notebook history: {e}\")\\\\\\\\n        return []\\\\\\']\\']}, \\'execution_count\\': 58, \\'metadata\\': {}, \\'output_type\\': \\'execute_result\\'}]\\n\\nCell[24]:\\nSource:\\n### Creating history-aware prompt\\nOutputs:\\nNone\\n\\nCell[25]:\\nSource:\\n#| export\\ndef create_history_aware_prompt(prompt: str, message_history: list = None, max_history: int = 5) -> tuple:\\n    \"\"\"Create a prompt with notebook history context and message history.\\n    \\n    Args:\\n        prompt: The user\\'s prompt\\n        message_history: Previous conversation messages from results.all_messages()\\n        max_history: Maximum number of previous cells to include\\n        \\n    Returns:\\n        Tuple of (enhanced prompt, combined message history)\\n    \"\"\"\\n    try:\\n        ipython = get_ipython()\\n        if not ipython:\\n            return prompt, message_history\\n        \\n        # Get new cells using our optimized get_notebook_history\\n        new_cells = get_notebook_history(max_cells=max_history)\\n        \\n        if not new_cells and not message_history:\\n            return prompt, None\\n            \\n        # Create message history if none exists\\n        from pydantic_ai.messages import (\\n            ModelRequest, ModelResponse, \\n            UserPromptPart, TextPart\\n        )\\n        \\n        messages = []\\n        \\n        # Add existing message history if provided\\n        if message_history:\\n            messages.extend(message_history)\\n        \\n        # Only add context message if we have new cells\\n        if new_cells:\\n            # Create context message with new cells\\n            history_content = \"\\\\n\\\\n\".join(new_cells)\\n\\n            context_msg = ModelRequest(parts=[\\n                UserPromptPart(\\n                    content=\"Here is the context of new notebook cells that were added:\\\\n\" + history_content\\n                )\\n            ])\\n            \\n            # Create response acknowledging new context\\n            context_response = ModelResponse(parts=[\\n                TextPart(\\n                    content=\"I understand the new notebook context. How can I help?\"\\n                )\\n            ])\\n            \\n            messages.extend([context_msg, context_response])\\n                \\n        return prompt, messages\\n        \\n    except Exception as e:\\n        print(f\"Error creating history-aware prompt: {e}\")\\n        return prompt, message_history\\nOutputs:\\n[]\\n\\nCell[26]:\\nSource:\\nTesting history-aware prompt\\nOutputs:\\nNone', timestamp=datetime.datetime(2024, 12, 31, 8, 26, 5, 737496, tzinfo=datetime.timezone.utc), part_kind='user-prompt')], kind='request'),\n",
       "  ModelResponse(parts=[TextPart(content='I understand the new notebook context. How can I help?', part_kind='text')], timestamp=datetime.datetime(2024, 12, 31, 8, 26, 5, 737510, tzinfo=datetime.timezone.utc), kind='response')])"
      ]
     },
     "execution_count": 30,
     "metadata": {},
     "output_type": "execute_result"
    }
   ],
   "source": [
    "create_history_aware_prompt('So what you just made for me here?', result.all_messages(), max_history=20)"
   ]
  },
  {
   "cell_type": "markdown",
   "metadata": {},
   "source": [
    "### Running agent with notebook history"
   ]
  },
  {
   "cell_type": "code",
   "execution_count": 31,
   "metadata": {},
   "outputs": [],
   "source": [
    "#| export\n",
    "from typing import Any\n",
    "def run_with_history(agent: Agent, prompt: str, message_history: list = None, max_history: int = 5) -> Any:\n",
    "    \"\"\"Run the agent with notebook and conversation history context.\n",
    "    \n",
    "    Args:\n",
    "        agent: The PydanticAI agent\n",
    "        prompt: The user's prompt\n",
    "        message_history: Previous conversation messages\n",
    "        max_history: Maximum number of previous cells to include\n",
    "        \n",
    "    Returns:\n",
    "        Agent run result\n",
    "    \"\"\"\n",
    "    prompt, combined_history = create_history_aware_prompt(\n",
    "        prompt, \n",
    "        message_history=message_history, \n",
    "        max_history=max_history\n",
    "    )\n",
    "    return agent.run_sync(prompt, message_history=combined_history)"
   ]
  },
  {
   "cell_type": "markdown",
   "metadata": {},
   "source": [
    "Testing run_with_history"
   ]
  },
  {
   "cell_type": "code",
   "execution_count": 32,
   "metadata": {},
   "outputs": [
    {
     "data": {
      "text/markdown": [
       "In this notebook, it seems you are exploring the use of a Jupyter notebook environment with some form of automation or tooling integration, likely involving the `pydantic_ai` library and custom functions to enhance interaction. Here's a breakdown of what's happening across the cells:\n",
       "\n",
       "1. **Tool and Function Creation**: There are cells involving tool testing and function creation, such as a `hello_world` function and a `factorial` function with input validation. These are basic Python functions to demonstrate functionality and validate input for certain operations.\n",
       "\n",
       "2. **Notebook Management Code**: Functions like `find_current_notebook` and `get_notebook_history` are used to identify and manage the notebook state, potentially to track changes or maintain state between interactions.\n",
       "\n",
       "3. **Prompt and Response Handling**: Functions like `create_history_aware_prompt` are designed to enhance prompt interactions by incorporating notebook history and message history. This might be aimed at creating a more context-aware virtual assistant or agent within the notebook.\n",
       "\n",
       "4. **Integration with External Agent**: There is mention of a `notebook_agent`, which appears to be an instance of a virtual assistant (possibly powered by AI) that interacts with the user through the notebook. This involves handling user prompts, generating responses, and creating new cells in the notebook.\n",
       "\n",
       "5. **Testing and Debugging**: There are various points in the notebook where functions and features are being tested, like `run_with_history` which combines notebook context with conversational history to perform operations.\n",
       "\n",
       "Overall, the notebook is set up to experiment with automated interactions using an AI-powered agent, managing notebooks dynamically, and running code through direct and possibly conversational interfaces. If there's anything specific you need help with, let me know!"
      ],
      "text/plain": [
       "<IPython.core.display.Markdown object>"
      ]
     },
     "execution_count": 32,
     "metadata": {},
     "output_type": "execute_result"
    }
   ],
   "source": [
    "result = run_with_history(notebook_agent, 'So what is going on in this notebook?',result.all_messages(), max_history=20)\n",
    "Markdown(result.data)\n"
   ]
  },
  {
   "cell_type": "code",
   "execution_count": 33,
   "metadata": {},
   "outputs": [
    {
     "data": {
      "text/plain": [
       "[ModelRequest(parts=[SystemPromptPart(content=\"\\nYou are a helpful assistant that operates in a Jupyter notebook.\\nYour regular text responses are rendered as cell output.\\nYou can create new cells, edit existing cells, and run code.\\nYou can also use tools to help you with your tasks.\\nToday's date is 2024-12-31.\\n\", part_kind='system-prompt'), UserPromptPart(content='Create a function that calculates the factorial of a number with input validation', timestamp=datetime.datetime(2024, 12, 31, 8, 8, 34, 458473, tzinfo=datetime.timezone.utc), part_kind='user-prompt')], kind='request'),\n",
       " ModelResponse(parts=[ToolCallPart(tool_name='create_cell', args=ArgsJson(args_json='{\"content\":\"def factorial(n):\\\\n    \\\\\"\\\\\"\\\\\"\\\\n    Calculate the factorial of a non-negative integer n.\\\\n\\\\n    Parameters:\\\\n    n (int): A non-negative integer whose factorial is to be computed\\\\n\\\\n    Returns:\\\\n    int: Factorial of the input number n\\\\n    \\\\\"\\\\\"\\\\\"\\\\n    # Input validation\\\\n    if not isinstance(n, int):\\\\n        raise TypeError(\\\\\"Input must be an integer\\\\\")\\\\n    if n < 0:\\\\n        raise ValueError(\\\\\"Input must be a non-negative integer\\\\\")\\\\n\\\\n    # Base case: factorial of 0 is 1\\\\n    if n == 0:\\\\n        return 1\\\\n\\\\n    # Recursive case: n! = n * (n-1)!\\\\n    return n * factorial(n - 1)\",\"cell_type\":\"code\"}'), tool_call_id='call_7ZMonXSp6BR3nTOGupyaiXdd', part_kind='tool-call')], timestamp=datetime.datetime(2024, 12, 31, 8, 8, 35, tzinfo=datetime.timezone.utc), kind='response'),\n",
       " ModelRequest(parts=[ToolReturnPart(tool_name='create_cell', content='Created new code cell', tool_call_id='call_7ZMonXSp6BR3nTOGupyaiXdd', timestamp=datetime.datetime(2024, 12, 31, 8, 8, 37, 114822, tzinfo=datetime.timezone.utc), part_kind='tool-return')], kind='request'),\n",
       " ModelResponse(parts=[TextPart(content=\"I have created a function named `factorial` in a new code cell. This function calculates the factorial of a number and includes input validation to ensure that the input is a non-negative integer. You can run that cell to define the function in the notebook's environment.\", part_kind='text')], timestamp=datetime.datetime(2024, 12, 31, 8, 8, 37, tzinfo=datetime.timezone.utc), kind='response'),\n",
       " ModelRequest(parts=[UserPromptPart(content='So what you just made for me here?', timestamp=datetime.datetime(2024, 12, 31, 8, 8, 58, 747643, tzinfo=datetime.timezone.utc), part_kind='user-prompt')], kind='request'),\n",
       " ModelResponse(parts=[TextPart(content=\"I've created a Python function called `factorial` for you. This function calculates the factorial of a given non-negative integer. Here's a brief overview of its features:\\n\\n- **Input Validation**: It checks whether the input is a non-negative integer. If the input is not an integer, it raises a `TypeError`. If the input is a negative integer, it raises a `ValueError`.\\n- **Factorial Calculation**: It calculates the factorial using a recursive approach. The base case is that the factorial of 0 is 1, and for other numbers, it uses the recursive definition: \\\\( n! = n \\\\times (n-1)! \\\\).\\n\\nTo make use of this function, you would call it with an integer argument, like so:\\n\\n```python\\nfactorial(5)\\n```\\n\\nThis would return `120`, which is the factorial of 5. You can test this function by running the code cell I created.\", part_kind='text')], timestamp=datetime.datetime(2024, 12, 31, 8, 8, 59, tzinfo=datetime.timezone.utc), kind='response'),\n",
       " ModelRequest(parts=[UserPromptPart(content='Here is the context of new notebook cells that were added:\\nCell[11]:\\nSource:\\nTool testing\\nOutputs:\\nNone\\n\\nCell[12]:\\nSource:\\nresult = notebook_agent.run_sync(\\'can you create me a simple hello world functio in a new celland make sure I can run it right away to see the output?\\')\\nMarkdown(result.data)\\nOutputs:\\n[{\\'data\\': {\\'text/markdown\\': [\\'I\\\\\\'ve created a new code cell with a simple \"Hello, World!\" function. You can run the cell to see the output.\\'], \\'text/plain\\': [\\'<IPython.core.display.Markdown object>\\']}, \\'execution_count\\': 7, \\'metadata\\': {}, \\'output_type\\': \\'execute_result\\'}]\\n\\nCell[13]:\\nSource:\\ndef hello_world():\\n    print(\\'Hello, World!\\')\\n\\n# Call the function to display the output\\nhello_world()\\nOutputs:\\n[{\\'name\\': \\'stdout\\', \\'output_type\\': \\'stream\\', \\'text\\': [\\'Hello, World!\\\\n\\']}]\\n\\nCell[14]:\\nSource:\\nresult = notebook_agent.run_sync(\"Create a function that calculates the factorial of a number with input validation\")\\nMarkdown(result.data)\\nOutputs:\\n[{\\'data\\': {\\'text/markdown\\': [\"I have created a function named `factorial` in a new code cell. This function calculates the factorial of a number and includes input validation to ensure that the input is a non-negative integer. You can run that cell to define the function in the notebook\\'s environment.\"], \\'text/plain\\': [\\'<IPython.core.display.Markdown object>\\']}, \\'execution_count\\': 9, \\'metadata\\': {}, \\'output_type\\': \\'execute_result\\'}]\\n\\nCell[15]:\\nSource:\\ndef factorial(n):\\n    \"\"\"\\n    Calculate the factorial of a non-negative integer n.\\n\\n    Parameters:\\n    n (int): A non-negative integer whose factorial is to be computed\\n\\n    Returns:\\n    int: Factorial of the input number n\\n    \"\"\"\\n    # Input validation\\n    if not isinstance(n, int):\\n        raise TypeError(\"Input must be an integer\")\\n    if n < 0:\\n        raise ValueError(\"Input must be a non-negative integer\")\\n\\n    # Base case: factorial of 0 is 1\\n    if n == 0:\\n        return 1\\n\\n    # Recursive case: n! = n * (n-1)!\\n    return n * factorial(n - 1)\\nOutputs:\\n[]\\n\\nCell[16]:\\nSource:\\nTesting agent with history\\nOutputs:\\nNone\\n\\nCell[17]:\\nSource:\\nresult = notebook_agent.run_sync(\\'So what you just made for me here?\\', message_history=result.new_messages())\\nMarkdown(result.data)\\nOutputs:\\n[{\\'data\\': {\\'text/markdown\\': [\"I\\'ve created a Python function called `factorial` for you. This function calculates the factorial of a given non-negative integer. Here\\'s a brief overview of its features:\\\\n\", \\'\\\\n\\', \\'- **Input Validation**: It checks whether the input is a non-negative integer. If the input is not an integer, it raises a `TypeError`. If the input is a negative integer, it raises a `ValueError`.\\\\n\\', \\'- **Factorial Calculation**: It calculates the factorial using a recursive approach. The base case is that the factorial of 0 is 1, and for other numbers, it uses the recursive definition: \\\\\\\\( n! = n \\\\\\\\times (n-1)! \\\\\\\\).\\\\n\\', \\'\\\\n\\', \\'To make use of this function, you would call it with an integer argument, like so:\\\\n\\', \\'\\\\n\\', \\'```python\\\\n\\', \\'factorial(5)\\\\n\\', \\'```\\\\n\\', \\'\\\\n\\', \\'This would return `120`, which is the factorial of 5. You can test this function by running the code cell I created.\\'], \\'text/plain\\': [\\'<IPython.core.display.Markdown object>\\']}, \\'execution_count\\': 11, \\'metadata\\': {}, \\'output_type\\': \\'execute_result\\'}]\\n\\nCell[18]:\\nSource:\\nresult.all_messages()\\nOutputs:\\n[{\\'data\\': {\\'text/plain\\': [\\'[ModelRequest(parts=[SystemPromptPart(content=\"\\\\\\\\nYou are a helpful assistant that operates in a Jupyter notebook.\\\\\\\\nYour regular text responses are rendered as cell output.\\\\\\\\nYou can create new cells, edit existing cells, and run code.\\\\\\\\nYou can also use tools to help you with your tasks.\\\\\\\\nToday\\\\\\'s date is 2024-12-31.\\\\\\\\n\", part_kind=\\\\\\'system-prompt\\\\\\'), UserPromptPart(content=\\\\\\'Create a function that calculates the factorial of a number with input validation\\\\\\', timestamp=datetime.datetime(2024, 12, 31, 8, 8, 34, 458473, tzinfo=datetime.timezone.utc), part_kind=\\\\\\'user-prompt\\\\\\')], kind=\\\\\\'request\\\\\\'),\\\\n\\', \\' ModelResponse(parts=[ToolCallPart(tool_name=\\\\\\'create_cell\\\\\\', args=ArgsJson(args_json=\\\\\\'{\"content\":\"def factorial(n):\\\\\\\\\\\\\\\\n    \\\\\\\\\\\\\\\\\"\\\\\\\\\\\\\\\\\"\\\\\\\\\\\\\\\\\"\\\\\\\\\\\\\\\\n    Calculate the factorial of a non-negative integer n.\\\\\\\\\\\\\\\\n\\\\\\\\\\\\\\\\n    Parameters:\\\\\\\\\\\\\\\\n    n (int): A non-negative integer whose factorial is to be computed\\\\\\\\\\\\\\\\n\\\\\\\\\\\\\\\\n    Returns:\\\\\\\\\\\\\\\\n    int: Factorial of the input number n\\\\\\\\\\\\\\\\n    \\\\\\\\\\\\\\\\\"\\\\\\\\\\\\\\\\\"\\\\\\\\\\\\\\\\\"\\\\\\\\\\\\\\\\n    # Input validation\\\\\\\\\\\\\\\\n    if not isinstance(n, int):\\\\\\\\\\\\\\\\n        raise TypeError(\\\\\\\\\\\\\\\\\"Input must be an integer\\\\\\\\\\\\\\\\\")\\\\\\\\\\\\\\\\n    if n < 0:\\\\\\\\\\\\\\\\n        raise ValueError(\\\\\\\\\\\\\\\\\"Input must be a non-negative integer\\\\\\\\\\\\\\\\\")\\\\\\\\\\\\\\\\n\\\\\\\\\\\\\\\\n    # Base case: factorial of 0 is 1\\\\\\\\\\\\\\\\n    if n == 0:\\\\\\\\\\\\\\\\n        return 1\\\\\\\\\\\\\\\\n\\\\\\\\\\\\\\\\n    # Recursive case: n! = n * (n-1)!\\\\\\\\\\\\\\\\n    return n * factorial(n - 1)\",\"cell_type\":\"code\"}\\\\\\'), tool_call_id=\\\\\\'call_7ZMonXSp6BR3nTOGupyaiXdd\\\\\\', part_kind=\\\\\\'tool-call\\\\\\')], timestamp=datetime.datetime(2024, 12, 31, 8, 8, 35, tzinfo=datetime.timezone.utc), kind=\\\\\\'response\\\\\\'),\\\\n\\', \" ModelRequest(parts=[ToolReturnPart(tool_name=\\'create_cell\\', content=\\'Created new code cell\\', tool_call_id=\\'call_7ZMonXSp6BR3nTOGupyaiXdd\\', timestamp=datetime.datetime(2024, 12, 31, 8, 8, 37, 114822, tzinfo=datetime.timezone.utc), part_kind=\\'tool-return\\')], kind=\\'request\\'),\\\\n\", \\' ModelResponse(parts=[TextPart(content=\"I have created a function named `factorial` in a new code cell. This function calculates the factorial of a number and includes input validation to ensure that the input is a non-negative integer. You can run that cell to define the function in the notebook\\\\\\'s environment.\", part_kind=\\\\\\'text\\\\\\')], timestamp=datetime.datetime(2024, 12, 31, 8, 8, 37, tzinfo=datetime.timezone.utc), kind=\\\\\\'response\\\\\\'),\\\\n\\', \" ModelRequest(parts=[UserPromptPart(content=\\'So what you just made for me here?\\', timestamp=datetime.datetime(2024, 12, 31, 8, 8, 58, 747643, tzinfo=datetime.timezone.utc), part_kind=\\'user-prompt\\')], kind=\\'request\\'),\\\\n\", \\' ModelResponse(parts=[TextPart(content=\"I\\\\\\'ve created a Python function called `factorial` for you. This function calculates the factorial of a given non-negative integer. Here\\\\\\'s a brief overview of its features:\\\\\\\\n\\\\\\\\n- **Input Validation**: It checks whether the input is a non-negative integer. If the input is not an integer, it raises a `TypeError`. If the input is a negative integer, it raises a `ValueError`.\\\\\\\\n- **Factorial Calculation**: It calculates the factorial using a recursive approach. The base case is that the factorial of 0 is 1, and for other numbers, it uses the recursive definition: \\\\\\\\\\\\\\\\( n! = n \\\\\\\\\\\\\\\\times (n-1)! \\\\\\\\\\\\\\\\).\\\\\\\\n\\\\\\\\nTo make use of this function, you would call it with an integer argument, like so:\\\\\\\\n\\\\\\\\n```python\\\\\\\\nfactorial(5)\\\\\\\\n```\\\\\\\\n\\\\\\\\nThis would return `120`, which is the factorial of 5. You can test this function by running the code cell I created.\", part_kind=\\\\\\'text\\\\\\')], timestamp=datetime.datetime(2024, 12, 31, 8, 8, 59, tzinfo=datetime.timezone.utc), kind=\\\\\\'response\\\\\\')]\\']}, \\'execution_count\\': 12, \\'metadata\\': {}, \\'output_type\\': \\'execute_result\\'}]\\n\\nCell[19]:\\nSource:\\n### Adding notebook history\\nOutputs:\\nNone\\n\\nCell[20]:\\nSource:\\n#| export\\nimport os\\nimport json\\nfrom pathlib import Path\\nfrom typing import Optional, Dict, Any\\n\\n# Cache for notebook data\\n_notebook_cache: Dict[str, Any] = {}\\n\\ndef find_current_notebook() -> Optional[dict]:\\n    \"\"\"Find and cache the current notebook data.\\n    \\n    Returns:\\n        Dict containing notebook data or None if not found\\n    \"\"\"\\n    global _notebook_cache\\n    \\n    try:\\n        ipython = get_ipython()\\n        if not ipython:\\n            return None\\n            \\n        # Get current cell content to identify the notebook\\n        current_cell = ipython.get_parent()[\\'content\\'][\\'code\\']\\n        \\n        # Check if we already found the notebook\\n        if \\'notebook\\' in _notebook_cache:\\n            # Verify it\\'s still the correct notebook by checking the current cell\\n            notebook = _notebook_cache[\\'notebook\\']\\n            for cell in notebook[\\'cells\\']:\\n                if (cell[\\'cell_type\\'] == \\'code\\' and \\n                    \\'\\'.join(cell[\\'source\\']) == current_cell):\\n                    return notebook\\n        \\n        # If not in cache or cache is invalid, search for the notebook\\n        current_dir = Path.cwd()\\n        notebook_files = list(current_dir.glob(\"*.ipynb\"))\\n        \\n        for nb_file in notebook_files:\\n            try:\\n                with open(nb_file) as f:\\n                    notebook = json.load(f)\\n                    for cell in notebook[\\'cells\\']:\\n                        if (cell[\\'cell_type\\'] == \\'code\\' and \\n                            \\'\\'.join(cell[\\'source\\']) == current_cell):\\n                            # Found the notebook, cache it\\n                            _notebook_cache[\\'notebook\\'] = notebook\\n                            _notebook_cache[\\'file\\'] = nb_file\\n                            return notebook\\n            except Exception:\\n                continue\\n                \\n        return None\\n        \\n    except Exception as e:\\n        print(f\"Error finding notebook: {e}\")\\n        return None\\n\\nOutputs:\\n[]\\n\\nCell[21]:\\nSource:\\n#| export\\ndef get_notebook_history(max_cells: int = 5) -> list:\\n    \"\"\"Get the content of notebook cells between current and last prompt cell.\\n    \\n    Args:\\n        max_cells: Maximum number of previous cells to include\\n        \\n    Returns:\\n        List of previous cell contents\\n    \"\"\"\\n    try:\\n        # Get the cached notebook or find it\\n        notebook = find_current_notebook()\\n        if not notebook:\\n            return []\\n            \\n        # Find current cell index\\n        current_cell = get_ipython().get_parent()[\\'content\\'][\\'code\\']\\n        cells = notebook[\\'cells\\']\\n        current_idx = -1\\n        last_prompt_idx = -1\\n        \\n        # Find current cell and last prompt cell\\n        for idx, cell in enumerate(cells):\\n            source = \\'\\'.join(cell[\\'source\\']) if isinstance(cell[\\'source\\'], list) else cell[\\'source\\']\\n            \\n            # Find current cell\\n            if current_idx == -1 and cell[\\'cell_type\\'] == \\'code\\' and source == current_cell:\\n                current_idx = idx\\n                \\n            # Find last prompt cell before current cell\\n            if idx < current_idx or current_idx == -1:  # Only look at cells before current\\n                if cell[\\'cell_type\\'] == \\'code\\' and source.strip().startswith(\\'%%prompt\\'):\\n                    last_prompt_idx = idx\\n                \\n        if current_idx == -1:\\n            return []\\n            \\n        # Get cells between last prompt and current cell\\n        start_idx = last_prompt_idx + 1 if last_prompt_idx != -1 else max(0, current_idx - max_cells)\\n        history = []\\n        \\n        for idx in range(start_idx, current_idx):\\n            cell = cells[idx]            \\n            source = cell[\\'source\\'] if isinstance(cell[\\'source\\'], str) else \\'\\'.join(cell[\\'source\\'])\\n            outputs = cell[\\'outputs\\'] if isinstance(cell[\\'outputs\\'], str) else \\'\\'.join(cell[\\'outputs\\'])\\n            if not (source.strip().startswith(\\'%%prompt\\') or outputs.strip().startswith(\\'#|exclude\\') or outputs.strip().startswith(\\'#| export\\')):\\n                history.append(f\"Cell[{idx}]:\\\\nSource:\\\\n{source}\\\\nOutputs:\\\\n{outputs}\")\\n        \\n        return history\\n        \\n    except Exception as e:\\n        print(f\"Error getting notebook history: {e}\")\\n        return []\\nOutputs:\\n[]\\n\\nCell[22]:\\nSource:\\nTesting notebook history\\nOutputs:\\nNone\\n\\nCell[23]:\\nSource:\\nnb_hist = get_notebook_history(max_cells=20)\\nnb_hist\\nOutputs:\\n[{\\'data\\': {\\'text/plain\\': [\"[\\'Cell[0]:\\\\\\\\n#| default_exp core\\',\\\\n\", \" \\'Cell[1]:\\\\\\\\n#| hide\\\\\\\\nfrom nbdev.showdoc import *\\',\\\\n\", \" \\'Cell[2]:\\\\\\\\n#| export\\\\\\\\nimport os\\\\\\\\nfrom dotenv import load_dotenv\\\\\\\\nfrom pydantic import BaseModel, Field\\\\\\\\nfrom pydantic_ai import Agent, ModelRetry, RunContext\\\\\\\\nfrom pydantic_ai.models import KnownModelName\\\\\\\\n\\\\\\\\nload_dotenv()\\\\\\\\n\\\\\\\\n# Enable async/await in Jupyter\\\\\\\\nimport nest_asyncio\\\\\\\\nnest_asyncio.apply()\\',\\\\n\", \\' \\\\\\'Cell[3]:\\\\\\\\n#| export\\\\\\\\nfrom datetime import date\\\\\\\\nsystem_prompt = f\"\"\"\\\\\\\\nYou are a helpful assistant that operates in a Jupyter notebook.\\\\\\\\nYour regular text responses are rendered as cell output.\\\\\\\\nYou can create new cells, edit existing cells, and run code.\\\\\\\\nYou can also use tools to help you with your tasks.\\\\\\\\nToday\\\\\\\\\\\\\\'s date is {date.today().strftime(\\\\\\\\\\\\\\'%Y-%m-%d\\\\\\\\\\\\\\')}.\\\\\\\\n\"\"\"\\\\\\',\\\\n\\', \\' \"Cell[4]:\\\\\\\\n#| export\\\\\\\\nfrom typing import cast\\\\\\\\nmodel = cast(KnownModelName, os.getenv(\\\\\\'PYDANTIC_AI_MODEL\\\\\\', \\\\\\'openai:gpt-4o\\\\\\'))\\\\\\\\nprint(f\\\\\\'PydanticAI is using model: {model}\\\\\\')\\\\\\\\nnotebook_agent = Agent(model, system_prompt=system_prompt)\",\\\\n\\', \" \\'Cell[5]:\\\\\\\\n#| export\\\\\\\\ndef refresh_agent():\\\\\\\\n    global notebook_agent\\\\\\\\n    notebook_agent = Agent(model, system_prompt=system_prompt)\\\\\\\\n    return notebook_agent\\\\\\\\n\\',\\\\n\", \\' \\\\\\'Cell[6]:\\\\\\\\n#| export\\\\\\\\nfrom IPython.display import display, Markdown\\\\\\\\nfrom typing import Literal\\\\\\\\n\\\\\\\\n@notebook_agent.tool\\\\\\\\ndef create_cell(ctx: RunContext[str], content: str, cell_type: Literal[\\\\\\\\\\\\\\'code\\\\\\\\\\\\\\', \\\\\\\\\\\\\\'markdown\\\\\\\\\\\\\\'] = \\\\\\\\\\\\\\'code\\\\\\\\\\\\\\') -> str:\\\\\\\\n    \"\"\"Create a new cell in the notebook with the specified content.\\\\\\\\n    \\\\\\\\n    Args:\\\\\\\\n        content: The content to put in the new cell\\\\\\\\n        cell_type: Type of cell to create (\\\\\\\\\\\\\\'code\\\\\\\\\\\\\\' or \\\\\\\\\\\\\\'markdown\\\\\\\\\\\\\\')\\\\\\\\n    \\\\\\\\n    Returns:\\\\\\\\n        A confirmation message\\\\\\\\n    \"\"\"\\\\\\\\n    try:    \\\\\\\\n        ipython = get_ipython()\\\\\\\\n    except NameError:\\\\\\\\n        return \"Error: Not running in IPython/Jupyter environment\"\\\\\\\\n    \\\\\\\\n    # Display the content immediately\\\\\\\\n    if cell_type == \\\\\\\\\\\\\\'code\\\\\\\\\\\\\\':\\\\\\\\n        # display(Markdown(f\"```python\\\\\\\\\\\\\\\\n{content}\\\\\\\\\\\\\\\\n```\"))\\\\\\\\n        # Set up the next cell with the content\\\\\\\\n        ipython.set_next_input(content)\\\\\\\\n    else:\\\\\\\\n        display(Markdown(content))\\\\\\\\n    \\\\\\\\n    return f\"Created new {cell_type} cell\"\\\\\\',\\\\n\\', \\' \"Cell[7]:\\\\\\\\nresult = notebook_agent.run_sync(\\\\\\'can you create me a simple hello world functio in a new celland make sure I can run it right away to see the output?\\\\\\')\\\\\\\\nMarkdown(result.data)\",\\\\n\\', \\' \"Cell[8]:\\\\\\\\ndef hello_world():\\\\\\\\n    print(\\\\\\'Hello, World!\\\\\\')\\\\\\\\n\\\\\\\\n# Call the function to display the output\\\\\\\\nhello_world()\",\\\\n\\', \\' \\\\\\'Cell[9]:\\\\\\\\nresult = notebook_agent.run_sync(\"Create a function that calculates the factorial of a number with input validation\")\\\\\\\\nMarkdown(result.data)\\\\\\',\\\\n\\', \\' \\\\\\'Cell[10]:\\\\\\\\ndef factorial(number):\\\\\\\\n    # Input validation to check if the number is a non-negative integer\\\\\\\\n    if not isinstance(number, int):\\\\\\\\n        raise ValueError(\"Input must be an integer.\")\\\\\\\\n    if number < 0:\\\\\\\\n        raise ValueError(\"Input must be a non-negative integer.\")\\\\\\\\n\\\\\\\\n    # Base case: factorial of 0 or 1 is 1\\\\\\\\n    if number == 0 or number == 1:\\\\\\\\n        return 1\\\\\\\\n\\\\\\\\n    # Recursive case: n! = n * (n-1)!\\\\\\\\n    else:\\\\\\\\n        return number * factorial(number - 1)\\\\\\\\n\\\\\\\\n# Example usage\\\\\\\\nprint(factorial(5))  # Output: 120\\\\\\\\nprint(factorial(0))  # Output: 1\\\\\\\\n\\\\\\\\n# Uncomment the following lines to test input validation\\\\\\\\n# print(factorial(-1))  # Should raise ValueError\\\\\\\\n# print(factorial(3.5))  # Should raise ValueError\\\\\\',\\\\n\\', \\' \"Cell[11]:\\\\\\\\nresult = notebook_agent.run_sync(\\\\\\'So what you just made for me here?\\\\\\', message_history=result.new_messages())\\\\\\\\nMarkdown(result.data)\",\\\\n\\', \" \\'Cell[12]:\\\\\\\\nresult.all_messages()\\',\\\\n\", \\' \\\\\\'Cell[13]:\\\\\\\\n#| export\\\\\\\\nimport os\\\\\\\\nimport json\\\\\\\\nfrom pathlib import Path\\\\\\\\nfrom typing import Optional, Dict, Any\\\\\\\\n\\\\\\\\n# Cache for notebook data\\\\\\\\n_notebook_cache: Dict[str, Any] = {}\\\\\\\\n\\\\\\\\ndef find_current_notebook() -> Optional[dict]:\\\\\\\\n    \"\"\"Find and cache the current notebook data.\\\\\\\\n    \\\\\\\\n    Returns:\\\\\\\\n        Dict containing notebook data or None if not found\\\\\\\\n    \"\"\"\\\\\\\\n    global _notebook_cache\\\\\\\\n    \\\\\\\\n    try:\\\\\\\\n        ipython = get_ipython()\\\\\\\\n        if not ipython:\\\\\\\\n            return None\\\\\\\\n            \\\\\\\\n        # Get current cell content to identify the notebook\\\\\\\\n        current_cell = ipython.get_parent()[\\\\\\\\\\\\\\'content\\\\\\\\\\\\\\'][\\\\\\\\\\\\\\'code\\\\\\\\\\\\\\']\\\\\\\\n        \\\\\\\\n        # Check if we already found the notebook\\\\\\\\n        if \\\\\\\\\\\\\\'notebook\\\\\\\\\\\\\\' in _notebook_cache:\\\\\\\\n            # Verify it\\\\\\\\\\\\\\'s still the correct notebook by checking the current cell\\\\\\\\n            notebook = _notebook_cache[\\\\\\\\\\\\\\'notebook\\\\\\\\\\\\\\']\\\\\\\\n            for cell in notebook[\\\\\\\\\\\\\\'cells\\\\\\\\\\\\\\']:\\\\\\\\n                if (cell[\\\\\\\\\\\\\\'cell_type\\\\\\\\\\\\\\'] == \\\\\\\\\\\\\\'code\\\\\\\\\\\\\\' and \\\\\\\\n                    \\\\\\\\\\\\\\'\\\\\\\\\\\\\\'.join(cell[\\\\\\\\\\\\\\'source\\\\\\\\\\\\\\']) == current_cell):\\\\\\\\n                    return notebook\\\\\\\\n        \\\\\\\\n        # If not in cache or cache is invalid, search for the notebook\\\\\\\\n        current_dir = Path.cwd()\\\\\\\\n        notebook_files = list(current_dir.glob(\"*.ipynb\"))\\\\\\\\n        \\\\\\\\n        for nb_file in notebook_files:\\\\\\\\n            try:\\\\\\\\n                with open(nb_file) as f:\\\\\\\\n                    notebook = json.load(f)\\\\\\\\n                    for cell in notebook[\\\\\\\\\\\\\\'cells\\\\\\\\\\\\\\']:\\\\\\\\n                        if (cell[\\\\\\\\\\\\\\'cell_type\\\\\\\\\\\\\\'] == \\\\\\\\\\\\\\'code\\\\\\\\\\\\\\' and \\\\\\\\n                            \\\\\\\\\\\\\\'\\\\\\\\\\\\\\'.join(cell[\\\\\\\\\\\\\\'source\\\\\\\\\\\\\\']) == current_cell):\\\\\\\\n                            # Found the notebook, cache it\\\\\\\\n                            _notebook_cache[\\\\\\\\\\\\\\'notebook\\\\\\\\\\\\\\'] = notebook\\\\\\\\n                            _notebook_cache[\\\\\\\\\\\\\\'file\\\\\\\\\\\\\\'] = nb_file\\\\\\\\n                            return notebook\\\\\\\\n            except Exception:\\\\\\\\n                continue\\\\\\\\n                \\\\\\\\n        return None\\\\\\\\n        \\\\\\\\n    except Exception as e:\\\\\\\\n        print(f\"Error finding notebook: {e}\")\\\\\\\\n        return None\\\\\\\\n\\\\\\',\\\\n\\', \\' \\\\\\'Cell[14]:\\\\\\\\n#| export\\\\\\\\ndef get_notebook_history(max_cells: int = 5) -> list:\\\\\\\\n    \"\"\"Get the content of notebook cells between current and last prompt cell.\\\\\\\\n    \\\\\\\\n    Args:\\\\\\\\n        max_cells: Maximum number of previous cells to include\\\\\\\\n        \\\\\\\\n    Returns:\\\\\\\\n        List of previous cell contents\\\\\\\\n    \"\"\"\\\\\\\\n    try:\\\\\\\\n        # Get the cached notebook or find it\\\\\\\\n        notebook = find_current_notebook()\\\\\\\\n        if not notebook:\\\\\\\\n            return []\\\\\\\\n            \\\\\\\\n        # Find current cell index\\\\\\\\n        current_cell = get_ipython().get_parent()[\\\\\\\\\\\\\\'content\\\\\\\\\\\\\\'][\\\\\\\\\\\\\\'code\\\\\\\\\\\\\\']\\\\\\\\n        cells = notebook[\\\\\\\\\\\\\\'cells\\\\\\\\\\\\\\']\\\\\\\\n        current_idx = -1\\\\\\\\n        last_prompt_idx = -1\\\\\\\\n        \\\\\\\\n        # Find current cell and last prompt cell\\\\\\\\n        for idx, cell in enumerate(cells):\\\\\\\\n            source = \\\\\\\\\\\\\\'\\\\\\\\\\\\\\'.join(cell[\\\\\\\\\\\\\\'source\\\\\\\\\\\\\\']) if isinstance(cell[\\\\\\\\\\\\\\'source\\\\\\\\\\\\\\'], list) else cell[\\\\\\\\\\\\\\'source\\\\\\\\\\\\\\']\\\\\\\\n            \\\\\\\\n            # Find current cell\\\\\\\\n            if current_idx == -1 and cell[\\\\\\\\\\\\\\'cell_type\\\\\\\\\\\\\\'] == \\\\\\\\\\\\\\'code\\\\\\\\\\\\\\' and source == current_cell:\\\\\\\\n                current_idx = idx\\\\\\\\n                \\\\\\\\n            # Find last prompt cell before current cell\\\\\\\\n            if idx < current_idx or current_idx == -1:  # Only look at cells before current\\\\\\\\n                if cell[\\\\\\\\\\\\\\'cell_type\\\\\\\\\\\\\\'] == \\\\\\\\\\\\\\'code\\\\\\\\\\\\\\' and source.strip().startswith(\\\\\\\\\\\\\\'%%prompt\\\\\\\\\\\\\\'):\\\\\\\\n                    last_prompt_idx = idx\\\\\\\\n                \\\\\\\\n        if current_idx == -1:\\\\\\\\n            return []\\\\\\\\n            \\\\\\\\n        # Get cells between last prompt and current cell\\\\\\\\n        start_idx = last_prompt_idx + 1 if last_prompt_idx != -1 else max(0, current_idx - max_cells)\\\\\\\\n        history = []\\\\\\\\n        \\\\\\\\n        for idx in range(start_idx, current_idx):\\\\\\\\n            cell = cells[idx]\\\\\\\\n            if cell[\\\\\\\\\\\\\\'cell_type\\\\\\\\\\\\\\'] == \\\\\\\\\\\\\\'code\\\\\\\\\\\\\\':  # Only include code cells\\\\\\\\n                # Skip cells that are prompt cells and nbdev directives\\\\\\\\n                source = cell[\\\\\\\\\\\\\\'source\\\\\\\\\\\\\\'] if isinstance(cell[\\\\\\\\\\\\\\'source\\\\\\\\\\\\\\'], str) else \\\\\\\\\\\\\\'\\\\\\\\\\\\\\'.join(cell[\\\\\\\\\\\\\\'source\\\\\\\\\\\\\\'])\\\\\\\\n                if not source.strip().startswith(\\\\\\\\\\\\\\'%%prompt\\\\\\\\\\\\\\'):\\\\\\\\n                    history.append(f\"Cell[{idx}]:\\\\\\\\\\\\\\\\n{source}\")\\\\\\\\n        \\\\\\\\n        return history\\\\\\\\n        \\\\\\\\n    except Exception as e:\\\\\\\\n        print(f\"Error getting notebook history: {e}\")\\\\\\\\n        return []\\\\\\']\\']}, \\'execution_count\\': 58, \\'metadata\\': {}, \\'output_type\\': \\'execute_result\\'}]\\n\\nCell[24]:\\nSource:\\n### Creating history-aware prompt\\nOutputs:\\nNone\\n\\nCell[25]:\\nSource:\\n#| export\\ndef create_history_aware_prompt(prompt: str, message_history: list = None, max_history: int = 5) -> tuple:\\n    \"\"\"Create a prompt with notebook history context and message history.\\n    \\n    Args:\\n        prompt: The user\\'s prompt\\n        message_history: Previous conversation messages from results.all_messages()\\n        max_history: Maximum number of previous cells to include\\n        \\n    Returns:\\n        Tuple of (enhanced prompt, combined message history)\\n    \"\"\"\\n    try:\\n        ipython = get_ipython()\\n        if not ipython:\\n            return prompt, message_history\\n        \\n        # Get new cells using our optimized get_notebook_history\\n        new_cells = get_notebook_history(max_cells=max_history)\\n        \\n        if not new_cells and not message_history:\\n            return prompt, None\\n            \\n        # Create message history if none exists\\n        from pydantic_ai.messages import (\\n            ModelRequest, ModelResponse, \\n            UserPromptPart, TextPart\\n        )\\n        \\n        messages = []\\n        \\n        # Add existing message history if provided\\n        if message_history:\\n            messages.extend(message_history)\\n        \\n        # Only add context message if we have new cells\\n        if new_cells:\\n            # Create context message with new cells\\n            history_content = \"\\\\n\\\\n\".join(new_cells)\\n\\n            context_msg = ModelRequest(parts=[\\n                UserPromptPart(\\n                    content=\"Here is the context of new notebook cells that were added:\\\\n\" + history_content\\n                )\\n            ])\\n            \\n            # Create response acknowledging new context\\n            context_response = ModelResponse(parts=[\\n                TextPart(\\n                    content=\"I understand the new notebook context. How can I help?\"\\n                )\\n            ])\\n            \\n            messages.extend([context_msg, context_response])\\n                \\n        return prompt, messages\\n        \\n    except Exception as e:\\n        print(f\"Error creating history-aware prompt: {e}\")\\n        return prompt, message_history\\nOutputs:\\n[]\\n\\nCell[26]:\\nSource:\\nTesting history-aware prompt\\nOutputs:\\nNone\\n\\nCell[27]:\\nSource:\\ncreate_history_aware_prompt(\\'So what you just made for me here?\\', result.all_messages(), max_history=20)\\nOutputs:\\n[{\\'name\\': \\'stdout\\', \\'output_type\\': \\'stream\\', \\'text\\': [\"Error creating history-aware prompt: cannot import name \\'ModelRequest\\' from \\'pydantic_ai.messages\\' (/home/ndendic/WebDev/FH_SQLModel/.venv/lib/python3.12/site-packages/pydantic_ai/messages.py)\\\\n\"]}, {\\'data\\': {\\'text/plain\\': [\"(\\'So what you just made for me here?\\',\\\\n\", \\' [SystemPrompt(content=\"\\\\\\\\nYou are a helpful assistant that operates in a Jupyter notebook.\\\\\\\\nYour regular text responses are rendered as cell output.\\\\\\\\nYou can create new cells, edit existing cells, and run code.\\\\\\\\nYou can also use tools to help you with your tasks.\\\\\\\\nToday\\\\\\'s date is 2024-12-30.\\\\\\\\n\", role=\\\\\\'system\\\\\\'),\\\\n\\', \"  UserPrompt(content=\\'Create a function that calculates the factorial of a number with input validation\\', timestamp=datetime.datetime(2024, 12, 30, 16, 22, 30, 115313, tzinfo=datetime.timezone.utc), role=\\'user\\'),\\\\n\", \\'  ModelStructuredResponse(calls=[ToolCall(tool_name=\\\\\\'create_cell\\\\\\', args=ArgsJson(args_json=\\\\\\'{\"content\":\"def factorial(n):\\\\\\\\\\\\\\\\n    \\\\\\\\\\\\\\\\\"\\\\\\\\\\\\\\\\\"\\\\\\\\\\\\\\\\\"\\\\\\\\\\\\\\\\n    Calculate the factorial of a non-negative integer.\\\\\\\\\\\\\\\\n    \\\\\\\\\\\\\\\\n    Parameters:\\\\\\\\\\\\\\\\n    n (int): The number to calculate the factorial for. Must be a non-negative integer.\\\\\\\\\\\\\\\\n    \\\\\\\\\\\\\\\\n    Returns:\\\\\\\\\\\\\\\\n    int: The factorial of the number.\\\\\\\\\\\\\\\\n    \\\\\\\\\\\\\\\\n    Raises:\\\\\\\\\\\\\\\\n    ValueError: If n is not a non-negative integer.\\\\\\\\\\\\\\\\n    \\\\\\\\\\\\\\\\\"\\\\\\\\\\\\\\\\\"\\\\\\\\\\\\\\\\\"\\\\\\\\\\\\\\\\n    # Input validation\\\\\\\\\\\\\\\\n    if not isinstance(n, int) or n < 0:\\\\\\\\\\\\\\\\n        raise ValueError(\\\\\\\\\\\\\\\\\"Input must be a non-negative integer.\\\\\\\\\\\\\\\\\")\\\\\\\\\\\\\\\\n    \\\\\\\\\\\\\\\\n    # Base case: factorial of 0 is 1\\\\\\\\\\\\\\\\n    if n == 0:\\\\\\\\\\\\\\\\n        return 1\\\\\\\\\\\\\\\\n    \\\\\\\\\\\\\\\\n    # Recursive case: n * factorial of (n-1)\\\\\\\\\\\\\\\\n    result = 1\\\\\\\\\\\\\\\\n    for i in range(2, n + 1):\\\\\\\\\\\\\\\\n        result *= i\\\\\\\\\\\\\\\\n    return result\\\\\\\\\\\\\\\\n\\\\\\\\\\\\\\\\n# Examples for testing\\\\\\\\\\\\\\\\nprint(factorial(5))  # Should print 120\\\\\\\\\\\\\\\\nprint(factorial(0))  # Should print 1\\\\\\\\\\\\\\\\n# print(factorial(-1))  # This should raise a ValueError\\\\\\\\\\\\\\\\n# print(factorial(3.5))  # This should raise a ValueError\",\"cell_type\":\"code\"}\\\\\\'), tool_id=\\\\\\'call_aKptTourarajhMQozgH6lkEt\\\\\\')], timestamp=datetime.datetime(2024, 12, 30, 16, 22, 30, tzinfo=datetime.timezone.utc), role=\\\\\\'model-structured-response\\\\\\'),\\\\n\\', \"  ToolReturn(tool_name=\\'create_cell\\', content=\\'Created new code cell\\', tool_id=\\'call_aKptTourarajhMQozgH6lkEt\\', timestamp=datetime.datetime(2024, 12, 30, 16, 22, 44, 166625, tzinfo=datetime.timezone.utc), role=\\'tool-return\\'),\\\\n\", \"  ModelTextResponse(content=\\'I have created a function that calculates the factorial of a number with input validation, ensuring the input is a non-negative integer. You can test this function by running the cell above.\\', timestamp=datetime.datetime(2024, 12, 30, 16, 22, 44, tzinfo=datetime.timezone.utc), role=\\'model-text-response\\'),\\\\n\", \"  UserPrompt(content=\\'So what you just made for me here?\\', timestamp=datetime.datetime(2024, 12, 30, 16, 22, 45, 533687, tzinfo=datetime.timezone.utc), role=\\'user\\'),\\\\n\", \"  ModelTextResponse(content=\\'I created a Python function named `factorial` that calculates the factorial of a non-negative integer. Here is a brief explanation of what it does:\\\\\\\\n\\\\\\\\n- **Function Definition**: The function `factorial(n)` takes a single argument `n`, which should be a non-negative integer.\\\\\\\\n- **Input Validation**: Before calculating the factorial, the function checks if `n` is a non-negative integer. If not, it raises a `ValueError` with a descriptive message.\\\\\\\\n- **Calculating Factorial**:\\\\\\\\n  - If `n` is 0, the function returns 1. (The factorial of 0 is defined as 1.)\\\\\\\\n  - If `n` is greater than 0, it iteratively calculates the factorial by multiplying numbers from 1 to `n`.\\\\\\\\n- **Test Cases**: There are sample test cases at the end of the function to demonstrate its usage:\\\\\\\\n  - `factorial(5)` calculates 5! and should return 120.\\\\\\\\n  - `factorial(0)` returns 1.\\\\\\\\n  - For `factorial(-1)` and `factorial(3.5)`, it will raise a `ValueError` because the inputs are not valid non-negative integers.\\\\\\\\n\\\\\\\\nYou can run the code cell to see the function in action and test the examples.\\', timestamp=datetime.datetime(2024, 12, 30, 16, 22, 46, tzinfo=datetime.timezone.utc), role=\\'model-text-response\\')])\"]}, \\'execution_count\\': 60, \\'metadata\\': {}, \\'output_type\\': \\'execute_result\\'}]\\n\\nCell[28]:\\nSource:\\n### Running agent with notebook history\\nOutputs:\\nNone\\n\\nCell[29]:\\nSource:\\n#| export\\nfrom typing import Any\\ndef run_with_history(agent: Agent, prompt: str, message_history: list = None, max_history: int = 5) -> Any:\\n    \"\"\"Run the agent with notebook and conversation history context.\\n    \\n    Args:\\n        agent: The PydanticAI agent\\n        prompt: The user\\'s prompt\\n        message_history: Previous conversation messages\\n        max_history: Maximum number of previous cells to include\\n        \\n    Returns:\\n        Agent run result\\n    \"\"\"\\n    prompt, combined_history = create_history_aware_prompt(\\n        prompt, \\n        message_history=message_history, \\n        max_history=max_history\\n    )\\n    return agent.run_sync(prompt, message_history=combined_history)\\nOutputs:\\n[]\\n\\nCell[30]:\\nSource:\\nTesting run_with_history\\nOutputs:\\nNone', timestamp=datetime.datetime(2024, 12, 31, 8, 26, 16, 740539, tzinfo=datetime.timezone.utc), part_kind='user-prompt')], kind='request'),\n",
       " ModelResponse(parts=[TextPart(content='I understand the new notebook context. How can I help?', part_kind='text')], timestamp=datetime.datetime(2024, 12, 31, 8, 26, 16, 740549, tzinfo=datetime.timezone.utc), kind='response'),\n",
       " ModelRequest(parts=[UserPromptPart(content='So what is going on in this notebook?', timestamp=datetime.datetime(2024, 12, 31, 8, 26, 16, 740734, tzinfo=datetime.timezone.utc), part_kind='user-prompt')], kind='request'),\n",
       " ModelResponse(parts=[TextPart(content=\"In this notebook, it seems you are exploring the use of a Jupyter notebook environment with some form of automation or tooling integration, likely involving the `pydantic_ai` library and custom functions to enhance interaction. Here's a breakdown of what's happening across the cells:\\n\\n1. **Tool and Function Creation**: There are cells involving tool testing and function creation, such as a `hello_world` function and a `factorial` function with input validation. These are basic Python functions to demonstrate functionality and validate input for certain operations.\\n\\n2. **Notebook Management Code**: Functions like `find_current_notebook` and `get_notebook_history` are used to identify and manage the notebook state, potentially to track changes or maintain state between interactions.\\n\\n3. **Prompt and Response Handling**: Functions like `create_history_aware_prompt` are designed to enhance prompt interactions by incorporating notebook history and message history. This might be aimed at creating a more context-aware virtual assistant or agent within the notebook.\\n\\n4. **Integration with External Agent**: There is mention of a `notebook_agent`, which appears to be an instance of a virtual assistant (possibly powered by AI) that interacts with the user through the notebook. This involves handling user prompts, generating responses, and creating new cells in the notebook.\\n\\n5. **Testing and Debugging**: There are various points in the notebook where functions and features are being tested, like `run_with_history` which combines notebook context with conversational history to perform operations.\\n\\nOverall, the notebook is set up to experiment with automated interactions using an AI-powered agent, managing notebooks dynamically, and running code through direct and possibly conversational interfaces. If there's anything specific you need help with, let me know!\", part_kind='text')], timestamp=datetime.datetime(2024, 12, 31, 8, 26, 17, tzinfo=datetime.timezone.utc), kind='response')]"
      ]
     },
     "execution_count": 33,
     "metadata": {},
     "output_type": "execute_result"
    }
   ],
   "source": [
    "result.all_messages()"
   ]
  },
  {
   "cell_type": "markdown",
   "metadata": {},
   "source": [
    "### Creating prompt cell magic"
   ]
  },
  {
   "cell_type": "code",
   "execution_count": 44,
   "metadata": {},
   "outputs": [],
   "source": [
    "#| export\n",
    "from IPython.core.magic import register_cell_magic\n",
    "\n",
    "#| export\n",
    "@register_cell_magic\n",
    "def prompt(line, cell):\n",
    "    \"\"\"Cell magic to create prompt cells that interact with the AI agent.\"\"\"\n",
    "    try:\n",
    "        # Get the last result's message history if it exists\n",
    "        message_history = None\n",
    "        if 'last_prompt_result' in get_ipython().user_ns:\n",
    "            last_result = get_ipython().user_ns['last_prompt_result']\n",
    "            if hasattr(last_result, 'all_messages'):\n",
    "                message_history = last_result.all_messages()\n",
    "        \n",
    "        # Use get_current_agent() instead of notebook_agent directly\n",
    "        agent = get_current_agent()\n",
    "        \n",
    "        # Run the prompt through our agent with history context\n",
    "        result = run_with_history(\n",
    "            agent, \n",
    "            cell.strip(), \n",
    "            message_history=message_history\n",
    "        )\n",
    "        \n",
    "        # Store the result for next time\n",
    "        get_ipython().user_ns['last_prompt_result'] = result\n",
    "        \n",
    "        return Markdown(result.data)\n",
    "    except Exception as e:\n",
    "        return f\"Error processing prompt: {str(e)}\""
   ]
  },
  {
   "cell_type": "code",
   "execution_count": 65,
   "metadata": {},
   "outputs": [
    {
     "name": "stdout",
     "output_type": "stream",
     "text": [
      "Error creating history-aware prompt: cannot import name 'ModelRequest' from 'pydantic_ai.messages' (/home/ndendic/WebDev/FH_SQLModel/.venv/lib/python3.12/site-packages/pydantic_ai/messages.py)\n"
     ]
    },
    {
     "data": {
      "text/markdown": [
       "This notebook currently consists of a single interaction where you're asking about the notebook's purpose, but it doesn't have any specific content or code yet related to a particular topic. If you want to add specific content or have particular instructions or tasks you'd like to perform in the notebook, please let me know!"
      ],
      "text/plain": [
       "<IPython.core.display.Markdown object>"
      ]
     },
     "execution_count": 65,
     "metadata": {},
     "output_type": "execute_result"
    }
   ],
   "source": [
    "%%prompt\n",
    "what this notebook is all about?"
   ]
  },
  {
   "cell_type": "code",
   "execution_count": 66,
   "metadata": {},
   "outputs": [
    {
     "data": {
      "text/plain": [
       "[SystemPrompt(content=\"\\nYou are a helpful assistant that operates in a Jupyter notebook.\\nYour regular text responses are rendered as cell output.\\nYou can create new cells, edit existing cells, and run code.\\nYou can also use tools to help you with your tasks.\\nToday's date is 2024-12-30.\\n\", role='system'),\n",
       " UserPrompt(content='what this notebook is all about?', timestamp=datetime.datetime(2024, 12, 30, 16, 22, 54, 48018, tzinfo=datetime.timezone.utc), role='user'),\n",
       " ModelTextResponse(content=\"This notebook currently consists of a single interaction where you're asking about the notebook's purpose, but it doesn't have any specific content or code yet related to a particular topic. If you want to add specific content or have particular instructions or tasks you'd like to perform in the notebook, please let me know!\", timestamp=datetime.datetime(2024, 12, 30, 16, 22, 54, tzinfo=datetime.timezone.utc), role='model-text-response')]"
      ]
     },
     "execution_count": 66,
     "metadata": {},
     "output_type": "execute_result"
    }
   ],
   "source": [
    "last_prompt_result.all_messages()"
   ]
  },
  {
   "cell_type": "code",
   "execution_count": 90,
   "metadata": {},
   "outputs": [
    {
     "data": {
      "text/plain": [
       "\"This notebook currently consists of a single interaction where you're asking about the notebook's purpose, but it doesn't have any specific content or code yet related to a particular topic. If you want to add specific content or have particular instructions or tasks you'd like to perform in the notebook, please let me know!\""
      ]
     },
     "execution_count": 67,
     "metadata": {},
     "output_type": "execute_result"
    }
   ],
   "source": [
    "def last_prompt_result_data():\n",
    "    return last_prompt_result.data\n",
    "last_prompt_result_data()"
   ]
  },
  {
   "cell_type": "code",
   "execution_count": 67,
   "metadata": {},
   "outputs": [
    {
     "data": {
      "text/plain": [
       "[SystemPrompt(content=\"\\nYou are a helpful assistant that operates in a Jupyter notebook.\\nYour regular text responses are rendered as cell output.\\nYou can create new cells, edit existing cells, and run code.\\nYou can also use tools to help you with your tasks.\\nToday's date is 2024-12-30.\\n\", role='system'),\n",
       " UserPrompt(content='what this notebook is all about?', timestamp=datetime.datetime(2024, 12, 30, 16, 22, 54, 48018, tzinfo=datetime.timezone.utc), role='user'),\n",
       " ModelTextResponse(content=\"This notebook currently consists of a single interaction where you're asking about the notebook's purpose, but it doesn't have any specific content or code yet related to a particular topic. If you want to add specific content or have particular instructions or tasks you'd like to perform in the notebook, please let me know!\", timestamp=datetime.datetime(2024, 12, 30, 16, 22, 54, tzinfo=datetime.timezone.utc), role='model-text-response')]"
      ]
     },
     "execution_count": 68,
     "metadata": {},
     "output_type": "execute_result"
    }
   ],
   "source": [
    "def all_messages():\n",
    "    return last_prompt_result.all_messages()\n",
    "all_messages()"
   ]
  },
  {
   "cell_type": "code",
   "execution_count": 69,
   "metadata": {},
   "outputs": [
    {
     "name": "stdout",
     "output_type": "stream",
     "text": [
      "Error creating history-aware prompt: cannot import name 'ModelRequest' from 'pydantic_ai.messages' (/home/ndendic/WebDev/FH_SQLModel/.venv/lib/python3.12/site-packages/pydantic_ai/messages.py)\n"
     ]
    },
    {
     "data": {
      "text/markdown": [
       "The last addition to this notebook was your question, \"what this notebook is all about?\" There haven't been any other specific entries, code, or content added besides our interaction. If you want to include more content or perform tasks, feel free to specify!"
      ],
      "text/plain": [
       "<IPython.core.display.Markdown object>"
      ]
     },
     "execution_count": 69,
     "metadata": {},
     "output_type": "execute_result"
    }
   ],
   "source": [
    "%%prompt\n",
    "tell me what have I added last to this notebook?"
   ]
  },
  {
   "cell_type": "code",
   "execution_count": 69,
   "metadata": {},
   "outputs": [
    {
     "data": {
      "text/plain": [
       "[SystemPrompt(content=\"\\nYou are a helpful assistant that operates in a Jupyter notebook.\\nYour regular text responses are rendered as cell output.\\nYou can create new cells, edit existing cells, and run code.\\nYou can also use tools to help you with your tasks.\\nToday's date is 2024-12-30.\\n\", role='system'),\n",
       " UserPrompt(content='what this notebook is all about?', timestamp=datetime.datetime(2024, 12, 30, 16, 22, 54, 48018, tzinfo=datetime.timezone.utc), role='user'),\n",
       " ModelTextResponse(content=\"This notebook currently consists of a single interaction where you're asking about the notebook's purpose, but it doesn't have any specific content or code yet related to a particular topic. If you want to add specific content or have particular instructions or tasks you'd like to perform in the notebook, please let me know!\", timestamp=datetime.datetime(2024, 12, 30, 16, 22, 54, tzinfo=datetime.timezone.utc), role='model-text-response'),\n",
       " UserPrompt(content='tell me what have I added last to this notebook?', timestamp=datetime.datetime(2024, 12, 30, 16, 22, 55, 411291, tzinfo=datetime.timezone.utc), role='user'),\n",
       " ModelTextResponse(content='The last addition to this notebook was your question, \"what this notebook is all about?\" There haven\\'t been any other specific entries, code, or content added besides our interaction. If you want to include more content or perform tasks, feel free to specify!', timestamp=datetime.datetime(2024, 12, 30, 16, 22, 55, tzinfo=datetime.timezone.utc), role='model-text-response')]"
      ]
     },
     "execution_count": 70,
     "metadata": {},
     "output_type": "execute_result"
    }
   ],
   "source": [
    "all_messages()"
   ]
  },
  {
   "cell_type": "code",
   "execution_count": 46,
   "metadata": {},
   "outputs": [],
   "source": [
    "#| hide\n",
    "import nbdev; nbdev.nbdev_export()"
   ]
  }
 ],
 "metadata": {
  "kernelspec": {
   "display_name": ".venv",
   "language": "python",
   "name": "python3"
  },
  "language_info": {
   "codemirror_mode": {
    "name": "ipython",
    "version": 3
   },
   "file_extension": ".py",
   "mimetype": "text/x-python",
   "name": "python",
   "nbconvert_exporter": "python",
   "pygments_lexer": "ipython3",
   "version": "3.12.7"
  }
 },
 "nbformat": 4,
 "nbformat_minor": 2
}
