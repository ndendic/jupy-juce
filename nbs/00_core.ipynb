{
 "cells": [
  {
   "cell_type": "code",
   "execution_count": 43,
   "metadata": {},
   "outputs": [],
   "source": [
    "#| default_exp core"
   ]
  },
  {
   "cell_type": "code",
   "execution_count": 44,
   "metadata": {},
   "outputs": [],
   "source": [
    "#| hide\n",
    "from nbdev.showdoc import *"
   ]
  },
  {
   "cell_type": "markdown",
   "metadata": {},
   "source": [
    "# Dependencies"
   ]
  },
  {
   "cell_type": "code",
   "execution_count": 45,
   "metadata": {},
   "outputs": [],
   "source": [
    "#| export\n",
    "import os\n",
    "from dotenv import load_dotenv\n",
    "from pydantic import BaseModel, Field\n",
    "from pydantic_ai import Agent, ModelRetry, RunContext\n",
    "from pydantic_ai.models import KnownModelName\n",
    "\n",
    "load_dotenv()\n",
    "\n",
    "# Enable async/await in Jupyter\n",
    "import nest_asyncio\n",
    "nest_asyncio.apply()"
   ]
  },
  {
   "cell_type": "markdown",
   "metadata": {},
   "source": [
    "# Agent setup"
   ]
  },
  {
   "cell_type": "markdown",
   "metadata": {},
   "source": [
    "System prompt\n"
   ]
  },
  {
   "cell_type": "code",
   "execution_count": 46,
   "metadata": {},
   "outputs": [],
   "source": [
    "#| export\n",
    "from datetime import date\n",
    "system_prompt = f\"\"\"\n",
    "You are a helpful assistant that operates in a Jupyter notebook.\n",
    "Your regular text responses are rendered as cell output.\n",
    "You can create new cells, edit existing cells, and run code.\n",
    "You can also use tools to help you with your tasks.\n",
    "Today's date is {date.today().strftime('%Y-%m-%d')}.\n",
    "\"\"\""
   ]
  },
  {
   "cell_type": "code",
   "execution_count": 47,
   "metadata": {},
   "outputs": [
    {
     "name": "stdout",
     "output_type": "stream",
     "text": [
      "PydanticAI is using model: openai:gpt-4o\n"
     ]
    }
   ],
   "source": [
    "#| export\n",
    "from typing import cast\n",
    "model = cast(KnownModelName, os.getenv('PYDANTIC_AI_MODEL', 'openai:gpt-4o'))\n",
    "print(f'PydanticAI is using model: {model}')\n",
    "notebook_agent = Agent(model, system_prompt=system_prompt)"
   ]
  },
  {
   "cell_type": "code",
   "execution_count": 48,
   "metadata": {},
   "outputs": [],
   "source": [
    "#| export\n",
    "def refresh_agent():\n",
    "    global notebook_agent\n",
    "    notebook_agent = Agent(model, system_prompt=system_prompt)\n",
    "    return notebook_agent\n"
   ]
  },
  {
   "cell_type": "markdown",
   "metadata": {},
   "source": [
    "### Adding cell creation tool"
   ]
  },
  {
   "cell_type": "code",
   "execution_count": 49,
   "metadata": {},
   "outputs": [
    {
     "name": "stderr",
     "output_type": "stream",
     "text": [
      "<module>:8: No type or annotation for returned value 1\n"
     ]
    }
   ],
   "source": [
    "#| export\n",
    "from IPython.display import display, Markdown\n",
    "from typing import Literal\n",
    "\n",
    "@notebook_agent.tool\n",
    "def create_cell(ctx: RunContext[str], content: str, cell_type: Literal['code', 'markdown'] = 'code') -> str:\n",
    "    \"\"\"Create a new cell in the notebook with the specified content.\n",
    "    \n",
    "    Args:\n",
    "        content: The content to put in the new cell\n",
    "        cell_type: Type of cell to create ('code' or 'markdown')\n",
    "    \n",
    "    Returns:\n",
    "        A confirmation message\n",
    "    \"\"\"\n",
    "    try:    \n",
    "        ipython = get_ipython()\n",
    "    except NameError:\n",
    "        return \"Error: Not running in IPython/Jupyter environment\"\n",
    "    \n",
    "    # Display the content immediately\n",
    "    if cell_type == 'code':\n",
    "        # display(Markdown(f\"```python\\n{content}\\n```\"))\n",
    "        # Set up the next cell with the content\n",
    "        ipython.set_next_input(content)\n",
    "    else:\n",
    "        display(Markdown(content))\n",
    "    \n",
    "    return f\"Created new {cell_type} cell\""
   ]
  },
  {
   "cell_type": "markdown",
   "metadata": {},
   "source": [
    "Tool testing"
   ]
  },
  {
   "cell_type": "code",
   "execution_count": 50,
   "metadata": {},
   "outputs": [
    {
     "data": {
      "text/markdown": [
       "I've created a new code cell with a `hello_world` function. You can run it to see the output \"Hello, world!\"."
      ],
      "text/plain": [
       "<IPython.core.display.Markdown object>"
      ]
     },
     "execution_count": 50,
     "metadata": {},
     "output_type": "execute_result"
    }
   ],
   "source": [
    "result = notebook_agent.run_sync('can you create me a simple hello world functio in a new celland make sure I can run it right away to see the output?')\n",
    "Markdown(result.data)"
   ]
  },
  {
   "cell_type": "code",
   "execution_count": 51,
   "metadata": {},
   "outputs": [
    {
     "name": "stdout",
     "output_type": "stream",
     "text": [
      "Hello, World!\n"
     ]
    }
   ],
   "source": [
    "def hello_world():\n",
    "    print('Hello, World!')\n",
    "\n",
    "# Call the function to display the output\n",
    "hello_world()"
   ]
  },
  {
   "cell_type": "code",
   "execution_count": 52,
   "metadata": {},
   "outputs": [
    {
     "data": {
      "text/markdown": [
       "I have created a function that calculates the factorial of a number with input validation, ensuring the input is a non-negative integer. You can test this function by running the cell above."
      ],
      "text/plain": [
       "<IPython.core.display.Markdown object>"
      ]
     },
     "execution_count": 52,
     "metadata": {},
     "output_type": "execute_result"
    }
   ],
   "source": [
    "result = notebook_agent.run_sync(\"Create a function that calculates the factorial of a number with input validation\")\n",
    "Markdown(result.data)"
   ]
  },
  {
   "cell_type": "code",
   "execution_count": 53,
   "metadata": {},
   "outputs": [
    {
     "name": "stdout",
     "output_type": "stream",
     "text": [
      "120\n",
      "1\n"
     ]
    }
   ],
   "source": [
    "def factorial(number):\n",
    "    # Input validation to check if the number is a non-negative integer\n",
    "    if not isinstance(number, int):\n",
    "        raise ValueError(\"Input must be an integer.\")\n",
    "    if number < 0:\n",
    "        raise ValueError(\"Input must be a non-negative integer.\")\n",
    "\n",
    "    # Base case: factorial of 0 or 1 is 1\n",
    "    if number == 0 or number == 1:\n",
    "        return 1\n",
    "\n",
    "    # Recursive case: n! = n * (n-1)!\n",
    "    else:\n",
    "        return number * factorial(number - 1)\n",
    "\n",
    "# Example usage\n",
    "print(factorial(5))  # Output: 120\n",
    "print(factorial(0))  # Output: 1\n",
    "\n",
    "# Uncomment the following lines to test input validation\n",
    "# print(factorial(-1))  # Should raise ValueError\n",
    "# print(factorial(3.5))  # Should raise ValueError"
   ]
  },
  {
   "cell_type": "markdown",
   "metadata": {},
   "source": [
    "Testing agent with history"
   ]
  },
  {
   "cell_type": "code",
   "execution_count": 54,
   "metadata": {},
   "outputs": [
    {
     "data": {
      "text/markdown": [
       "I created a Python function named `factorial` that calculates the factorial of a non-negative integer. Here is a brief explanation of what it does:\n",
       "\n",
       "- **Function Definition**: The function `factorial(n)` takes a single argument `n`, which should be a non-negative integer.\n",
       "- **Input Validation**: Before calculating the factorial, the function checks if `n` is a non-negative integer. If not, it raises a `ValueError` with a descriptive message.\n",
       "- **Calculating Factorial**:\n",
       "  - If `n` is 0, the function returns 1. (The factorial of 0 is defined as 1.)\n",
       "  - If `n` is greater than 0, it iteratively calculates the factorial by multiplying numbers from 1 to `n`.\n",
       "- **Test Cases**: There are sample test cases at the end of the function to demonstrate its usage:\n",
       "  - `factorial(5)` calculates 5! and should return 120.\n",
       "  - `factorial(0)` returns 1.\n",
       "  - For `factorial(-1)` and `factorial(3.5)`, it will raise a `ValueError` because the inputs are not valid non-negative integers.\n",
       "\n",
       "You can run the code cell to see the function in action and test the examples."
      ],
      "text/plain": [
       "<IPython.core.display.Markdown object>"
      ]
     },
     "execution_count": 54,
     "metadata": {},
     "output_type": "execute_result"
    }
   ],
   "source": [
    "result = notebook_agent.run_sync('So what you just made for me here?', message_history=result.new_messages())\n",
    "Markdown(result.data)"
   ]
  },
  {
   "cell_type": "code",
   "execution_count": 55,
   "metadata": {},
   "outputs": [
    {
     "data": {
      "text/plain": [
       "[SystemPrompt(content=\"\\nYou are a helpful assistant that operates in a Jupyter notebook.\\nYour regular text responses are rendered as cell output.\\nYou can create new cells, edit existing cells, and run code.\\nYou can also use tools to help you with your tasks.\\nToday's date is 2024-12-30.\\n\", role='system'),\n",
       " UserPrompt(content='Create a function that calculates the factorial of a number with input validation', timestamp=datetime.datetime(2024, 12, 30, 16, 22, 30, 115313, tzinfo=datetime.timezone.utc), role='user'),\n",
       " ModelStructuredResponse(calls=[ToolCall(tool_name='create_cell', args=ArgsJson(args_json='{\"content\":\"def factorial(n):\\\\n    \\\\\"\\\\\"\\\\\"\\\\n    Calculate the factorial of a non-negative integer.\\\\n    \\\\n    Parameters:\\\\n    n (int): The number to calculate the factorial for. Must be a non-negative integer.\\\\n    \\\\n    Returns:\\\\n    int: The factorial of the number.\\\\n    \\\\n    Raises:\\\\n    ValueError: If n is not a non-negative integer.\\\\n    \\\\\"\\\\\"\\\\\"\\\\n    # Input validation\\\\n    if not isinstance(n, int) or n < 0:\\\\n        raise ValueError(\\\\\"Input must be a non-negative integer.\\\\\")\\\\n    \\\\n    # Base case: factorial of 0 is 1\\\\n    if n == 0:\\\\n        return 1\\\\n    \\\\n    # Recursive case: n * factorial of (n-1)\\\\n    result = 1\\\\n    for i in range(2, n + 1):\\\\n        result *= i\\\\n    return result\\\\n\\\\n# Examples for testing\\\\nprint(factorial(5))  # Should print 120\\\\nprint(factorial(0))  # Should print 1\\\\n# print(factorial(-1))  # This should raise a ValueError\\\\n# print(factorial(3.5))  # This should raise a ValueError\",\"cell_type\":\"code\"}'), tool_id='call_aKptTourarajhMQozgH6lkEt')], timestamp=datetime.datetime(2024, 12, 30, 16, 22, 30, tzinfo=datetime.timezone.utc), role='model-structured-response'),\n",
       " ToolReturn(tool_name='create_cell', content='Created new code cell', tool_id='call_aKptTourarajhMQozgH6lkEt', timestamp=datetime.datetime(2024, 12, 30, 16, 22, 44, 166625, tzinfo=datetime.timezone.utc), role='tool-return'),\n",
       " ModelTextResponse(content='I have created a function that calculates the factorial of a number with input validation, ensuring the input is a non-negative integer. You can test this function by running the cell above.', timestamp=datetime.datetime(2024, 12, 30, 16, 22, 44, tzinfo=datetime.timezone.utc), role='model-text-response'),\n",
       " UserPrompt(content='So what you just made for me here?', timestamp=datetime.datetime(2024, 12, 30, 16, 22, 45, 533687, tzinfo=datetime.timezone.utc), role='user'),\n",
       " ModelTextResponse(content='I created a Python function named `factorial` that calculates the factorial of a non-negative integer. Here is a brief explanation of what it does:\\n\\n- **Function Definition**: The function `factorial(n)` takes a single argument `n`, which should be a non-negative integer.\\n- **Input Validation**: Before calculating the factorial, the function checks if `n` is a non-negative integer. If not, it raises a `ValueError` with a descriptive message.\\n- **Calculating Factorial**:\\n  - If `n` is 0, the function returns 1. (The factorial of 0 is defined as 1.)\\n  - If `n` is greater than 0, it iteratively calculates the factorial by multiplying numbers from 1 to `n`.\\n- **Test Cases**: There are sample test cases at the end of the function to demonstrate its usage:\\n  - `factorial(5)` calculates 5! and should return 120.\\n  - `factorial(0)` returns 1.\\n  - For `factorial(-1)` and `factorial(3.5)`, it will raise a `ValueError` because the inputs are not valid non-negative integers.\\n\\nYou can run the code cell to see the function in action and test the examples.', timestamp=datetime.datetime(2024, 12, 30, 16, 22, 46, tzinfo=datetime.timezone.utc), role='model-text-response')]"
      ]
     },
     "execution_count": 55,
     "metadata": {},
     "output_type": "execute_result"
    }
   ],
   "source": [
    "result.all_messages()"
   ]
  },
  {
   "cell_type": "markdown",
   "metadata": {},
   "source": [
    "### Adding notebook history"
   ]
  },
  {
   "cell_type": "code",
   "execution_count": 56,
   "metadata": {},
   "outputs": [],
   "source": [
    "#| export\n",
    "import os\n",
    "import json\n",
    "from pathlib import Path\n",
    "from typing import Optional, Dict, Any\n",
    "\n",
    "# Cache for notebook data\n",
    "_notebook_cache: Dict[str, Any] = {}\n",
    "\n",
    "def find_current_notebook() -> Optional[dict]:\n",
    "    \"\"\"Find and cache the current notebook data.\n",
    "    \n",
    "    Returns:\n",
    "        Dict containing notebook data or None if not found\n",
    "    \"\"\"\n",
    "    global _notebook_cache\n",
    "    \n",
    "    try:\n",
    "        ipython = get_ipython()\n",
    "        if not ipython:\n",
    "            return None\n",
    "            \n",
    "        # Get current cell content to identify the notebook\n",
    "        current_cell = ipython.get_parent()['content']['code']\n",
    "        \n",
    "        # Check if we already found the notebook\n",
    "        if 'notebook' in _notebook_cache:\n",
    "            # Verify it's still the correct notebook by checking the current cell\n",
    "            notebook = _notebook_cache['notebook']\n",
    "            for cell in notebook['cells']:\n",
    "                if (cell['cell_type'] == 'code' and \n",
    "                    ''.join(cell['source']) == current_cell):\n",
    "                    return notebook\n",
    "        \n",
    "        # If not in cache or cache is invalid, search for the notebook\n",
    "        current_dir = Path.cwd()\n",
    "        notebook_files = list(current_dir.glob(\"*.ipynb\"))\n",
    "        \n",
    "        for nb_file in notebook_files:\n",
    "            try:\n",
    "                with open(nb_file) as f:\n",
    "                    notebook = json.load(f)\n",
    "                    for cell in notebook['cells']:\n",
    "                        if (cell['cell_type'] == 'code' and \n",
    "                            ''.join(cell['source']) == current_cell):\n",
    "                            # Found the notebook, cache it\n",
    "                            _notebook_cache['notebook'] = notebook\n",
    "                            _notebook_cache['file'] = nb_file\n",
    "                            return notebook\n",
    "            except Exception:\n",
    "                continue\n",
    "                \n",
    "        return None\n",
    "        \n",
    "    except Exception as e:\n",
    "        print(f\"Error finding notebook: {e}\")\n",
    "        return None\n"
   ]
  },
  {
   "cell_type": "code",
   "execution_count": 57,
   "metadata": {},
   "outputs": [],
   "source": [
    "#| export\n",
    "def get_notebook_history(max_cells: int = 5) -> list:\n",
    "    \"\"\"Get the content of notebook cells between current and last prompt cell.\n",
    "    \n",
    "    Args:\n",
    "        max_cells: Maximum number of previous cells to include\n",
    "        \n",
    "    Returns:\n",
    "        List of previous cell contents\n",
    "    \"\"\"\n",
    "    try:\n",
    "        # Get the cached notebook or find it\n",
    "        notebook = find_current_notebook()\n",
    "        if not notebook:\n",
    "            return []\n",
    "            \n",
    "        # Find current cell index\n",
    "        current_cell = get_ipython().get_parent()['content']['code']\n",
    "        cells = notebook['cells']\n",
    "        current_idx = -1\n",
    "        last_prompt_idx = -1\n",
    "        \n",
    "        # Find current cell and last prompt cell\n",
    "        for idx, cell in enumerate(cells):\n",
    "            source = ''.join(cell['source']) if isinstance(cell['source'], list) else cell['source']\n",
    "            \n",
    "            # Find current cell\n",
    "            if current_idx == -1 and cell['cell_type'] == 'code' and source == current_cell:\n",
    "                current_idx = idx\n",
    "                \n",
    "            # Find last prompt cell before current cell\n",
    "            if idx < current_idx or current_idx == -1:  # Only look at cells before current\n",
    "                if cell['cell_type'] == 'code' and source.strip().startswith('%%prompt'):\n",
    "                    last_prompt_idx = idx\n",
    "                \n",
    "        if current_idx == -1:\n",
    "            return []\n",
    "            \n",
    "        # Get cells between last prompt and current cell\n",
    "        start_idx = last_prompt_idx + 1 if last_prompt_idx != -1 else max(0, current_idx - max_cells)\n",
    "        history = []\n",
    "        \n",
    "        for idx in range(start_idx, current_idx):\n",
    "            cell = cells[idx]\n",
    "            if cell['cell_type'] == 'code':  # Only include code cells\n",
    "                # Skip cells that are prompt cells and nbdev directives\n",
    "                source = cell['source'] if isinstance(cell['source'], str) else ''.join(cell['source'])\n",
    "                if not source.strip().startswith('%%prompt'):\n",
    "                    history.append(f\"Cell[{idx}]:\\n{source}\")\n",
    "        \n",
    "        return history\n",
    "        \n",
    "    except Exception as e:\n",
    "        print(f\"Error getting notebook history: {e}\")\n",
    "        return []"
   ]
  },
  {
   "cell_type": "markdown",
   "metadata": {},
   "source": [
    "Testing notebook history"
   ]
  },
  {
   "cell_type": "code",
   "execution_count": 58,
   "metadata": {},
   "outputs": [
    {
     "data": {
      "text/plain": [
       "['Cell[0]:\\n#| default_exp core',\n",
       " 'Cell[1]:\\n#| hide\\nfrom nbdev.showdoc import *',\n",
       " 'Cell[2]:\\n#| export\\nimport os\\nfrom dotenv import load_dotenv\\nfrom pydantic import BaseModel, Field\\nfrom pydantic_ai import Agent, ModelRetry, RunContext\\nfrom pydantic_ai.models import KnownModelName\\n\\nload_dotenv()\\n\\n# Enable async/await in Jupyter\\nimport nest_asyncio\\nnest_asyncio.apply()',\n",
       " 'Cell[3]:\\n#| export\\nfrom datetime import date\\nsystem_prompt = f\"\"\"\\nYou are a helpful assistant that operates in a Jupyter notebook.\\nYour regular text responses are rendered as cell output.\\nYou can create new cells, edit existing cells, and run code.\\nYou can also use tools to help you with your tasks.\\nToday\\'s date is {date.today().strftime(\\'%Y-%m-%d\\')}.\\n\"\"\"',\n",
       " \"Cell[4]:\\n#| export\\nfrom typing import cast\\nmodel = cast(KnownModelName, os.getenv('PYDANTIC_AI_MODEL', 'openai:gpt-4o'))\\nprint(f'PydanticAI is using model: {model}')\\nnotebook_agent = Agent(model, system_prompt=system_prompt)\",\n",
       " 'Cell[5]:\\n#| export\\ndef refresh_agent():\\n    global notebook_agent\\n    notebook_agent = Agent(model, system_prompt=system_prompt)\\n    return notebook_agent\\n',\n",
       " 'Cell[6]:\\n#| export\\nfrom IPython.display import display, Markdown\\nfrom typing import Literal\\n\\n@notebook_agent.tool\\ndef create_cell(ctx: RunContext[str], content: str, cell_type: Literal[\\'code\\', \\'markdown\\'] = \\'code\\') -> str:\\n    \"\"\"Create a new cell in the notebook with the specified content.\\n    \\n    Args:\\n        content: The content to put in the new cell\\n        cell_type: Type of cell to create (\\'code\\' or \\'markdown\\')\\n    \\n    Returns:\\n        A confirmation message\\n    \"\"\"\\n    try:    \\n        ipython = get_ipython()\\n    except NameError:\\n        return \"Error: Not running in IPython/Jupyter environment\"\\n    \\n    # Display the content immediately\\n    if cell_type == \\'code\\':\\n        # display(Markdown(f\"```python\\\\n{content}\\\\n```\"))\\n        # Set up the next cell with the content\\n        ipython.set_next_input(content)\\n    else:\\n        display(Markdown(content))\\n    \\n    return f\"Created new {cell_type} cell\"',\n",
       " \"Cell[7]:\\nresult = notebook_agent.run_sync('can you create me a simple hello world functio in a new celland make sure I can run it right away to see the output?')\\nMarkdown(result.data)\",\n",
       " \"Cell[8]:\\ndef hello_world():\\n    print('Hello, World!')\\n\\n# Call the function to display the output\\nhello_world()\",\n",
       " 'Cell[9]:\\nresult = notebook_agent.run_sync(\"Create a function that calculates the factorial of a number with input validation\")\\nMarkdown(result.data)',\n",
       " 'Cell[10]:\\ndef factorial(number):\\n    # Input validation to check if the number is a non-negative integer\\n    if not isinstance(number, int):\\n        raise ValueError(\"Input must be an integer.\")\\n    if number < 0:\\n        raise ValueError(\"Input must be a non-negative integer.\")\\n\\n    # Base case: factorial of 0 or 1 is 1\\n    if number == 0 or number == 1:\\n        return 1\\n\\n    # Recursive case: n! = n * (n-1)!\\n    else:\\n        return number * factorial(number - 1)\\n\\n# Example usage\\nprint(factorial(5))  # Output: 120\\nprint(factorial(0))  # Output: 1\\n\\n# Uncomment the following lines to test input validation\\n# print(factorial(-1))  # Should raise ValueError\\n# print(factorial(3.5))  # Should raise ValueError',\n",
       " \"Cell[11]:\\nresult = notebook_agent.run_sync('So what you just made for me here?', message_history=result.new_messages())\\nMarkdown(result.data)\",\n",
       " 'Cell[12]:\\nresult.all_messages()',\n",
       " 'Cell[13]:\\n#| export\\nimport os\\nimport json\\nfrom pathlib import Path\\nfrom typing import Optional, Dict, Any\\n\\n# Cache for notebook data\\n_notebook_cache: Dict[str, Any] = {}\\n\\ndef find_current_notebook() -> Optional[dict]:\\n    \"\"\"Find and cache the current notebook data.\\n    \\n    Returns:\\n        Dict containing notebook data or None if not found\\n    \"\"\"\\n    global _notebook_cache\\n    \\n    try:\\n        ipython = get_ipython()\\n        if not ipython:\\n            return None\\n            \\n        # Get current cell content to identify the notebook\\n        current_cell = ipython.get_parent()[\\'content\\'][\\'code\\']\\n        \\n        # Check if we already found the notebook\\n        if \\'notebook\\' in _notebook_cache:\\n            # Verify it\\'s still the correct notebook by checking the current cell\\n            notebook = _notebook_cache[\\'notebook\\']\\n            for cell in notebook[\\'cells\\']:\\n                if (cell[\\'cell_type\\'] == \\'code\\' and \\n                    \\'\\'.join(cell[\\'source\\']) == current_cell):\\n                    return notebook\\n        \\n        # If not in cache or cache is invalid, search for the notebook\\n        current_dir = Path.cwd()\\n        notebook_files = list(current_dir.glob(\"*.ipynb\"))\\n        \\n        for nb_file in notebook_files:\\n            try:\\n                with open(nb_file) as f:\\n                    notebook = json.load(f)\\n                    for cell in notebook[\\'cells\\']:\\n                        if (cell[\\'cell_type\\'] == \\'code\\' and \\n                            \\'\\'.join(cell[\\'source\\']) == current_cell):\\n                            # Found the notebook, cache it\\n                            _notebook_cache[\\'notebook\\'] = notebook\\n                            _notebook_cache[\\'file\\'] = nb_file\\n                            return notebook\\n            except Exception:\\n                continue\\n                \\n        return None\\n        \\n    except Exception as e:\\n        print(f\"Error finding notebook: {e}\")\\n        return None\\n',\n",
       " 'Cell[14]:\\n#| export\\ndef get_notebook_history(max_cells: int = 5) -> list:\\n    \"\"\"Get the content of notebook cells between current and last prompt cell.\\n    \\n    Args:\\n        max_cells: Maximum number of previous cells to include\\n        \\n    Returns:\\n        List of previous cell contents\\n    \"\"\"\\n    try:\\n        # Get the cached notebook or find it\\n        notebook = find_current_notebook()\\n        if not notebook:\\n            return []\\n            \\n        # Find current cell index\\n        current_cell = get_ipython().get_parent()[\\'content\\'][\\'code\\']\\n        cells = notebook[\\'cells\\']\\n        current_idx = -1\\n        last_prompt_idx = -1\\n        \\n        # Find current cell and last prompt cell\\n        for idx, cell in enumerate(cells):\\n            source = \\'\\'.join(cell[\\'source\\']) if isinstance(cell[\\'source\\'], list) else cell[\\'source\\']\\n            \\n            # Find current cell\\n            if current_idx == -1 and cell[\\'cell_type\\'] == \\'code\\' and source == current_cell:\\n                current_idx = idx\\n                \\n            # Find last prompt cell before current cell\\n            if idx < current_idx or current_idx == -1:  # Only look at cells before current\\n                if cell[\\'cell_type\\'] == \\'code\\' and source.strip().startswith(\\'%%prompt\\'):\\n                    last_prompt_idx = idx\\n                \\n        if current_idx == -1:\\n            return []\\n            \\n        # Get cells between last prompt and current cell\\n        start_idx = last_prompt_idx + 1 if last_prompt_idx != -1 else max(0, current_idx - max_cells)\\n        history = []\\n        \\n        for idx in range(start_idx, current_idx):\\n            cell = cells[idx]\\n            if cell[\\'cell_type\\'] == \\'code\\':  # Only include code cells\\n                # Skip cells that are prompt cells and nbdev directives\\n                source = cell[\\'source\\'] if isinstance(cell[\\'source\\'], str) else \\'\\'.join(cell[\\'source\\'])\\n                if not source.strip().startswith(\\'%%prompt\\'):\\n                    history.append(f\"Cell[{idx}]:\\\\n{source}\")\\n        \\n        return history\\n        \\n    except Exception as e:\\n        print(f\"Error getting notebook history: {e}\")\\n        return []']"
      ]
     },
     "execution_count": 58,
     "metadata": {},
     "output_type": "execute_result"
    }
   ],
   "source": [
    "nb_hist = get_notebook_history(max_cells=20)\n",
    "nb_hist"
   ]
  },
  {
   "cell_type": "markdown",
   "metadata": {},
   "source": [
    "### Creating history-aware prompt"
   ]
  },
  {
   "cell_type": "code",
   "execution_count": 59,
   "metadata": {},
   "outputs": [],
   "source": [
    "#| export\n",
    "def create_history_aware_prompt(prompt: str, message_history: list = None, max_history: int = 5) -> tuple:\n",
    "    \"\"\"Create a prompt with notebook history context and message history.\n",
    "    \n",
    "    Args:\n",
    "        prompt: The user's prompt\n",
    "        message_history: Previous conversation messages from results.all_messages()\n",
    "        max_history: Maximum number of previous cells to include\n",
    "        \n",
    "    Returns:\n",
    "        Tuple of (enhanced prompt, combined message history)\n",
    "    \"\"\"\n",
    "    try:\n",
    "        ipython = get_ipython()\n",
    "        if not ipython:\n",
    "            return prompt, message_history\n",
    "        \n",
    "        # Get new cells using our optimized get_notebook_history\n",
    "        new_cells = get_notebook_history(max_cells=max_history)\n",
    "        \n",
    "        if not new_cells and not message_history:\n",
    "            return prompt, None\n",
    "            \n",
    "        # Create message history if none exists\n",
    "        from pydantic_ai.messages import (\n",
    "            ModelRequest, ModelResponse, \n",
    "            UserPromptPart, TextPart\n",
    "        )\n",
    "        \n",
    "        messages = []\n",
    "        \n",
    "        # Add existing message history if provided\n",
    "        if message_history:\n",
    "            messages.extend(message_history)\n",
    "        \n",
    "        # Only add context message if we have new cells\n",
    "        if new_cells:\n",
    "            # Create context message with new cells\n",
    "            history_content = \"\\n\\n\".join(new_cells)\n",
    "\n",
    "            context_msg = ModelRequest(parts=[\n",
    "                UserPromptPart(\n",
    "                    content=\"Here is the context of new notebook cells that were added:\\n\" + history_content\n",
    "                )\n",
    "            ])\n",
    "            \n",
    "            # Create response acknowledging new context\n",
    "            context_response = ModelResponse(parts=[\n",
    "                TextPart(\n",
    "                    content=\"I understand the new notebook context. How can I help?\"\n",
    "                )\n",
    "            ])\n",
    "            \n",
    "            messages.extend([context_msg, context_response])\n",
    "                \n",
    "        return prompt, messages\n",
    "        \n",
    "    except Exception as e:\n",
    "        print(f\"Error creating history-aware prompt: {e}\")\n",
    "        return prompt, message_history"
   ]
  },
  {
   "cell_type": "markdown",
   "metadata": {},
   "source": [
    "Testing history-aware prompt"
   ]
  },
  {
   "cell_type": "code",
   "execution_count": 60,
   "metadata": {},
   "outputs": [
    {
     "name": "stdout",
     "output_type": "stream",
     "text": [
      "Error creating history-aware prompt: cannot import name 'ModelRequest' from 'pydantic_ai.messages' (/home/ndendic/WebDev/FH_SQLModel/.venv/lib/python3.12/site-packages/pydantic_ai/messages.py)\n"
     ]
    },
    {
     "data": {
      "text/plain": [
       "('So what you just made for me here?',\n",
       " [SystemPrompt(content=\"\\nYou are a helpful assistant that operates in a Jupyter notebook.\\nYour regular text responses are rendered as cell output.\\nYou can create new cells, edit existing cells, and run code.\\nYou can also use tools to help you with your tasks.\\nToday's date is 2024-12-30.\\n\", role='system'),\n",
       "  UserPrompt(content='Create a function that calculates the factorial of a number with input validation', timestamp=datetime.datetime(2024, 12, 30, 16, 22, 30, 115313, tzinfo=datetime.timezone.utc), role='user'),\n",
       "  ModelStructuredResponse(calls=[ToolCall(tool_name='create_cell', args=ArgsJson(args_json='{\"content\":\"def factorial(n):\\\\n    \\\\\"\\\\\"\\\\\"\\\\n    Calculate the factorial of a non-negative integer.\\\\n    \\\\n    Parameters:\\\\n    n (int): The number to calculate the factorial for. Must be a non-negative integer.\\\\n    \\\\n    Returns:\\\\n    int: The factorial of the number.\\\\n    \\\\n    Raises:\\\\n    ValueError: If n is not a non-negative integer.\\\\n    \\\\\"\\\\\"\\\\\"\\\\n    # Input validation\\\\n    if not isinstance(n, int) or n < 0:\\\\n        raise ValueError(\\\\\"Input must be a non-negative integer.\\\\\")\\\\n    \\\\n    # Base case: factorial of 0 is 1\\\\n    if n == 0:\\\\n        return 1\\\\n    \\\\n    # Recursive case: n * factorial of (n-1)\\\\n    result = 1\\\\n    for i in range(2, n + 1):\\\\n        result *= i\\\\n    return result\\\\n\\\\n# Examples for testing\\\\nprint(factorial(5))  # Should print 120\\\\nprint(factorial(0))  # Should print 1\\\\n# print(factorial(-1))  # This should raise a ValueError\\\\n# print(factorial(3.5))  # This should raise a ValueError\",\"cell_type\":\"code\"}'), tool_id='call_aKptTourarajhMQozgH6lkEt')], timestamp=datetime.datetime(2024, 12, 30, 16, 22, 30, tzinfo=datetime.timezone.utc), role='model-structured-response'),\n",
       "  ToolReturn(tool_name='create_cell', content='Created new code cell', tool_id='call_aKptTourarajhMQozgH6lkEt', timestamp=datetime.datetime(2024, 12, 30, 16, 22, 44, 166625, tzinfo=datetime.timezone.utc), role='tool-return'),\n",
       "  ModelTextResponse(content='I have created a function that calculates the factorial of a number with input validation, ensuring the input is a non-negative integer. You can test this function by running the cell above.', timestamp=datetime.datetime(2024, 12, 30, 16, 22, 44, tzinfo=datetime.timezone.utc), role='model-text-response'),\n",
       "  UserPrompt(content='So what you just made for me here?', timestamp=datetime.datetime(2024, 12, 30, 16, 22, 45, 533687, tzinfo=datetime.timezone.utc), role='user'),\n",
       "  ModelTextResponse(content='I created a Python function named `factorial` that calculates the factorial of a non-negative integer. Here is a brief explanation of what it does:\\n\\n- **Function Definition**: The function `factorial(n)` takes a single argument `n`, which should be a non-negative integer.\\n- **Input Validation**: Before calculating the factorial, the function checks if `n` is a non-negative integer. If not, it raises a `ValueError` with a descriptive message.\\n- **Calculating Factorial**:\\n  - If `n` is 0, the function returns 1. (The factorial of 0 is defined as 1.)\\n  - If `n` is greater than 0, it iteratively calculates the factorial by multiplying numbers from 1 to `n`.\\n- **Test Cases**: There are sample test cases at the end of the function to demonstrate its usage:\\n  - `factorial(5)` calculates 5! and should return 120.\\n  - `factorial(0)` returns 1.\\n  - For `factorial(-1)` and `factorial(3.5)`, it will raise a `ValueError` because the inputs are not valid non-negative integers.\\n\\nYou can run the code cell to see the function in action and test the examples.', timestamp=datetime.datetime(2024, 12, 30, 16, 22, 46, tzinfo=datetime.timezone.utc), role='model-text-response')])"
      ]
     },
     "execution_count": 60,
     "metadata": {},
     "output_type": "execute_result"
    }
   ],
   "source": [
    "create_history_aware_prompt('So what you just made for me here?', result.all_messages(), max_history=20)"
   ]
  },
  {
   "cell_type": "markdown",
   "metadata": {},
   "source": [
    "### Running agent with notebook history"
   ]
  },
  {
   "cell_type": "code",
   "execution_count": 61,
   "metadata": {},
   "outputs": [],
   "source": [
    "#| export\n",
    "from typing import Any\n",
    "def run_with_history(agent: Agent, prompt: str, message_history: list = None, max_history: int = 5) -> Any:\n",
    "    \"\"\"Run the agent with notebook and conversation history context.\n",
    "    \n",
    "    Args:\n",
    "        agent: The PydanticAI agent\n",
    "        prompt: The user's prompt\n",
    "        message_history: Previous conversation messages\n",
    "        max_history: Maximum number of previous cells to include\n",
    "        \n",
    "    Returns:\n",
    "        Agent run result\n",
    "    \"\"\"\n",
    "    prompt, combined_history = create_history_aware_prompt(\n",
    "        prompt, \n",
    "        message_history=message_history, \n",
    "        max_history=max_history\n",
    "    )\n",
    "    return agent.run_sync(prompt, message_history=combined_history)"
   ]
  },
  {
   "cell_type": "markdown",
   "metadata": {},
   "source": [
    "Testing run_with_history"
   ]
  },
  {
   "cell_type": "code",
   "execution_count": 62,
   "metadata": {},
   "outputs": [
    {
     "name": "stdout",
     "output_type": "stream",
     "text": [
      "Error creating history-aware prompt: cannot import name 'ModelRequest' from 'pydantic_ai.messages' (/home/ndendic/WebDev/FH_SQLModel/.venv/lib/python3.12/site-packages/pydantic_ai/messages.py)\n"
     ]
    },
    {
     "data": {
      "text/markdown": [
       "In this notebook, we've set up a Python function to calculate the factorial of a number with input validation. Specifically:\n",
       "\n",
       "1. **Function Implementation**: We implemented a function named `factorial` that takes an integer input and computes its factorial, provided the input is a non-negative integer. Any invalid inputs will result in a `ValueError`.\n",
       "\n",
       "2. **Test Cases**: We included a few example calls to the `factorial` function to demonstrate its functionality and validate error handling.\n",
       "\n",
       "The notebook is interactive, allowing you to run the code cells to see the function in action and test different inputs. If you want to execute the function or modify it further, you can run the appropriate cells within the notebook environment. This setup is typical for testing and demonstrating small pieces of code interactively."
      ],
      "text/plain": [
       "<IPython.core.display.Markdown object>"
      ]
     },
     "execution_count": 62,
     "metadata": {},
     "output_type": "execute_result"
    }
   ],
   "source": [
    "result = run_with_history(notebook_agent, 'So what is going on in this notebook?',result.all_messages(), max_history=20)\n",
    "Markdown(result.data)\n"
   ]
  },
  {
   "cell_type": "code",
   "execution_count": 63,
   "metadata": {},
   "outputs": [
    {
     "data": {
      "text/plain": [
       "[SystemPrompt(content=\"\\nYou are a helpful assistant that operates in a Jupyter notebook.\\nYour regular text responses are rendered as cell output.\\nYou can create new cells, edit existing cells, and run code.\\nYou can also use tools to help you with your tasks.\\nToday's date is 2024-12-30.\\n\", role='system'),\n",
       " UserPrompt(content='Create a function that calculates the factorial of a number with input validation', timestamp=datetime.datetime(2024, 12, 30, 16, 22, 30, 115313, tzinfo=datetime.timezone.utc), role='user'),\n",
       " ModelStructuredResponse(calls=[ToolCall(tool_name='create_cell', args=ArgsJson(args_json='{\"content\":\"def factorial(n):\\\\n    \\\\\"\\\\\"\\\\\"\\\\n    Calculate the factorial of a non-negative integer.\\\\n    \\\\n    Parameters:\\\\n    n (int): The number to calculate the factorial for. Must be a non-negative integer.\\\\n    \\\\n    Returns:\\\\n    int: The factorial of the number.\\\\n    \\\\n    Raises:\\\\n    ValueError: If n is not a non-negative integer.\\\\n    \\\\\"\\\\\"\\\\\"\\\\n    # Input validation\\\\n    if not isinstance(n, int) or n < 0:\\\\n        raise ValueError(\\\\\"Input must be a non-negative integer.\\\\\")\\\\n    \\\\n    # Base case: factorial of 0 is 1\\\\n    if n == 0:\\\\n        return 1\\\\n    \\\\n    # Recursive case: n * factorial of (n-1)\\\\n    result = 1\\\\n    for i in range(2, n + 1):\\\\n        result *= i\\\\n    return result\\\\n\\\\n# Examples for testing\\\\nprint(factorial(5))  # Should print 120\\\\nprint(factorial(0))  # Should print 1\\\\n# print(factorial(-1))  # This should raise a ValueError\\\\n# print(factorial(3.5))  # This should raise a ValueError\",\"cell_type\":\"code\"}'), tool_id='call_aKptTourarajhMQozgH6lkEt')], timestamp=datetime.datetime(2024, 12, 30, 16, 22, 30, tzinfo=datetime.timezone.utc), role='model-structured-response'),\n",
       " ToolReturn(tool_name='create_cell', content='Created new code cell', tool_id='call_aKptTourarajhMQozgH6lkEt', timestamp=datetime.datetime(2024, 12, 30, 16, 22, 44, 166625, tzinfo=datetime.timezone.utc), role='tool-return'),\n",
       " ModelTextResponse(content='I have created a function that calculates the factorial of a number with input validation, ensuring the input is a non-negative integer. You can test this function by running the cell above.', timestamp=datetime.datetime(2024, 12, 30, 16, 22, 44, tzinfo=datetime.timezone.utc), role='model-text-response'),\n",
       " UserPrompt(content='So what you just made for me here?', timestamp=datetime.datetime(2024, 12, 30, 16, 22, 45, 533687, tzinfo=datetime.timezone.utc), role='user'),\n",
       " ModelTextResponse(content='I created a Python function named `factorial` that calculates the factorial of a non-negative integer. Here is a brief explanation of what it does:\\n\\n- **Function Definition**: The function `factorial(n)` takes a single argument `n`, which should be a non-negative integer.\\n- **Input Validation**: Before calculating the factorial, the function checks if `n` is a non-negative integer. If not, it raises a `ValueError` with a descriptive message.\\n- **Calculating Factorial**:\\n  - If `n` is 0, the function returns 1. (The factorial of 0 is defined as 1.)\\n  - If `n` is greater than 0, it iteratively calculates the factorial by multiplying numbers from 1 to `n`.\\n- **Test Cases**: There are sample test cases at the end of the function to demonstrate its usage:\\n  - `factorial(5)` calculates 5! and should return 120.\\n  - `factorial(0)` returns 1.\\n  - For `factorial(-1)` and `factorial(3.5)`, it will raise a `ValueError` because the inputs are not valid non-negative integers.\\n\\nYou can run the code cell to see the function in action and test the examples.', timestamp=datetime.datetime(2024, 12, 30, 16, 22, 46, tzinfo=datetime.timezone.utc), role='model-text-response'),\n",
       " UserPrompt(content='So what is going on in this notebook?', timestamp=datetime.datetime(2024, 12, 30, 16, 22, 51, 260694, tzinfo=datetime.timezone.utc), role='user'),\n",
       " ModelTextResponse(content=\"In this notebook, we've set up a Python function to calculate the factorial of a number with input validation. Specifically:\\n\\n1. **Function Implementation**: We implemented a function named `factorial` that takes an integer input and computes its factorial, provided the input is a non-negative integer. Any invalid inputs will result in a `ValueError`.\\n\\n2. **Test Cases**: We included a few example calls to the `factorial` function to demonstrate its functionality and validate error handling.\\n\\nThe notebook is interactive, allowing you to run the code cells to see the function in action and test different inputs. If you want to execute the function or modify it further, you can run the appropriate cells within the notebook environment. This setup is typical for testing and demonstrating small pieces of code interactively.\", timestamp=datetime.datetime(2024, 12, 30, 16, 22, 51, tzinfo=datetime.timezone.utc), role='model-text-response')]"
      ]
     },
     "execution_count": 63,
     "metadata": {},
     "output_type": "execute_result"
    }
   ],
   "source": [
    "result.all_messages()"
   ]
  },
  {
   "cell_type": "markdown",
   "metadata": {},
   "source": [
    "### Creating prompt cell magic"
   ]
  },
  {
   "cell_type": "code",
   "execution_count": 64,
   "metadata": {},
   "outputs": [],
   "source": [
    "#| export\n",
    "from IPython.core.magic import register_cell_magic\n",
    "\n",
    "@register_cell_magic\n",
    "def prompt(line, cell):\n",
    "    \"\"\"Cell magic to create prompt cells that interact with the AI agent.\n",
    "    \n",
    "    Usage:\n",
    "        %%prompt\n",
    "        Your prompt text here\n",
    "    \"\"\"\n",
    "    try:\n",
    "        # Get the last result's message history if it exists\n",
    "        message_history = None\n",
    "        if 'last_prompt_result' in get_ipython().user_ns:\n",
    "            last_result = get_ipython().user_ns['last_prompt_result']\n",
    "            if hasattr(last_result, 'all_messages'):\n",
    "                message_history = last_result.all_messages()\n",
    "        \n",
    "        # Run the prompt through our agent with history context\n",
    "        result = run_with_history(\n",
    "            notebook_agent, \n",
    "            cell.strip(), \n",
    "            message_history=message_history\n",
    "        )\n",
    "        \n",
    "        # Store the result for next time\n",
    "        get_ipython().user_ns['last_prompt_result'] = result\n",
    "        \n",
    "        # Display the agent's response\n",
    "        return Markdown(result.data)\n",
    "    except Exception as e:\n",
    "        return f\"Error processing prompt: {str(e)}\""
   ]
  },
  {
   "cell_type": "markdown",
   "metadata": {},
   "source": [
    "Testing prompt cell magic"
   ]
  },
  {
   "cell_type": "code",
   "execution_count": 65,
   "metadata": {},
   "outputs": [
    {
     "name": "stdout",
     "output_type": "stream",
     "text": [
      "Error creating history-aware prompt: cannot import name 'ModelRequest' from 'pydantic_ai.messages' (/home/ndendic/WebDev/FH_SQLModel/.venv/lib/python3.12/site-packages/pydantic_ai/messages.py)\n"
     ]
    },
    {
     "data": {
      "text/markdown": [
       "This notebook currently consists of a single interaction where you're asking about the notebook's purpose, but it doesn't have any specific content or code yet related to a particular topic. If you want to add specific content or have particular instructions or tasks you'd like to perform in the notebook, please let me know!"
      ],
      "text/plain": [
       "<IPython.core.display.Markdown object>"
      ]
     },
     "execution_count": 65,
     "metadata": {},
     "output_type": "execute_result"
    }
   ],
   "source": [
    "%%prompt\n",
    "what this notebook is all about?"
   ]
  },
  {
   "cell_type": "code",
   "execution_count": 66,
   "metadata": {},
   "outputs": [
    {
     "data": {
      "text/plain": [
       "[SystemPrompt(content=\"\\nYou are a helpful assistant that operates in a Jupyter notebook.\\nYour regular text responses are rendered as cell output.\\nYou can create new cells, edit existing cells, and run code.\\nYou can also use tools to help you with your tasks.\\nToday's date is 2024-12-30.\\n\", role='system'),\n",
       " UserPrompt(content='what this notebook is all about?', timestamp=datetime.datetime(2024, 12, 30, 16, 22, 54, 48018, tzinfo=datetime.timezone.utc), role='user'),\n",
       " ModelTextResponse(content=\"This notebook currently consists of a single interaction where you're asking about the notebook's purpose, but it doesn't have any specific content or code yet related to a particular topic. If you want to add specific content or have particular instructions or tasks you'd like to perform in the notebook, please let me know!\", timestamp=datetime.datetime(2024, 12, 30, 16, 22, 54, tzinfo=datetime.timezone.utc), role='model-text-response')]"
      ]
     },
     "execution_count": 66,
     "metadata": {},
     "output_type": "execute_result"
    }
   ],
   "source": [
    "last_prompt_result.all_messages()"
   ]
  },
  {
   "cell_type": "code",
   "execution_count": 90,
   "metadata": {},
   "outputs": [
    {
     "data": {
      "text/plain": [
       "\"This notebook currently consists of a single interaction where you're asking about the notebook's purpose, but it doesn't have any specific content or code yet related to a particular topic. If you want to add specific content or have particular instructions or tasks you'd like to perform in the notebook, please let me know!\""
      ]
     },
     "execution_count": 67,
     "metadata": {},
     "output_type": "execute_result"
    }
   ],
   "source": [
    "def last_prompt_result_data():\n",
    "    return last_prompt_result.data\n",
    "last_prompt_result_data()"
   ]
  },
  {
   "cell_type": "code",
   "execution_count": 67,
   "metadata": {},
   "outputs": [
    {
     "data": {
      "text/plain": [
       "[SystemPrompt(content=\"\\nYou are a helpful assistant that operates in a Jupyter notebook.\\nYour regular text responses are rendered as cell output.\\nYou can create new cells, edit existing cells, and run code.\\nYou can also use tools to help you with your tasks.\\nToday's date is 2024-12-30.\\n\", role='system'),\n",
       " UserPrompt(content='what this notebook is all about?', timestamp=datetime.datetime(2024, 12, 30, 16, 22, 54, 48018, tzinfo=datetime.timezone.utc), role='user'),\n",
       " ModelTextResponse(content=\"This notebook currently consists of a single interaction where you're asking about the notebook's purpose, but it doesn't have any specific content or code yet related to a particular topic. If you want to add specific content or have particular instructions or tasks you'd like to perform in the notebook, please let me know!\", timestamp=datetime.datetime(2024, 12, 30, 16, 22, 54, tzinfo=datetime.timezone.utc), role='model-text-response')]"
      ]
     },
     "execution_count": 68,
     "metadata": {},
     "output_type": "execute_result"
    }
   ],
   "source": [
    "def all_messages():\n",
    "    return last_prompt_result.all_messages()\n",
    "all_messages()"
   ]
  },
  {
   "cell_type": "code",
   "execution_count": 69,
   "metadata": {},
   "outputs": [
    {
     "name": "stdout",
     "output_type": "stream",
     "text": [
      "Error creating history-aware prompt: cannot import name 'ModelRequest' from 'pydantic_ai.messages' (/home/ndendic/WebDev/FH_SQLModel/.venv/lib/python3.12/site-packages/pydantic_ai/messages.py)\n"
     ]
    },
    {
     "data": {
      "text/markdown": [
       "The last addition to this notebook was your question, \"what this notebook is all about?\" There haven't been any other specific entries, code, or content added besides our interaction. If you want to include more content or perform tasks, feel free to specify!"
      ],
      "text/plain": [
       "<IPython.core.display.Markdown object>"
      ]
     },
     "execution_count": 69,
     "metadata": {},
     "output_type": "execute_result"
    }
   ],
   "source": [
    "%%prompt\n",
    "tell me what have I added last to this notebook?"
   ]
  },
  {
   "cell_type": "code",
   "execution_count": 69,
   "metadata": {},
   "outputs": [
    {
     "data": {
      "text/plain": [
       "[SystemPrompt(content=\"\\nYou are a helpful assistant that operates in a Jupyter notebook.\\nYour regular text responses are rendered as cell output.\\nYou can create new cells, edit existing cells, and run code.\\nYou can also use tools to help you with your tasks.\\nToday's date is 2024-12-30.\\n\", role='system'),\n",
       " UserPrompt(content='what this notebook is all about?', timestamp=datetime.datetime(2024, 12, 30, 16, 22, 54, 48018, tzinfo=datetime.timezone.utc), role='user'),\n",
       " ModelTextResponse(content=\"This notebook currently consists of a single interaction where you're asking about the notebook's purpose, but it doesn't have any specific content or code yet related to a particular topic. If you want to add specific content or have particular instructions or tasks you'd like to perform in the notebook, please let me know!\", timestamp=datetime.datetime(2024, 12, 30, 16, 22, 54, tzinfo=datetime.timezone.utc), role='model-text-response'),\n",
       " UserPrompt(content='tell me what have I added last to this notebook?', timestamp=datetime.datetime(2024, 12, 30, 16, 22, 55, 411291, tzinfo=datetime.timezone.utc), role='user'),\n",
       " ModelTextResponse(content='The last addition to this notebook was your question, \"what this notebook is all about?\" There haven\\'t been any other specific entries, code, or content added besides our interaction. If you want to include more content or perform tasks, feel free to specify!', timestamp=datetime.datetime(2024, 12, 30, 16, 22, 55, tzinfo=datetime.timezone.utc), role='model-text-response')]"
      ]
     },
     "execution_count": 70,
     "metadata": {},
     "output_type": "execute_result"
    }
   ],
   "source": [
    "all_messages()"
   ]
  },
  {
   "cell_type": "code",
   "execution_count": 73,
   "metadata": {},
   "outputs": [],
   "source": [
    "#| hide\n",
    "import nbdev; nbdev.nbdev_export()"
   ]
  }
 ],
 "metadata": {
  "kernelspec": {
   "display_name": ".venv",
   "language": "python",
   "name": "python3"
  },
  "language_info": {
   "codemirror_mode": {
    "name": "ipython",
    "version": 3
   },
   "file_extension": ".py",
   "mimetype": "text/x-python",
   "name": "python",
   "nbconvert_exporter": "python",
   "pygments_lexer": "ipython3",
   "version": "3.12.7"
  }
 },
 "nbformat": 4,
 "nbformat_minor": 2
}
